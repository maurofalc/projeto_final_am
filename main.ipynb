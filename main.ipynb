{
 "cells": [
  {
   "cell_type": "code",
   "execution_count": 1,
   "metadata": {},
   "outputs": [],
   "source": [
    "import pandas as pd"
   ]
  },
  {
   "attachments": {},
   "cell_type": "markdown",
   "metadata": {},
   "source": [
    "#### data 1"
   ]
  },
  {
   "cell_type": "code",
   "execution_count": 2,
   "metadata": {},
   "outputs": [
    {
     "name": "stdout",
     "output_type": "stream",
     "text": [
      "           SHORT-LINE-DENSITY-5  SHORT-LINE-DENSITY-2  VEDGE-MEAN  VEDGE-SD  \\\n",
      "BRICKFACE              0.000000                   0.0    0.277778  0.062963   \n",
      "BRICKFACE              0.000000                   0.0    0.333333  0.266667   \n",
      "BRICKFACE              0.000000                   0.0    0.277778  0.107407   \n",
      "BRICKFACE              0.000000                   0.0    0.500000  0.166667   \n",
      "BRICKFACE              0.000000                   0.0    0.722222  0.374074   \n",
      "...                         ...                   ...         ...       ...   \n",
      "GRASS                  0.111111                   0.0    1.888889  1.851851   \n",
      "GRASS                  0.000000                   0.0    1.166667  0.744444   \n",
      "GRASS                  0.000000                   0.0    2.444444  6.829628   \n",
      "GRASS                  0.111111                   0.0    1.055556  0.862963   \n",
      "GRASS                  0.000000                   0.0    0.500000  0.349603   \n",
      "\n",
      "           HEDGE-MEAN  HEDGE-SD  \n",
      "BRICKFACE    0.666667  0.311111  \n",
      "BRICKFACE    0.500000  0.077778  \n",
      "BRICKFACE    0.833333  0.522222  \n",
      "BRICKFACE    1.111111  0.474074  \n",
      "BRICKFACE    0.888889  0.429629  \n",
      "...               ...       ...  \n",
      "GRASS        2.000000  0.711110  \n",
      "GRASS        1.166667  0.655555  \n",
      "GRASS        3.333333  7.599998  \n",
      "GRASS        2.444444  5.007407  \n",
      "GRASS        2.388889  2.080776  \n",
      "\n",
      "[210 rows x 6 columns]\n"
     ]
    }
   ],
   "source": [
    "cols1 = ['SHORT-LINE-DENSITY-5',  'SHORT-LINE-DENSITY-2', 'VEDGE-MEAN', 'VEDGE-SD', 'HEDGE-MEAN', 'HEDGE-SD']\n",
    "train1 = pd.read_csv('dataset/segmentation.data', header=2, usecols=cols1)\n",
    "print(train1)"
   ]
  },
  {
   "cell_type": "code",
   "execution_count": 3,
   "metadata": {},
   "outputs": [
    {
     "name": "stdout",
     "output_type": "stream",
     "text": [
      "        SHORT-LINE-DENSITY-5  SHORT-LINE-DENSITY-2  VEDGE-MEAN  VEDGE-SD  \\\n",
      "GRASS               0.000000                   0.0    1.000000  0.666667   \n",
      "GRASS               0.000000                   0.0    1.111111  0.720082   \n",
      "GRASS               0.000000                   0.0    3.388889  2.195113   \n",
      "GRASS               0.000000                   0.0    1.277778  1.254621   \n",
      "GRASS               0.000000                   0.0    1.166667  0.691215   \n",
      "...                      ...                   ...         ...       ...   \n",
      "CEMENT              0.000000                   0.0    0.944445  0.862963   \n",
      "CEMENT              0.111111                   0.0    1.611111  2.062962   \n",
      "CEMENT              0.000000                   0.0    0.555555  0.251852   \n",
      "CEMENT              0.000000                   0.0    2.166667  1.633334   \n",
      "CEMENT              0.111111                   0.0    1.388889  1.129630   \n",
      "\n",
      "        HEDGE-MEAN  HEDGE-SD  \n",
      "GRASS     1.222222  1.186342  \n",
      "GRASS     1.444444  0.750309  \n",
      "GRASS     3.000000  1.520234  \n",
      "GRASS     1.000000  0.894427  \n",
      "GRASS     1.166667  1.005540  \n",
      "...            ...       ...  \n",
      "CEMENT    0.833333  0.611111  \n",
      "CEMENT    0.333333  0.133333  \n",
      "CEMENT    0.777778  0.162963  \n",
      "CEMENT    1.388889  0.418518  \n",
      "CEMENT    2.000000  0.888889  \n",
      "\n",
      "[2100 rows x 6 columns]\n"
     ]
    }
   ],
   "source": [
    "test1 = pd.read_csv('dataset/segmentation.test', header=2, usecols=cols1)\n",
    "print(test1)"
   ]
  },
  {
   "cell_type": "code",
   "execution_count": 4,
   "metadata": {},
   "outputs": [
    {
     "name": "stdout",
     "output_type": "stream",
     "text": [
      "           SHORT-LINE-DENSITY-5  SHORT-LINE-DENSITY-2  VEDGE-MEAN  VEDGE-SD  \\\n",
      "BRICKFACE              0.000000                   0.0    0.277778  0.062963   \n",
      "BRICKFACE              0.000000                   0.0    0.333333  0.266667   \n",
      "BRICKFACE              0.000000                   0.0    0.277778  0.107407   \n",
      "BRICKFACE              0.000000                   0.0    0.500000  0.166667   \n",
      "BRICKFACE              0.000000                   0.0    0.722222  0.374074   \n",
      "...                         ...                   ...         ...       ...   \n",
      "CEMENT                 0.000000                   0.0    0.944445  0.862963   \n",
      "CEMENT                 0.111111                   0.0    1.611111  2.062962   \n",
      "CEMENT                 0.000000                   0.0    0.555555  0.251852   \n",
      "CEMENT                 0.000000                   0.0    2.166667  1.633334   \n",
      "CEMENT                 0.111111                   0.0    1.388889  1.129630   \n",
      "\n",
      "           HEDGE-MEAN  HEDGE-SD  \n",
      "BRICKFACE    0.666667  0.311111  \n",
      "BRICKFACE    0.500000  0.077778  \n",
      "BRICKFACE    0.833333  0.522222  \n",
      "BRICKFACE    1.111111  0.474074  \n",
      "BRICKFACE    0.888889  0.429629  \n",
      "...               ...       ...  \n",
      "CEMENT       0.833333  0.611111  \n",
      "CEMENT       0.333333  0.133333  \n",
      "CEMENT       0.777778  0.162963  \n",
      "CEMENT       1.388889  0.418518  \n",
      "CEMENT       2.000000  0.888889  \n",
      "\n",
      "[2310 rows x 6 columns]\n"
     ]
    }
   ],
   "source": [
    "data1 = pd.concat([train1, test1])\n",
    "print(data1)"
   ]
  },
  {
   "attachments": {},
   "cell_type": "markdown",
   "metadata": {},
   "source": [
    "#### data 2"
   ]
  },
  {
   "cell_type": "code",
   "execution_count": 5,
   "metadata": {},
   "outputs": [
    {
     "name": "stdout",
     "output_type": "stream",
     "text": [
      "           INTENSITY-MEAN  RAWRED-MEAN  RAWBLUE-MEAN  RAWGREEN-MEAN  \\\n",
      "BRICKFACE        6.185185     7.333334      7.666666       3.555556   \n",
      "BRICKFACE        6.666666     8.333334      7.777778       3.888889   \n",
      "BRICKFACE        6.111111     7.555555      7.222222       3.555556   \n",
      "BRICKFACE        5.851852     7.777778      6.444445       3.333333   \n",
      "BRICKFACE        6.037037     7.000000      7.666666       3.444444   \n",
      "...                   ...          ...           ...            ...   \n",
      "GRASS           13.333333     9.888889     12.111111      18.000000   \n",
      "GRASS           13.703704    10.666667     12.666667      17.777779   \n",
      "GRASS           16.074074    13.111111     16.666668      18.444445   \n",
      "GRASS           14.148149    10.888889     13.000000      18.555555   \n",
      "GRASS           12.962963    11.555555      9.777778      17.555555   \n",
      "\n",
      "           EXRED-MEAN  EXBLUE-MEAN  EXGREEN-MEAN  VALUE-MEAN  SATURATION-MEAN  \\\n",
      "BRICKFACE    3.444444     4.444445     -7.888889    7.777778         0.545635   \n",
      "BRICKFACE    5.000000     3.333333     -8.333333    8.444445         0.538580   \n",
      "BRICKFACE    4.333334     3.333333     -7.666666    7.555555         0.532628   \n",
      "BRICKFACE    5.777778     1.777778     -7.555555    7.777778         0.573633   \n",
      "BRICKFACE    2.888889     4.888889     -7.777778    7.888889         0.562919   \n",
      "...               ...          ...           ...         ...              ...   \n",
      "GRASS      -10.333333    -3.666667     14.000000   18.000000         0.452229   \n",
      "GRASS       -9.111111    -3.111111     12.222222   17.777779         0.401347   \n",
      "GRASS       -8.888889     1.777778      7.111111   18.555555         0.292729   \n",
      "GRASS       -9.777778    -3.444444     13.222222   18.555555         0.421621   \n",
      "GRASS       -4.222222    -9.555555     13.777778   17.555555         0.445418   \n",
      "\n",
      "           HUE-MEAN  \n",
      "BRICKFACE -1.121818  \n",
      "BRICKFACE -0.924817  \n",
      "BRICKFACE -0.965946  \n",
      "BRICKFACE -0.744272  \n",
      "BRICKFACE -1.175773  \n",
      "...             ...  \n",
      "GRASS      2.368311  \n",
      "GRASS      2.382684  \n",
      "GRASS      2.789800  \n",
      "GRASS      2.392487  \n",
      "GRASS      1.838850  \n",
      "\n",
      "[210 rows x 10 columns]\n"
     ]
    }
   ],
   "source": [
    "cols2 = ['INTENSITY-MEAN','RAWRED-MEAN','RAWBLUE-MEAN','RAWGREEN-MEAN','EXRED-MEAN','EXBLUE-MEAN','EXGREEN-MEAN','VALUE-MEAN','SATURATION-MEAN','HUE-MEAN']\n",
    "train2 = pd.read_csv('dataset/segmentation.data', header=2, usecols=cols2)\n",
    "print(train2)"
   ]
  },
  {
   "cell_type": "code",
   "execution_count": 6,
   "metadata": {},
   "outputs": [
    {
     "name": "stdout",
     "output_type": "stream",
     "text": [
      "        INTENSITY-MEAN  RAWRED-MEAN  RAWBLUE-MEAN  RAWGREEN-MEAN  EXRED-MEAN  \\\n",
      "GRASS        12.925926    10.888889      9.222222      18.666668   -6.111111   \n",
      "GRASS        13.740741    11.666667     10.333334      19.222221   -6.222222   \n",
      "GRASS        12.259259    10.333334      9.333334      17.111110   -5.777778   \n",
      "GRASS        12.703704    11.000000      9.000000      18.111110   -5.111111   \n",
      "GRASS        15.592592    13.888889     11.777778      21.111110   -5.111111   \n",
      "...                ...          ...           ...            ...         ...   \n",
      "CEMENT        7.962963     6.333334     11.888889       5.666666   -4.888889   \n",
      "CEMENT        8.370370     6.666666     12.000000       6.444445   -5.111111   \n",
      "CEMENT        7.148148     5.555555     10.888889       5.000000   -4.777778   \n",
      "CEMENT        8.444445     7.000000     12.222222       6.111111   -4.333334   \n",
      "CEMENT       10.037037     8.000000     14.555555       7.555555   -6.111111   \n",
      "\n",
      "        EXBLUE-MEAN  EXGREEN-MEAN  VALUE-MEAN  SATURATION-MEAN  HUE-MEAN  \n",
      "GRASS    -11.111111     17.222221   18.666668         0.508139  1.910864  \n",
      "GRASS    -10.222222     16.444445   19.222221         0.463329  1.941465  \n",
      "GRASS     -8.777778     14.555555   17.111110         0.480149  1.987902  \n",
      "GRASS    -11.111111     16.222221   18.111110         0.500966  1.875362  \n",
      "GRASS    -11.444445     16.555555   21.111110         0.442661  1.863654  \n",
      "...             ...           ...         ...              ...       ...  \n",
      "CEMENT    11.777778     -6.888889   11.888889         0.520578 -1.982834  \n",
      "CEMENT    10.888889     -5.777778   12.000000         0.484805 -2.044946  \n",
      "CEMENT    11.222222     -6.444445   10.888889         0.540918 -1.996307  \n",
      "CEMENT    11.333333     -7.000000   12.222222         0.503086 -1.943449  \n",
      "CEMENT    13.555555     -7.444445   14.555555         0.479931 -2.029312  \n",
      "\n",
      "[2100 rows x 10 columns]\n"
     ]
    }
   ],
   "source": [
    "test2 = pd.read_csv('dataset/segmentation.test', header=2, usecols=cols2)\n",
    "print(test2)"
   ]
  },
  {
   "cell_type": "code",
   "execution_count": 7,
   "metadata": {},
   "outputs": [
    {
     "name": "stdout",
     "output_type": "stream",
     "text": [
      "           INTENSITY-MEAN  RAWRED-MEAN  RAWBLUE-MEAN  RAWGREEN-MEAN  \\\n",
      "BRICKFACE        6.185185     7.333334      7.666666       3.555556   \n",
      "BRICKFACE        6.666666     8.333334      7.777778       3.888889   \n",
      "BRICKFACE        6.111111     7.555555      7.222222       3.555556   \n",
      "BRICKFACE        5.851852     7.777778      6.444445       3.333333   \n",
      "BRICKFACE        6.037037     7.000000      7.666666       3.444444   \n",
      "...                   ...          ...           ...            ...   \n",
      "CEMENT           7.962963     6.333334     11.888889       5.666666   \n",
      "CEMENT           8.370370     6.666666     12.000000       6.444445   \n",
      "CEMENT           7.148148     5.555555     10.888889       5.000000   \n",
      "CEMENT           8.444445     7.000000     12.222222       6.111111   \n",
      "CEMENT          10.037037     8.000000     14.555555       7.555555   \n",
      "\n",
      "           EXRED-MEAN  EXBLUE-MEAN  EXGREEN-MEAN  VALUE-MEAN  SATURATION-MEAN  \\\n",
      "BRICKFACE    3.444444     4.444445     -7.888889    7.777778         0.545635   \n",
      "BRICKFACE    5.000000     3.333333     -8.333333    8.444445         0.538580   \n",
      "BRICKFACE    4.333334     3.333333     -7.666666    7.555555         0.532628   \n",
      "BRICKFACE    5.777778     1.777778     -7.555555    7.777778         0.573633   \n",
      "BRICKFACE    2.888889     4.888889     -7.777778    7.888889         0.562919   \n",
      "...               ...          ...           ...         ...              ...   \n",
      "CEMENT      -4.888889    11.777778     -6.888889   11.888889         0.520578   \n",
      "CEMENT      -5.111111    10.888889     -5.777778   12.000000         0.484805   \n",
      "CEMENT      -4.777778    11.222222     -6.444445   10.888889         0.540918   \n",
      "CEMENT      -4.333334    11.333333     -7.000000   12.222222         0.503086   \n",
      "CEMENT      -6.111111    13.555555     -7.444445   14.555555         0.479931   \n",
      "\n",
      "           HUE-MEAN  \n",
      "BRICKFACE -1.121818  \n",
      "BRICKFACE -0.924817  \n",
      "BRICKFACE -0.965946  \n",
      "BRICKFACE -0.744272  \n",
      "BRICKFACE -1.175773  \n",
      "...             ...  \n",
      "CEMENT    -1.982834  \n",
      "CEMENT    -2.044946  \n",
      "CEMENT    -1.996307  \n",
      "CEMENT    -1.943449  \n",
      "CEMENT    -2.029312  \n",
      "\n",
      "[2310 rows x 10 columns]\n"
     ]
    }
   ],
   "source": [
    "data2 = pd.concat([train2, test2])\n",
    "print(data2)"
   ]
  },
  {
   "attachments": {},
   "cell_type": "markdown",
   "metadata": {},
   "source": [
    "#### data 3"
   ]
  },
  {
   "cell_type": "code",
   "execution_count": 8,
   "metadata": {},
   "outputs": [
    {
     "name": "stdout",
     "output_type": "stream",
     "text": [
      "           SHORT-LINE-DENSITY-5  SHORT-LINE-DENSITY-2  VEDGE-MEAN  VEDGE-SD  \\\n",
      "BRICKFACE              0.000000                   0.0    0.277778  0.062963   \n",
      "BRICKFACE              0.000000                   0.0    0.333333  0.266667   \n",
      "BRICKFACE              0.000000                   0.0    0.277778  0.107407   \n",
      "BRICKFACE              0.000000                   0.0    0.500000  0.166667   \n",
      "BRICKFACE              0.000000                   0.0    0.722222  0.374074   \n",
      "...                         ...                   ...         ...       ...   \n",
      "GRASS                  0.111111                   0.0    1.888889  1.851851   \n",
      "GRASS                  0.000000                   0.0    1.166667  0.744444   \n",
      "GRASS                  0.000000                   0.0    2.444444  6.829628   \n",
      "GRASS                  0.111111                   0.0    1.055556  0.862963   \n",
      "GRASS                  0.000000                   0.0    0.500000  0.349603   \n",
      "\n",
      "           HEDGE-MEAN  HEDGE-SD  INTENSITY-MEAN  RAWRED-MEAN  RAWBLUE-MEAN  \\\n",
      "BRICKFACE    0.666667  0.311111        6.185185     7.333334      7.666666   \n",
      "BRICKFACE    0.500000  0.077778        6.666666     8.333334      7.777778   \n",
      "BRICKFACE    0.833333  0.522222        6.111111     7.555555      7.222222   \n",
      "BRICKFACE    1.111111  0.474074        5.851852     7.777778      6.444445   \n",
      "BRICKFACE    0.888889  0.429629        6.037037     7.000000      7.666666   \n",
      "...               ...       ...             ...          ...           ...   \n",
      "GRASS        2.000000  0.711110       13.333333     9.888889     12.111111   \n",
      "GRASS        1.166667  0.655555       13.703704    10.666667     12.666667   \n",
      "GRASS        3.333333  7.599998       16.074074    13.111111     16.666668   \n",
      "GRASS        2.444444  5.007407       14.148149    10.888889     13.000000   \n",
      "GRASS        2.388889  2.080776       12.962963    11.555555      9.777778   \n",
      "\n",
      "           RAWGREEN-MEAN  EXRED-MEAN  EXBLUE-MEAN  EXGREEN-MEAN  VALUE-MEAN  \\\n",
      "BRICKFACE       3.555556    3.444444     4.444445     -7.888889    7.777778   \n",
      "BRICKFACE       3.888889    5.000000     3.333333     -8.333333    8.444445   \n",
      "BRICKFACE       3.555556    4.333334     3.333333     -7.666666    7.555555   \n",
      "BRICKFACE       3.333333    5.777778     1.777778     -7.555555    7.777778   \n",
      "BRICKFACE       3.444444    2.888889     4.888889     -7.777778    7.888889   \n",
      "...                  ...         ...          ...           ...         ...   \n",
      "GRASS          18.000000  -10.333333    -3.666667     14.000000   18.000000   \n",
      "GRASS          17.777779   -9.111111    -3.111111     12.222222   17.777779   \n",
      "GRASS          18.444445   -8.888889     1.777778      7.111111   18.555555   \n",
      "GRASS          18.555555   -9.777778    -3.444444     13.222222   18.555555   \n",
      "GRASS          17.555555   -4.222222    -9.555555     13.777778   17.555555   \n",
      "\n",
      "           SATURATION-MEAN  HUE-MEAN  \n",
      "BRICKFACE         0.545635 -1.121818  \n",
      "BRICKFACE         0.538580 -0.924817  \n",
      "BRICKFACE         0.532628 -0.965946  \n",
      "BRICKFACE         0.573633 -0.744272  \n",
      "BRICKFACE         0.562919 -1.175773  \n",
      "...                    ...       ...  \n",
      "GRASS             0.452229  2.368311  \n",
      "GRASS             0.401347  2.382684  \n",
      "GRASS             0.292729  2.789800  \n",
      "GRASS             0.421621  2.392487  \n",
      "GRASS             0.445418  1.838850  \n",
      "\n",
      "[210 rows x 16 columns]\n"
     ]
    }
   ],
   "source": [
    "cols3 = cols1 + cols2\n",
    "train3 = pd.read_csv('dataset/segmentation.data', header=2, usecols=cols3)\n",
    "print(train3)"
   ]
  },
  {
   "cell_type": "code",
   "execution_count": 9,
   "metadata": {},
   "outputs": [
    {
     "name": "stdout",
     "output_type": "stream",
     "text": [
      "        SHORT-LINE-DENSITY-5  SHORT-LINE-DENSITY-2  VEDGE-MEAN  VEDGE-SD  \\\n",
      "GRASS               0.000000                   0.0    1.000000  0.666667   \n",
      "GRASS               0.000000                   0.0    1.111111  0.720082   \n",
      "GRASS               0.000000                   0.0    3.388889  2.195113   \n",
      "GRASS               0.000000                   0.0    1.277778  1.254621   \n",
      "GRASS               0.000000                   0.0    1.166667  0.691215   \n",
      "...                      ...                   ...         ...       ...   \n",
      "CEMENT              0.000000                   0.0    0.944445  0.862963   \n",
      "CEMENT              0.111111                   0.0    1.611111  2.062962   \n",
      "CEMENT              0.000000                   0.0    0.555555  0.251852   \n",
      "CEMENT              0.000000                   0.0    2.166667  1.633334   \n",
      "CEMENT              0.111111                   0.0    1.388889  1.129630   \n",
      "\n",
      "        HEDGE-MEAN  HEDGE-SD  INTENSITY-MEAN  RAWRED-MEAN  RAWBLUE-MEAN  \\\n",
      "GRASS     1.222222  1.186342       12.925926    10.888889      9.222222   \n",
      "GRASS     1.444444  0.750309       13.740741    11.666667     10.333334   \n",
      "GRASS     3.000000  1.520234       12.259259    10.333334      9.333334   \n",
      "GRASS     1.000000  0.894427       12.703704    11.000000      9.000000   \n",
      "GRASS     1.166667  1.005540       15.592592    13.888889     11.777778   \n",
      "...            ...       ...             ...          ...           ...   \n",
      "CEMENT    0.833333  0.611111        7.962963     6.333334     11.888889   \n",
      "CEMENT    0.333333  0.133333        8.370370     6.666666     12.000000   \n",
      "CEMENT    0.777778  0.162963        7.148148     5.555555     10.888889   \n",
      "CEMENT    1.388889  0.418518        8.444445     7.000000     12.222222   \n",
      "CEMENT    2.000000  0.888889       10.037037     8.000000     14.555555   \n",
      "\n",
      "        RAWGREEN-MEAN  EXRED-MEAN  EXBLUE-MEAN  EXGREEN-MEAN  VALUE-MEAN  \\\n",
      "GRASS       18.666668   -6.111111   -11.111111     17.222221   18.666668   \n",
      "GRASS       19.222221   -6.222222   -10.222222     16.444445   19.222221   \n",
      "GRASS       17.111110   -5.777778    -8.777778     14.555555   17.111110   \n",
      "GRASS       18.111110   -5.111111   -11.111111     16.222221   18.111110   \n",
      "GRASS       21.111110   -5.111111   -11.444445     16.555555   21.111110   \n",
      "...               ...         ...          ...           ...         ...   \n",
      "CEMENT       5.666666   -4.888889    11.777778     -6.888889   11.888889   \n",
      "CEMENT       6.444445   -5.111111    10.888889     -5.777778   12.000000   \n",
      "CEMENT       5.000000   -4.777778    11.222222     -6.444445   10.888889   \n",
      "CEMENT       6.111111   -4.333334    11.333333     -7.000000   12.222222   \n",
      "CEMENT       7.555555   -6.111111    13.555555     -7.444445   14.555555   \n",
      "\n",
      "        SATURATION-MEAN  HUE-MEAN  \n",
      "GRASS          0.508139  1.910864  \n",
      "GRASS          0.463329  1.941465  \n",
      "GRASS          0.480149  1.987902  \n",
      "GRASS          0.500966  1.875362  \n",
      "GRASS          0.442661  1.863654  \n",
      "...                 ...       ...  \n",
      "CEMENT         0.520578 -1.982834  \n",
      "CEMENT         0.484805 -2.044946  \n",
      "CEMENT         0.540918 -1.996307  \n",
      "CEMENT         0.503086 -1.943449  \n",
      "CEMENT         0.479931 -2.029312  \n",
      "\n",
      "[2100 rows x 16 columns]\n"
     ]
    }
   ],
   "source": [
    "test3 = pd.read_csv('dataset/segmentation.test', header=2, usecols=cols3)\n",
    "print(test3)"
   ]
  },
  {
   "cell_type": "code",
   "execution_count": 10,
   "metadata": {},
   "outputs": [
    {
     "name": "stdout",
     "output_type": "stream",
     "text": [
      "           SHORT-LINE-DENSITY-5  SHORT-LINE-DENSITY-2  VEDGE-MEAN  VEDGE-SD  \\\n",
      "BRICKFACE              0.000000                   0.0    0.277778  0.062963   \n",
      "BRICKFACE              0.000000                   0.0    0.333333  0.266667   \n",
      "BRICKFACE              0.000000                   0.0    0.277778  0.107407   \n",
      "BRICKFACE              0.000000                   0.0    0.500000  0.166667   \n",
      "BRICKFACE              0.000000                   0.0    0.722222  0.374074   \n",
      "...                         ...                   ...         ...       ...   \n",
      "CEMENT                 0.000000                   0.0    0.944445  0.862963   \n",
      "CEMENT                 0.111111                   0.0    1.611111  2.062962   \n",
      "CEMENT                 0.000000                   0.0    0.555555  0.251852   \n",
      "CEMENT                 0.000000                   0.0    2.166667  1.633334   \n",
      "CEMENT                 0.111111                   0.0    1.388889  1.129630   \n",
      "\n",
      "           HEDGE-MEAN  HEDGE-SD  INTENSITY-MEAN  RAWRED-MEAN  RAWBLUE-MEAN  \\\n",
      "BRICKFACE    0.666667  0.311111        6.185185     7.333334      7.666666   \n",
      "BRICKFACE    0.500000  0.077778        6.666666     8.333334      7.777778   \n",
      "BRICKFACE    0.833333  0.522222        6.111111     7.555555      7.222222   \n",
      "BRICKFACE    1.111111  0.474074        5.851852     7.777778      6.444445   \n",
      "BRICKFACE    0.888889  0.429629        6.037037     7.000000      7.666666   \n",
      "...               ...       ...             ...          ...           ...   \n",
      "CEMENT       0.833333  0.611111        7.962963     6.333334     11.888889   \n",
      "CEMENT       0.333333  0.133333        8.370370     6.666666     12.000000   \n",
      "CEMENT       0.777778  0.162963        7.148148     5.555555     10.888889   \n",
      "CEMENT       1.388889  0.418518        8.444445     7.000000     12.222222   \n",
      "CEMENT       2.000000  0.888889       10.037037     8.000000     14.555555   \n",
      "\n",
      "           RAWGREEN-MEAN  EXRED-MEAN  EXBLUE-MEAN  EXGREEN-MEAN  VALUE-MEAN  \\\n",
      "BRICKFACE       3.555556    3.444444     4.444445     -7.888889    7.777778   \n",
      "BRICKFACE       3.888889    5.000000     3.333333     -8.333333    8.444445   \n",
      "BRICKFACE       3.555556    4.333334     3.333333     -7.666666    7.555555   \n",
      "BRICKFACE       3.333333    5.777778     1.777778     -7.555555    7.777778   \n",
      "BRICKFACE       3.444444    2.888889     4.888889     -7.777778    7.888889   \n",
      "...                  ...         ...          ...           ...         ...   \n",
      "CEMENT          5.666666   -4.888889    11.777778     -6.888889   11.888889   \n",
      "CEMENT          6.444445   -5.111111    10.888889     -5.777778   12.000000   \n",
      "CEMENT          5.000000   -4.777778    11.222222     -6.444445   10.888889   \n",
      "CEMENT          6.111111   -4.333334    11.333333     -7.000000   12.222222   \n",
      "CEMENT          7.555555   -6.111111    13.555555     -7.444445   14.555555   \n",
      "\n",
      "           SATURATION-MEAN  HUE-MEAN  \n",
      "BRICKFACE         0.545635 -1.121818  \n",
      "BRICKFACE         0.538580 -0.924817  \n",
      "BRICKFACE         0.532628 -0.965946  \n",
      "BRICKFACE         0.573633 -0.744272  \n",
      "BRICKFACE         0.562919 -1.175773  \n",
      "...                    ...       ...  \n",
      "CEMENT            0.520578 -1.982834  \n",
      "CEMENT            0.484805 -2.044946  \n",
      "CEMENT            0.540918 -1.996307  \n",
      "CEMENT            0.503086 -1.943449  \n",
      "CEMENT            0.479931 -2.029312  \n",
      "\n",
      "[2310 rows x 16 columns]\n"
     ]
    }
   ],
   "source": [
    "data3 = pd.concat([train3, test3])\n",
    "print(data3)"
   ]
  }
 ],
 "metadata": {
  "kernelspec": {
   "display_name": "vc",
   "language": "python",
   "name": "python3"
  },
  "language_info": {
   "codemirror_mode": {
    "name": "ipython",
    "version": 3
   },
   "file_extension": ".py",
   "mimetype": "text/x-python",
   "name": "python",
   "nbconvert_exporter": "python",
   "pygments_lexer": "ipython3",
   "version": "3.8.11"
  },
  "orig_nbformat": 4
 },
 "nbformat": 4,
 "nbformat_minor": 2
}
