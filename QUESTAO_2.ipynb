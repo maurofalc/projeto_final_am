{
 "cells": [
  {
   "cell_type": "code",
   "execution_count": 1,
   "metadata": {},
   "outputs": [],
   "source": [
    "# !pip install autorank\n",
    "# !pip install scikit_posthocs"
   ]
  },
  {
   "cell_type": "code",
   "execution_count": 1,
   "metadata": {},
   "outputs": [],
   "source": [
    "import math\n",
    "import warnings\n",
    "import numpy as np\n",
    "import pandas as pd\n",
    "import scikit_posthocs as sp\n",
    "from autorank import autorank\n",
    "import matplotlib.pyplot as plt\n",
    "from sklearn.preprocessing import LabelEncoder\n",
    "from scipy.stats import friedmanchisquare, sem, t\n",
    "from sklearn.linear_model import LogisticRegression\n",
    "from sklearn.neighbors import KernelDensity, KNeighborsClassifier\n",
    "from sklearn.model_selection import train_test_split, RepeatedStratifiedKFold\n",
    "from sklearn.metrics import accuracy_score, f1_score, precision_score, recall_score"
   ]
  },
  {
   "cell_type": "code",
   "execution_count": 3,
   "metadata": {},
   "outputs": [],
   "source": [
    "warnings.filterwarnings('ignore')"
   ]
  },
  {
   "cell_type": "code",
   "execution_count": 4,
   "metadata": {},
   "outputs": [],
   "source": [
    "url1 = \"https://archive.ics.uci.edu/ml/machine-learning-databases/image/segmentation.data\"\n",
    "url2 = \"https://archive.ics.uci.edu/ml/machine-learning-databases/image/segmentation.test\""
   ]
  },
  {
   "cell_type": "code",
   "execution_count": 5,
   "metadata": {},
   "outputs": [],
   "source": [
    "cols = [\"CLASS\", \"REGION-CENTROID-COL\", \"REGION-CENTROID-ROW\", \"REGION-PIXEL-COUNT\", \"SHORT-LINE-DENSITY-5\", \"SHORT-LINE-DENSITY-2\", \"VEDGE-MEAN\", \"VEDGE-SD\", \"HEDGE-MEAN\", \"HEDGE-SD\", \"INTENSITY-MEAN\",\"RAWRED-MEAN\",\"RAWBLUE-MEAN\",\"RAWGREEN-MEAN\",\"EXRED-MEAN\",\"EXBLUE-MEAN\",\"EXGREEN-MEAN\",\"VALUE-MEAN\",\"SATURATION-MEAN\",\"HUE-MEAN\"]"
   ]
  },
  {
   "cell_type": "code",
   "execution_count": 6,
   "metadata": {},
   "outputs": [],
   "source": [
    "data1 = pd.read_csv(url1, header=2, names=cols)\n",
    "data2 = pd.read_csv(url2, header=2, names=cols)\n",
    "data = pd.concat([data1, data2])"
   ]
  },
  {
   "cell_type": "code",
   "execution_count": 7,
   "metadata": {},
   "outputs": [],
   "source": [
    "le = LabelEncoder()\n",
    "\n",
    "X1 = data.iloc[:, 4:9]\n",
    "X2 = data.iloc[:, 10:20]\n",
    "X3 = data.drop([\"CLASS\", \"REGION-CENTROID-COL\", \"REGION-CENTROID-ROW\", \"REGION-PIXEL-COUNT\"], axis=1)\n",
    "data[\"CLASS\"] = le.fit_transform(data[\"CLASS\"])\n",
    "Y = data[\"CLASS\"]"
   ]
  },
  {
   "cell_type": "code",
   "execution_count": 8,
   "metadata": {},
   "outputs": [],
   "source": [
    "X1 = (X1 - X1.mean(axis=0)) / X1.std(axis=0)\n",
    "X2 = (X2 - X2.mean(axis=0)) / X2.std(axis=0)\n",
    "X3 = (X3 - X3.mean(axis=0)) / X3.std(axis=0)"
   ]
  },
  {
   "cell_type": "code",
   "execution_count": 9,
   "metadata": {},
   "outputs": [],
   "source": [
    "# instanciação do dataframe para o teste de Friedman\n",
    "d = {\n",
    "    'Bayesiano Gaussiano': [0.0] * 300,\n",
    "    'k-NN': [0.0] * 300,\n",
    "    'Janela de Parzen': [0.0] * 300,\n",
    "    'Regressão Logística': [0.0] * 300,\n",
    "}\n",
    "rankings = pd.DataFrame(data=d)"
   ]
  },
  {
   "attachments": {},
   "cell_type": "markdown",
   "metadata": {},
   "source": [
    "# Questão 2"
   ]
  },
  {
   "attachments": {},
   "cell_type": "markdown",
   "metadata": {},
   "source": [
    "#### Ajuste do hiper-parâmetro k do k-NN"
   ]
  },
  {
   "cell_type": "code",
   "execution_count": 10,
   "metadata": {},
   "outputs": [],
   "source": [
    "X_train = [[] for i in range(3)]\n",
    "Y_train = [[] for i in range(3)]\n",
    "X_test = [[] for i in range(3)]\n",
    "Y_test = [[] for i in range(3)]\n",
    "X_train[0], X_test[0], Y_train[0], Y_test[0] = train_test_split(X1, Y, train_size=0.8, random_state=999)\n",
    "X_train[1], X_test[1], Y_train[1], Y_test[1] = train_test_split(X2, Y, train_size=0.8, random_state=999)\n",
    "X_train[2], X_test[2], Y_train[2], Y_test[2] = train_test_split(X3, Y, train_size=0.8, random_state=999)\n",
    "\n",
    "neighborhood = range(3,49,2)"
   ]
  },
  {
   "cell_type": "code",
   "execution_count": 11,
   "metadata": {},
   "outputs": [
    {
     "name": "stdout",
     "output_type": "stream",
     "text": [
      "Dataset  1\n",
      "Melhor valor de k:  35\n",
      "Acurácia com melhor k:  0.43506493506493504 \n",
      "\n",
      "Dataset  2\n",
      "Melhor valor de k:  3\n",
      "Acurácia com melhor k:  0.9264069264069265 \n",
      "\n",
      "Dataset  3\n",
      "Melhor valor de k:  3\n",
      "Acurácia com melhor k:  0.9177489177489178 \n",
      "\n"
     ]
    },
    {
     "data": {
      "image/png": "[encoded data removed]",
      "text/plain": [
       "<Figure size 432x288 with 1 Axes>"
      ]
     },
     "metadata": {
      "needs_background": "light"
     },
     "output_type": "display_data"
    }
   ],
   "source": [
    "for i in range(3):\n",
    "    acc = []\n",
    "    for n in neighborhood:\n",
    "        knn = KNeighborsClassifier(n_neighbors=n)\n",
    "        knn.fit(X_train[i], Y_train[i])\n",
    "        y_pred = knn.predict(X_test[i])\n",
    "        acc.append(accuracy_score(Y_test[i],y_pred))\n",
    "\n",
    "    melhor_k = neighborhood[acc.index(max(acc))]\n",
    "    print(\"Dataset \", i+1)\n",
    "    print(\"Melhor valor de k: \", melhor_k)\n",
    "    print(\"Acurácia com melhor k: \", max(acc), \"\\n\")\n",
    "\n",
    "    label = f\"dataset {i+1}\"\n",
    "    plt.plot(neighborhood, acc, label=label)\n",
    "    plt.xlabel('Valor de k')\n",
    "    plt.ylabel('Acurácia')\n",
    "plt.legend()\n",
    "plt.show()"
   ]
  },
  {
   "attachments": {},
   "cell_type": "markdown",
   "metadata": {},
   "source": [
    "#### Ajuste do hiper-parâmetro h da Janela de Parzen"
   ]
  },
  {
   "cell_type": "code",
   "execution_count": 35,
   "metadata": {},
   "outputs": [],
   "source": [
    "class BayesianParzenWindowClassifier:\n",
    "  def fit(self, X, Y, h):\n",
    "    self.dict_apriori = {}\n",
    "    self.X = X\n",
    "    self.Y = Y\n",
    "    self.h = h\n",
    "    self.numero_de_classes = len(Y.drop_duplicates())\n",
    "    self.apriori = self.calcular_probabilidade_apriori(X, Y)\n",
    "    self.dict_classes = {}\n",
    "    label_classes = Y.drop_duplicates().values\n",
    "\n",
    "    m = 0\n",
    "    for label in label_classes:\n",
    "      self.dict_classes[m] = label\n",
    "      m = m + 1\n",
    "\n",
    "  def calcular_probabilidade_apriori(self, X, Y):\n",
    "    X['CLASSE'] = Y\n",
    "    classes = Y.drop_duplicates()\n",
    "    apriori = [0.0] * len(classes)\n",
    "\n",
    "    i = 0\n",
    "    for classe in classes:\n",
    "      apriori[i] = len(X[X[X.columns[-1]] == classe])/len(X)\n",
    "      self.dict_apriori[i] = apriori[i]\n",
    "      i =  i + 1\n",
    "\n",
    "    return apriori\n",
    "\n",
    "  # x_k é um vetor de d-dimensoes que se deseja calcular a função, w_i é índice da classe (primeira, segunda etc.)\n",
    "  def calcular_funcao_probabilidade(self, x_k, w_i):\n",
    "    X = self.X \n",
    "    X['CLASSE'] = self.Y\n",
    "    kde = KernelDensity(kernel=\"gaussian\", bandwidth=self.h)\n",
    "    dados_da_classe = X[X[X.columns[-1]] == self.dict_classes[w_i]].drop(['CLASSE'], axis=1)\n",
    "    kde.fit(dados_da_classe)\n",
    "    probabilidade = np.exp(kde.score_samples(x_k.reshape(1, -1)))\n",
    "\n",
    "    return probabilidade\n",
    "\n",
    "  def predict(self, x_k):\n",
    "    probabilidades = [0.0] * self.numero_de_classes\n",
    "\n",
    "    i = 0\n",
    "    for classe in self.dict_classes:\n",
    "      prob_condicional = self.calcular_funcao_probabilidade(x_k, classe)\n",
    "      probabilidades[i] = prob_condicional * self.apriori[i]\n",
    "      i = i + 1\n",
    "\n",
    "    return probabilidades.index(max(probabilidades)), self.dict_classes[probabilidades.index(max(probabilidades))]"
   ]
  },
  {
   "cell_type": "code",
   "execution_count": 36,
   "metadata": {},
   "outputs": [],
   "source": [
    "def realizar_predicoes(modelo, x_test, y_test):\n",
    "  dict_acerto_e_erros = {}\n",
    "  array_predicoes = [''] * len(x_test)\n",
    "\n",
    "  x = x_test.values\n",
    "  y = y_test.values\n",
    "\n",
    "  i = 0\n",
    "  for observacao in x:\n",
    "    indice, valor = modelo.predict(observacao)\n",
    "    if (valor == y[i]):\n",
    "      dict_acerto_e_erros[i] = {\"resultado\": \"ACERTOU\", \"predicao\": valor, \"valor_correto\": y[i]}\n",
    "      array_predicoes[i] = valor\n",
    "    else:\n",
    "      dict_acerto_e_erros[i] = {\"resultado\": \"ERROU\", \"predicao\": valor, \"valor_correto\": y[i]}\n",
    "      array_predicoes[i] = valor\n",
    "    \n",
    "    i = i + 1\n",
    "\n",
    "  return array_predicoes, dict_acerto_e_erros"
   ]
  },
  {
   "cell_type": "code",
   "execution_count": 37,
   "metadata": {},
   "outputs": [],
   "source": [
    "X_train = [[] for i in range(3)]\n",
    "Y_train = [[] for i in range(3)]\n",
    "X_test = [[] for i in range(3)]\n",
    "Y_test = [[] for i in range(3)]\n",
    "X_train[0], X_test[0], Y_train[0], Y_test[0] = train_test_split(X1, Y, train_size=0.8, random_state=999)\n",
    "X_train[1], X_test[1], Y_train[1], Y_test[1] = train_test_split(X2, Y, train_size=0.8, random_state=999)\n",
    "X_train[2], X_test[2], Y_train[2], Y_test[2] = train_test_split(X3, Y, train_size=0.8, random_state=999)\n",
    "\n",
    "hs = [0.01, 0.015, 0.02, 0.025, 0.03, 0.035, 0.04, 0.045, 0.05, 0.055, 0.06, 0.065, 0.07, 0.075, 0.08, 0.085, 0.09, 0.095]"
   ]
  },
  {
   "cell_type": "code",
   "execution_count": 38,
   "metadata": {},
   "outputs": [
    {
     "name": "stdout",
     "output_type": "stream",
     "text": [
      "Dataset 1\n",
      "Melhor valor de h:  0.04\n",
      "Acurácia com melhor h:  0.43073593073593075 \n",
      "\n",
      "Dataset 2\n",
      "Melhor valor de h:  0.09\n",
      "Acurácia com melhor h:  0.9329004329004329 \n",
      "\n",
      "Dataset 3\n",
      "Melhor valor de h:  0.095\n",
      "Acurácia com melhor h:  0.9134199134199135 \n",
      "\n"
     ]
    },
    {
     "data": {
      "image/png": "[encoded data removed]",
      "text/plain": [
       "<Figure size 432x288 with 1 Axes>"
      ]
     },
     "metadata": {
      "needs_background": "light"
     },
     "output_type": "display_data"
    }
   ],
   "source": [
    "for i in range(3):\n",
    "  acc = []\n",
    "  for h in hs:\n",
    "    jp = BayesianParzenWindowClassifier()\n",
    "    jp.fit(X_train[i], Y_train[i], h)\n",
    "\n",
    "    Y_pred, dict_predicoes = realizar_predicoes(jp, X_test[i], Y_test[i])\n",
    "\n",
    "    accuracy = accuracy_score(Y_test[i], Y_pred)\n",
    "    acc.append(accuracy)\n",
    "  melhor_h = hs[acc.index(max(acc))]\n",
    "  print(f\"Dataset {i+1}\")\n",
    "  print(\"Melhor valor de h: \", melhor_h)\n",
    "  print(\"Acurácia com melhor h: \", max(acc), \"\\n\")\n",
    "\n",
    "  label = f\"dataset {i+1}\"\n",
    "  plt.plot(hs, acc, label=label)\n",
    "  plt.xlabel('Valor de h')\n",
    "  plt.ylabel('Acurácia')\n",
    "plt.legend()\n",
    "plt.show()"
   ]
  },
  {
   "attachments": {},
   "cell_type": "markdown",
   "metadata": {},
   "source": [
    "## k-fold"
   ]
  },
  {
   "cell_type": "code",
   "execution_count": 16,
   "metadata": {},
   "outputs": [
    {
     "data": {
      "text/plain": [
       "300"
      ]
     },
     "execution_count": 16,
     "metadata": {},
     "output_type": "execute_result"
    }
   ],
   "source": [
    "kf = RepeatedStratifiedKFold(n_splits=10, n_repeats=30, random_state=999)\n",
    "kf.get_n_splits(X3, Y)"
   ]
  },
  {
   "attachments": {},
   "cell_type": "markdown",
   "metadata": {},
   "source": [
    "## Bayesiano Gaussiano"
   ]
  },
  {
   "cell_type": "code",
   "execution_count": 24,
   "metadata": {},
   "outputs": [],
   "source": [
    "class BayesianoGaussiano:\n",
    "\n",
    "  def fit(self, X, Y):\n",
    "    self.dict_medias = {}\n",
    "    self.dict_variancias = {}\n",
    "    self.dict_sigmas = {}\n",
    "    self.dict_apriori = {}\n",
    "    self.X = X\n",
    "    self.Y = Y\n",
    "    self.numero_de_atributos = len(X.columns)\n",
    "    self.numero_de_classes = len(Y.drop_duplicates())\n",
    "    self.medias, self.variancias = self.calcular_matriz_de_medias_e_matriz_de_variancia(X, Y)\n",
    "    self.sigmas = self.calcular_sigmas(self.variancias)\n",
    "    self.apriori = self.calcular_probabilidade_apriori(X, Y)\n",
    "    self.dict_classes = {}\n",
    "    label_classes = Y.drop_duplicates().values\n",
    "\n",
    "    m = 0\n",
    "    for label in label_classes:\n",
    "      self.dict_classes[m] = label\n",
    "      m = m + 1\n",
    "\n",
    "  def calcular_sigmas(self, variancias):\n",
    "    sigmas = {}\n",
    "    i = 0\n",
    "\n",
    "    for variancia in variancias:\n",
    "      sigma = np.zeros((self.numero_de_atributos, self.numero_de_atributos), float)\n",
    "\n",
    "      # A matriz de covariância nesse exemplo é diagonal e seus valores são dados pela variância de cada um dos atributos.\n",
    "      j = 0\n",
    "      for var in variancia:\n",
    "        sigma[j][j] = var\n",
    "        j = j + 1\n",
    "\n",
    "      sigmas[i] = sigma\n",
    "      i = i + 1\n",
    "\n",
    "    return sigmas\n",
    "\n",
    "  def calcular_matriz_de_medias_e_matriz_de_variancia(self, X, Y):\n",
    "    classes = Y.drop_duplicates()\n",
    "    matriz_medias = np.zeros((len(classes), self.numero_de_atributos))\n",
    "    matriz_variancias = np.zeros((len(classes), self.numero_de_atributos))\n",
    "    i = 0\n",
    "    X['CLASSE'] = Y\n",
    "\n",
    "    for classe in classes:\n",
    "      X_tmp = X.loc[X['CLASSE'] == classe]\n",
    "      X_tmp = X_tmp.drop(['CLASSE'], axis=1)\n",
    "\n",
    "      j = 0\n",
    "      for atributo in X_tmp.columns:\n",
    "        if (atributo != 'SEQUENCE_NAME' and atributo != 'CLASSE'):\n",
    "          matriz_medias[i][j] = np.mean(X_tmp[atributo])\n",
    "          matriz_variancias[i][j] = np.var(X_tmp[atributo])\n",
    "          j = j + 1\n",
    "\n",
    "      self.dict_medias[classe] = matriz_medias[i]\n",
    "      self.dict_variancias[classe] = matriz_variancias[i]\n",
    "\n",
    "      i = i + 1\n",
    "\n",
    "    return matriz_medias, matriz_variancias\n",
    "\n",
    "  def calcular_probabilidade_apriori(self, X, Y):\n",
    "    X['CLASSE'] = Y\n",
    "    classes = Y.drop_duplicates()\n",
    "    apriori = [0.0] * len(classes)\n",
    "\n",
    "    i = 0\n",
    "    for classe in classes:\n",
    "      apriori[i] = len(X[X[X.columns[-1]] == classe])/len(X)\n",
    "      self.dict_apriori[i] = apriori[i]\n",
    "      i =  i + 1\n",
    "\n",
    "    return apriori\n",
    "\n",
    "  # x_k é um vetor de d-dimensoes que se deseja calcular a função, w_i é índice da classe (primeira, segunda etc.)\n",
    "  def calcular_funcao_probabilidade(self, x_k, w_i):\n",
    "\n",
    "    # Sigma^-1\n",
    "    sigma_inv = np.linalg.pinv(self.sigmas[w_i])\n",
    "    # Termo a: 2*pi^(-d/2)\n",
    "    termo_a = ((2 * math.pi) ** -(self.numero_de_atributos/2))\n",
    "    # Termo b: |SigmaInv|^(1/2)\n",
    "    termo_b = (np.linalg.det(sigma_inv)) ** (1/2)\n",
    "    # vetores\n",
    "    termo_c = (x_k - self.medias[w_i])\n",
    "\n",
    "    #escalar\n",
    "    termo_d = np.dot(np.transpose(termo_c),sigma_inv)\n",
    "    probabilidade = np.exp(-(1/2) * np.dot(termo_d,termo_c))\n",
    "\n",
    "    return probabilidade\n",
    "\n",
    "  # Método para realizar a predição de uma nova entrada\n",
    "  # Parametro x_k deve representar apenas uma entrada\n",
    "  def predict(self, x_k):\n",
    "    probabilidades = [0.0] * self.numero_de_classes\n",
    "    i = 0\n",
    "    for classe in self.dict_classes:\n",
    "      prob_condicional = self.calcular_funcao_probabilidade(x_k, classe)\n",
    "      probabilidades[i] = prob_condicional * self.apriori[i]\n",
    "      i = i + 1\n",
    "\n",
    "    evidencia = np.sum(probabilidades)\n",
    "\n",
    "    #retorna indice e valor\n",
    "    return probabilidades.index(max(probabilidades)), self.dict_classes[probabilidades.index(max(probabilidades))]\n"
   ]
  },
  {
   "cell_type": "code",
   "execution_count": 25,
   "metadata": {},
   "outputs": [],
   "source": [
    "bg_accuracy = []\n",
    "bg_precision = []\n",
    "bg_f1 = []\n",
    "bg_recall = []"
   ]
  },
  {
   "cell_type": "code",
   "execution_count": 26,
   "metadata": {},
   "outputs": [
    {
     "name": "stdout",
     "output_type": "stream",
     "text": [
      "Taxa de erro: 0.3221 (0.0236)\n",
      "Intervalo de confiança:  (0.31944097706382724, 0.32480144717859705) \n",
      "\n",
      "F-measure: 0.6481 (0.0269)\n",
      "Intervalo de confiança:  (0.6450251869408855, 0.6511543279172695) \n",
      "\n",
      "Precisão: 0.7635 (0.0330)\n",
      "Intervalo de confiança:  (0.7597106880213434, 0.767222502899361) \n",
      "\n",
      "Cobertura: 0.6779 (0.0236)\n",
      "Intervalo de confiança:  (0.675198552821403, 0.6805590229361728)\n"
     ]
    }
   ],
   "source": [
    "for train_id, test_id in kf.split(X3, Y):\n",
    "  X1_train, X1_test = X1.iloc[train_id], X1.iloc[test_id]\n",
    "  X2_train, X2_test = X2.iloc[train_id], X2.iloc[test_id]\n",
    "  X3_train, X3_test = X3.iloc[train_id], X3.iloc[test_id]\n",
    "  Y_train, Y_test = Y.iloc[train_id], Y.iloc[test_id]\n",
    "  \n",
    "  bg1 = BayesianoGaussiano()\n",
    "  bg1.fit(X1_train, Y_train)\n",
    "\n",
    "  bg2 = BayesianoGaussiano()\n",
    "  bg2.fit(X2_train, Y_train)\n",
    "\n",
    "  bg3 = BayesianoGaussiano()\n",
    "  bg3.fit(X3_train, Y_train)\n",
    "\n",
    "  Y1_pred, dict_predicoes = realizar_predicoes(bg1, X1_test, Y_test)\n",
    "  Y2_pred, dict_predicoes = realizar_predicoes(bg2, X2_test, Y_test)\n",
    "  Y3_pred, dict_predicoes = realizar_predicoes(bg3, X3_test, Y_test)\n",
    "\n",
    "  votes = np.stack((Y1_pred, Y2_pred, Y3_pred), axis=-1)\n",
    "  majority_vote = np.array([np.bincount(row).argmax() for row in votes])\n",
    "\n",
    "  bg_accuracy.append(1 - accuracy_score(Y_test, majority_vote))\n",
    "  bg_f1.append(f1_score(Y_test, majority_vote, average = \"macro\"))\n",
    "  bg_precision.append(precision_score(Y_test, majority_vote, average = \"macro\"))\n",
    "  bg_recall.append(recall_score(Y_test, majority_vote, average = \"macro\"))\n",
    "\n",
    "grau_de_liberdade = len(bg_accuracy) - 1\n",
    "grau_de_confianca = 0.95\n",
    "\n",
    "# Intervalo de confiança acurárias\n",
    "erro_padrao_acuracias = sem(bg_accuracy)\n",
    "media_acuracias = np.mean(bg_accuracy)\n",
    "intervalo_confianca_acuracias = t.interval(grau_de_confianca, grau_de_liberdade, loc=media_acuracias, scale=erro_padrao_acuracias)\n",
    "\n",
    "# Intervalo de confiança F-Measure\n",
    "erro_padrao_f1s = sem(bg_f1)\n",
    "media_f1s = np.mean(bg_f1)\n",
    "intervalo_confianca_f1s = t.interval(grau_de_confianca, grau_de_liberdade, loc=media_f1s, scale=erro_padrao_f1s)\n",
    "\n",
    "# Intervalo de confiança Precisão\n",
    "erro_padrao_precisao = sem(bg_precision)\n",
    "media_precisao = np.mean(bg_precision)\n",
    "intervalo_confianca_precisao = t.interval(grau_de_confianca, grau_de_liberdade, loc=media_precisao, scale=erro_padrao_precisao)\n",
    "\n",
    "# Intervalo de confiança Cobertura\n",
    "erro_padrao_recall = sem(bg_recall)\n",
    "media_recall = np.mean(bg_recall)\n",
    "intervalo_confianca_recall = t.interval(grau_de_confianca, grau_de_liberdade, loc=media_recall, scale=erro_padrao_recall)\n",
    "\n",
    "print(\"Taxa de erro: %.4f (%.4f)\" % (np.mean(bg_accuracy), np.std(bg_accuracy)))\n",
    "print(\"Intervalo de confiança: \", intervalo_confianca_acuracias, \"\\n\")\n",
    "print(\"F-measure: %.4f (%.4f)\" % (np.mean(bg_f1), np.std(bg_f1)))\n",
    "print(\"Intervalo de confiança: \", intervalo_confianca_f1s, \"\\n\")\n",
    "print(\"Precisão: %.4f (%.4f)\" % (np.mean(bg_precision), np.std(bg_precision)))\n",
    "print(\"Intervalo de confiança: \", intervalo_confianca_precisao, \"\\n\")\n",
    "print(\"Cobertura: %.4f (%.4f)\" % (np.mean(bg_recall), np.std(bg_recall)))\n",
    "print(\"Intervalo de confiança: \", intervalo_confianca_recall)\n",
    "\n",
    "ind = 0\n",
    "for ranking in rankings['Bayesiano Gaussiano']:\n",
    "  rankings['Bayesiano Gaussiano'].iloc[ind] = bg_accuracy[ind]\n",
    "  ind = ind + 1"
   ]
  },
  {
   "attachments": {},
   "cell_type": "markdown",
   "metadata": {},
   "source": [
    "## k-NN"
   ]
  },
  {
   "cell_type": "code",
   "execution_count": 27,
   "metadata": {},
   "outputs": [],
   "source": [
    "knn_accuracy = []\n",
    "knn_precision = []\n",
    "knn_f1 = []\n",
    "knn_recall = []"
   ]
  },
  {
   "cell_type": "code",
   "execution_count": 28,
   "metadata": {},
   "outputs": [
    {
     "name": "stdout",
     "output_type": "stream",
     "text": [
      "Taxa de erro: 0.0919 (0.0177)\n",
      "Intervalo de confiança:  (0.08984741830299763, 0.09387552541994611) \n",
      "\n",
      "F-measure: 0.9069 (0.0000)\n",
      "Intervalo de confiança:  (0.9048502209626867, 0.9089906562089707) \n",
      "\n",
      "Precisão: 0.9101 (0.0175)\n",
      "Intervalo de confiança:  (0.9081472438378312, 0.9121345780726354) \n",
      "\n",
      "Cobertura: 0.9081 (0.0177)\n",
      "Intervalo de confiança:  (0.906124474580054, 0.9101525816970025)\n"
     ]
    }
   ],
   "source": [
    "for train_id, test_id in kf.split(X3, Y):\n",
    "  X1_train, X1_test = X1.iloc[train_id], X1.iloc[test_id]\n",
    "  X2_train, X2_test = X2.iloc[train_id], X2.iloc[test_id]\n",
    "  X3_train, X3_test = X3.iloc[train_id], X3.iloc[test_id]\n",
    "  Y_train, Y_test = Y.iloc[train_id], Y.iloc[test_id]\n",
    "\n",
    "  knn1 = KNeighborsClassifier(n_neighbors=35)\n",
    "  knn1.fit(X1_train, Y_train)\n",
    "\n",
    "  knn2 = KNeighborsClassifier(n_neighbors=3)\n",
    "  knn2.fit(X2_train, Y_train)\n",
    "\n",
    "  knn3 = KNeighborsClassifier(n_neighbors=3)\n",
    "  knn3.fit(X3_train, Y_train)\n",
    "  \n",
    "  Y1_pred = knn1.predict(X1_test)\n",
    "  Y2_pred = knn2.predict(X2_test)\n",
    "  Y3_pred = knn3.predict(X3_test)\n",
    "\n",
    "  votes = np.stack((Y1_pred, Y2_pred, Y3_pred), axis=-1)\n",
    "  majority_vote = np.array([np.bincount(row).argmax() for row in votes])\n",
    "\n",
    "  knn_accuracy.append(1 - accuracy_score(Y_test, majority_vote))\n",
    "  knn_precision.append(precision_score(Y_test, majority_vote, average = \"macro\"))\n",
    "  knn_f1.append(f1_score(Y_test, majority_vote, average = \"macro\"))\n",
    "  knn_recall.append(recall_score(Y_test, majority_vote, average = \"macro\"))\n",
    "\n",
    "grau_de_liberdade = len(knn_accuracy) - 1\n",
    "grau_de_confianca = 0.95\n",
    "\n",
    "# Intervalo de confiança acurárias\n",
    "erro_padrao_acuracias = sem(knn_accuracy)\n",
    "media_acuracias = np.mean(knn_accuracy)\n",
    "intervalo_confianca_acuracias = t.interval(grau_de_confianca, grau_de_liberdade, loc=media_acuracias, scale=erro_padrao_acuracias)\n",
    "\n",
    "# Intervalo de confiança F-Measure\n",
    "erro_padrao_f1s = sem(knn_f1)\n",
    "media_f1s = np.mean(knn_f1)\n",
    "intervalo_confianca_f1s = t.interval(grau_de_confianca, grau_de_liberdade, loc=media_f1s, scale=erro_padrao_f1s)\n",
    "\n",
    "# Intervalo de confiança Precisão\n",
    "erro_padrao_precisao = sem(knn_precision)\n",
    "media_precisao = np.mean(knn_precision)\n",
    "intervalo_confianca_precisao = t.interval(grau_de_confianca, grau_de_liberdade, loc=media_precisao, scale=erro_padrao_precisao)\n",
    "\n",
    "# Intervalo de confiança Cobertura\n",
    "erro_padrao_recall = sem(knn_recall)\n",
    "media_recall = np.mean(knn_recall)\n",
    "intervalo_confianca_recall = t.interval(grau_de_confianca, grau_de_liberdade, loc=media_recall, scale=erro_padrao_recall)\n",
    "\n",
    "print(\"Taxa de erro: %.4f (%.4f)\" % (np.mean(knn_accuracy), np.std(knn_accuracy)))\n",
    "print(\"Intervalo de confiança: \", intervalo_confianca_acuracias, \"\\n\")\n",
    "print(\"F-measure: %.4f (%.4f)\" % (np.mean(knn_f1), np.std(knn_f1[0])))\n",
    "print(\"Intervalo de confiança: \", intervalo_confianca_f1s, \"\\n\")\n",
    "print(\"Precisão: %.4f (%.4f)\" % (np.mean(knn_precision), np.std(knn_precision)))\n",
    "print(\"Intervalo de confiança: \", intervalo_confianca_precisao, \"\\n\")\n",
    "print(\"Cobertura: %.4f (%.4f)\" % (np.mean(knn_recall), np.std(knn_recall)))\n",
    "print(\"Intervalo de confiança: \", intervalo_confianca_recall)\n",
    "\n",
    "ind = 0\n",
    "for ranking in rankings['Bayesiano Gaussiano']:\n",
    "  rankings['k-NN'].iloc[ind] = knn_accuracy[ind]\n",
    "  ind = ind + 1"
   ]
  },
  {
   "attachments": {},
   "cell_type": "markdown",
   "metadata": {},
   "source": [
    "## Bayesiano com Janela de Parzen"
   ]
  },
  {
   "cell_type": "code",
   "execution_count": 22,
   "metadata": {},
   "outputs": [],
   "source": [
    "jp_accuracy = []\n",
    "jp_precision = []\n",
    "jp_f1 = []\n",
    "jp_recall = []"
   ]
  },
  {
   "cell_type": "code",
   "execution_count": 23,
   "metadata": {},
   "outputs": [
    {
     "name": "stdout",
     "output_type": "stream",
     "text": [
      "Taxa de erro: 0.0860 (0.0169)\n",
      "Intervalo de confiança:  (0.08405277224166834, 0.0878952797063836) \n",
      "\n",
      "F-measure: 0.9133 (0.0172)\n",
      "Intervalo de confiança:  (0.9113098759525249, 0.9152235550444869) \n",
      "\n",
      "Precisão: 0.9163 (0.0165)\n",
      "Intervalo de confiança:  (0.9143843261680017, 0.9181311540179807) \n",
      "\n",
      "Cobertura: 0.9140 (0.0169)\n",
      "Intervalo de confiança:  (0.9121047202936164, 0.9159472277583317)\n"
     ]
    }
   ],
   "source": [
    "for train_id, test_id in kf.split(X3, Y):\n",
    "  X1_train, X1_test = X1.iloc[train_id], X1.iloc[test_id]\n",
    "  X2_train, X2_test = X2.iloc[train_id], X2.iloc[test_id]\n",
    "  X3_train, X3_test = X3.iloc[train_id], X3.iloc[test_id]\n",
    "  Y_train, Y_test = Y.iloc[train_id], Y.iloc[test_id]\n",
    "\n",
    "  jp1 = BayesianParzenWindowClassifier()\n",
    "  jp1.fit(X1_train, Y_train, 0.04)\n",
    "\n",
    "  jp2 = BayesianParzenWindowClassifier()\n",
    "  jp2.fit(X2_train, Y_train, 0.09)\n",
    "\n",
    "  jp3 = BayesianParzenWindowClassifier()\n",
    "  jp3.fit(X3_train, Y_train, 0.095)\n",
    "\n",
    "  Y1_pred, dict_predicoes = realizar_predicoes(jp1, X1_test, Y_test)\n",
    "  Y2_pred, dict_predicoes = realizar_predicoes(jp2, X2_test, Y_test)\n",
    "  Y3_pred, dict_predicoes = realizar_predicoes(jp3, X3_test, Y_test)\n",
    "\n",
    "  votes = np.stack((Y1_pred, Y2_pred, Y3_pred), axis=-1)\n",
    "  majority_vote = np.array([np.bincount(row).argmax() for row in votes])\n",
    "\n",
    "  jp_accuracy.append(1 - accuracy_score(Y_test, majority_vote))\n",
    "  jp_f1.append(f1_score(Y_test, majority_vote, average = \"macro\"))\n",
    "  jp_precision.append(precision_score(Y_test, majority_vote, average = \"macro\"))\n",
    "  jp_recall.append(recall_score(Y_test, majority_vote, average = \"macro\"))\n",
    "\n",
    "grau_de_liberdade = len(jp_accuracy) - 1\n",
    "grau_de_confianca = 0.95\n",
    "\n",
    "# Intervalo de confiança acurárias\n",
    "erro_padrao_acuracias = sem(jp_accuracy)\n",
    "media_acuracias = np.mean(jp_accuracy)\n",
    "intervalo_confianca_acuracias = t.interval(grau_de_confianca, grau_de_liberdade, loc=media_acuracias, scale=erro_padrao_acuracias)\n",
    "\n",
    "# Intervalo de confiança F-Measure\n",
    "erro_padrao_f1s = sem(jp_f1)\n",
    "media_f1s = np.mean(jp_f1)\n",
    "intervalo_confianca_f1s = t.interval(grau_de_confianca, grau_de_liberdade, loc=media_f1s, scale=erro_padrao_f1s)\n",
    "\n",
    "# Intervalo de confiança Precisão\n",
    "erro_padrao_precisao = sem(jp_precision)\n",
    "media_precisao = np.mean(jp_precision)\n",
    "intervalo_confianca_precisao = t.interval(grau_de_confianca, grau_de_liberdade, loc=media_precisao, scale=erro_padrao_precisao)\n",
    "\n",
    "# Intervalo de confiança Cobertura\n",
    "erro_padrao_recall = sem(jp_recall)\n",
    "media_recall = np.mean(jp_recall)\n",
    "intervalo_confianca_recall = t.interval(grau_de_confianca, grau_de_liberdade, loc=media_recall, scale=erro_padrao_recall)\n",
    "\n",
    "print(\"Taxa de erro: %.4f (%.4f)\" % (np.mean(jp_accuracy), np.std(jp_accuracy)))\n",
    "print(\"Intervalo de confiança: \", intervalo_confianca_acuracias, \"\\n\")\n",
    "print(\"F-measure: %.4f (%.4f)\" % (np.mean(jp_f1), np.std(jp_f1)))\n",
    "print(\"Intervalo de confiança: \", intervalo_confianca_f1s, \"\\n\")\n",
    "print(\"Precisão: %.4f (%.4f)\" % (np.mean(jp_precision), np.std(jp_precision)))\n",
    "print(\"Intervalo de confiança: \", intervalo_confianca_precisao, \"\\n\")\n",
    "print(\"Cobertura: %.4f (%.4f)\" % (np.mean(jp_recall), np.std(jp_recall)))\n",
    "print(\"Intervalo de confiança: \", intervalo_confianca_recall)\n",
    "\n",
    "ind = 0\n",
    "for ranking in rankings['Janela de Parzen']:\n",
    "  rankings['Janela de Parzen'].iloc[ind] = jp_accuracy[ind]\n",
    "  ind = ind + 1"
   ]
  },
  {
   "attachments": {},
   "cell_type": "markdown",
   "metadata": {},
   "source": [
    "## Regressão Logística"
   ]
  },
  {
   "cell_type": "code",
   "execution_count": 29,
   "metadata": {},
   "outputs": [],
   "source": [
    "rl_accuracy = []\n",
    "rl_precision = []\n",
    "rl_f1 = []\n",
    "rl_recall = []"
   ]
  },
  {
   "cell_type": "code",
   "execution_count": 30,
   "metadata": {},
   "outputs": [
    {
     "name": "stdout",
     "output_type": "stream",
     "text": [
      "Taxa de erro: 0.1581 (0.0198)\n",
      "Intervalo de confiança:  (0.15587161064766605, 0.16037658560053017) \n",
      "\n",
      "F-measure: 0.8363 (0.0209)\n",
      "Intervalo de confiança:  (0.8338741300183207, 0.8386310926027157) \n",
      "\n",
      "Precisão: 0.8437 (0.0222)\n",
      "Intervalo de confiança:  (0.8411855515367219, 0.8462331041965534) \n",
      "\n",
      "Cobertura: 0.8419 (0.0198)\n",
      "Intervalo de confiança:  (0.83962341439947, 0.844128389352334)\n"
     ]
    }
   ],
   "source": [
    "for train_id, test_id in kf.split(X3, Y):\n",
    "  X1_train, X1_test = X1.iloc[train_id], X1.iloc[test_id]\n",
    "  X2_train, X2_test = X2.iloc[train_id], X2.iloc[test_id]\n",
    "  X3_train, X3_test = X3.iloc[train_id], X3.iloc[test_id]\n",
    "  Y_train, Y_test = Y.iloc[train_id], Y.iloc[test_id]\n",
    "\n",
    "  rl1 = LogisticRegression(multi_class='ovr', max_iter=1000)\n",
    "  rl1.fit(X1_train, Y_train)\n",
    "\n",
    "  rl2 = LogisticRegression(multi_class='ovr', max_iter=1000)\n",
    "  rl2.fit(X2_train, Y_train)\n",
    "\n",
    "  rl3 = LogisticRegression(multi_class='ovr', max_iter=1000)\n",
    "  rl3.fit(X3_train, Y_train)\n",
    "\n",
    "  Y1_pred = rl1.predict(X1_test)\n",
    "  Y2_pred = rl2.predict(X2_test)\n",
    "  Y3_pred = rl3.predict(X3_test)\n",
    "\n",
    "  votes = np.stack((Y1_pred, Y2_pred, Y3_pred), axis=-1)\n",
    "  majority_vote = np.array([np.bincount(row).argmax() for row in votes])\n",
    "\n",
    "  rl_accuracy.append(1 - accuracy_score(Y_test, majority_vote))\n",
    "  rl_precision.append(precision_score(Y_test, majority_vote, average = \"macro\"))\n",
    "  rl_f1.append(f1_score(Y_test, majority_vote, average = \"macro\"))\n",
    "  rl_recall.append(recall_score(Y_test, majority_vote, average = \"macro\"))\n",
    "\n",
    "grau_de_liberdade = len(rl_accuracy) - 1\n",
    "grau_de_confianca = 0.95\n",
    "\n",
    "# Intervalo de confiança acurárias\n",
    "erro_padrao_acuracias = sem(rl_accuracy)\n",
    "media_acuracias = np.mean(rl_accuracy)\n",
    "intervalo_confianca_acuracias = t.interval(grau_de_confianca, grau_de_liberdade, loc=media_acuracias, scale=erro_padrao_acuracias)\n",
    "\n",
    "# Intervalo de confiança F-Measure\n",
    "erro_padrao_f1s = sem(rl_f1)\n",
    "media_f1s = np.mean(rl_f1)\n",
    "intervalo_confianca_f1s = t.interval(grau_de_confianca, grau_de_liberdade, loc=media_f1s, scale=erro_padrao_f1s)\n",
    "\n",
    "# Intervalo de confiança Precisão\n",
    "erro_padrao_precisao = sem(rl_precision)\n",
    "media_precisao = np.mean(rl_precision)\n",
    "intervalo_confianca_precisao = t.interval(grau_de_confianca, grau_de_liberdade, loc=media_precisao, scale=erro_padrao_precisao)\n",
    "\n",
    "# Intervalo de confiança Cobertura\n",
    "erro_padrao_recall = sem(rl_recall)\n",
    "media_recall = np.mean(rl_recall)\n",
    "intervalo_confianca_recall = t.interval(grau_de_confianca, grau_de_liberdade, loc=media_recall, scale=erro_padrao_recall)\n",
    "\n",
    "print(\"Taxa de erro: %.4f (%.4f)\" % (np.mean(rl_accuracy), np.std(rl_accuracy)))\n",
    "print(\"Intervalo de confiança: \", intervalo_confianca_acuracias, \"\\n\")\n",
    "print(\"F-measure: %.4f (%.4f)\" % (np.mean(rl_f1), np.std(rl_f1)))\n",
    "print(\"Intervalo de confiança: \", intervalo_confianca_f1s, \"\\n\")\n",
    "print(\"Precisão: %.4f (%.4f)\" % (np.mean(rl_precision), np.std(rl_precision)))\n",
    "print(\"Intervalo de confiança: \", intervalo_confianca_precisao, \"\\n\")\n",
    "print(\"Cobertura: %.4f (%.4f)\" % (np.mean(rl_recall), np.std(rl_recall)))\n",
    "print(\"Intervalo de confiança: \", intervalo_confianca_recall)\n",
    "\n",
    "ind = 0\n",
    "for ranking in rankings['Regressão Logística']:\n",
    "  rankings['Regressão Logística'].iloc[ind] = rl_accuracy[ind]\n",
    "  ind = ind + 1"
   ]
  },
  {
   "attachments": {},
   "cell_type": "markdown",
   "metadata": {},
   "source": [
    "## Teste de Friedman"
   ]
  },
  {
   "cell_type": "code",
   "execution_count": 3,
   "metadata": {},
   "outputs": [
    {
     "name": "stdout",
     "output_type": "stream",
     "text": [
      "Distribuições diferentes (H0 rejeitada)\n"
     ]
    }
   ],
   "source": [
    "#Estabelecendo significância de 95%\n",
    "dados = np.asarray(rankings)\n",
    "\n",
    "stat, p = friedmanchisquare(dados[0], dados[1], dados[2], dados[3])\n",
    "\n",
    "print('Statistics=%.3f, p=%.3f' % (stat, p))\n",
    "# interpretaando o teste\n",
    "alpha = 0.05\n",
    "if p > alpha:\n",
    "\tprint('Mesmas distribuições (falha em rejeitar H0)')\n",
    "else:\n",
    "\tprint('Distribuições diferentes (H0 rejeitada)')"
   ]
  },
  {
   "cell_type": "code",
   "execution_count": 32,
   "metadata": {},
   "outputs": [
    {
     "data": {
      "text/html": [
       "<div>\n",
       "<style scoped>\n",
       "    .dataframe tbody tr th:only-of-type {\n",
       "        vertical-align: middle;\n",
       "    }\n",
       "\n",
       "    .dataframe tbody tr th {\n",
       "        vertical-align: top;\n",
       "    }\n",
       "\n",
       "    .dataframe thead th {\n",
       "        text-align: right;\n",
       "    }\n",
       "</style>\n",
       "<table border=\"1\" class=\"dataframe\">\n",
       "  <thead>\n",
       "    <tr style=\"text-align: right;\">\n",
       "      <th></th>\n",
       "      <th>Bayesiano Gaussiano</th>\n",
       "      <th>k-NN</th>\n",
       "      <th>Janela de Parzen</th>\n",
       "      <th>Regressão Logística</th>\n",
       "    </tr>\n",
       "  </thead>\n",
       "  <tbody>\n",
       "    <tr>\n",
       "      <th>0</th>\n",
       "      <td>0.350649</td>\n",
       "      <td>0.103896</td>\n",
       "      <td>0.090909</td>\n",
       "      <td>0.164502</td>\n",
       "    </tr>\n",
       "    <tr>\n",
       "      <th>1</th>\n",
       "      <td>0.298701</td>\n",
       "      <td>0.073593</td>\n",
       "      <td>0.099567</td>\n",
       "      <td>0.168831</td>\n",
       "    </tr>\n",
       "    <tr>\n",
       "      <th>2</th>\n",
       "      <td>0.359307</td>\n",
       "      <td>0.077922</td>\n",
       "      <td>0.086580</td>\n",
       "      <td>0.151515</td>\n",
       "    </tr>\n",
       "    <tr>\n",
       "      <th>3</th>\n",
       "      <td>0.294372</td>\n",
       "      <td>0.095238</td>\n",
       "      <td>0.082251</td>\n",
       "      <td>0.173160</td>\n",
       "    </tr>\n",
       "    <tr>\n",
       "      <th>4</th>\n",
       "      <td>0.307359</td>\n",
       "      <td>0.090909</td>\n",
       "      <td>0.090909</td>\n",
       "      <td>0.147186</td>\n",
       "    </tr>\n",
       "    <tr>\n",
       "      <th>...</th>\n",
       "      <td>...</td>\n",
       "      <td>...</td>\n",
       "      <td>...</td>\n",
       "      <td>...</td>\n",
       "    </tr>\n",
       "    <tr>\n",
       "      <th>295</th>\n",
       "      <td>0.337662</td>\n",
       "      <td>0.077922</td>\n",
       "      <td>0.086580</td>\n",
       "      <td>0.147186</td>\n",
       "    </tr>\n",
       "    <tr>\n",
       "      <th>296</th>\n",
       "      <td>0.333333</td>\n",
       "      <td>0.099567</td>\n",
       "      <td>0.099567</td>\n",
       "      <td>0.199134</td>\n",
       "    </tr>\n",
       "    <tr>\n",
       "      <th>297</th>\n",
       "      <td>0.294372</td>\n",
       "      <td>0.069264</td>\n",
       "      <td>0.069264</td>\n",
       "      <td>0.142857</td>\n",
       "    </tr>\n",
       "    <tr>\n",
       "      <th>298</th>\n",
       "      <td>0.320346</td>\n",
       "      <td>0.090909</td>\n",
       "      <td>0.090909</td>\n",
       "      <td>0.125541</td>\n",
       "    </tr>\n",
       "    <tr>\n",
       "      <th>299</th>\n",
       "      <td>0.303030</td>\n",
       "      <td>0.095238</td>\n",
       "      <td>0.077922</td>\n",
       "      <td>0.177489</td>\n",
       "    </tr>\n",
       "  </tbody>\n",
       "</table>\n",
       "<p>300 rows × 4 columns</p>\n",
       "</div>"
      ],
      "text/plain": [
       "     Bayesiano Gaussiano      k-NN  Janela de Parzen  Regressão Logística\n",
       "0               0.350649  0.103896          0.090909             0.164502\n",
       "1               0.298701  0.073593          0.099567             0.168831\n",
       "2               0.359307  0.077922          0.086580             0.151515\n",
       "3               0.294372  0.095238          0.082251             0.173160\n",
       "4               0.307359  0.090909          0.090909             0.147186\n",
       "..                   ...       ...               ...                  ...\n",
       "295             0.337662  0.077922          0.086580             0.147186\n",
       "296             0.333333  0.099567          0.099567             0.199134\n",
       "297             0.294372  0.069264          0.069264             0.142857\n",
       "298             0.320346  0.090909          0.090909             0.125541\n",
       "299             0.303030  0.095238          0.077922             0.177489\n",
       "\n",
       "[300 rows x 4 columns]"
      ]
     },
     "execution_count": 32,
     "metadata": {},
     "output_type": "execute_result"
    }
   ],
   "source": [
    "rankings"
   ]
  },
  {
   "attachments": {},
   "cell_type": "markdown",
   "metadata": {},
   "source": [
    "## Teste de Nemenyi"
   ]
  },
  {
   "cell_type": "code",
   "execution_count": 33,
   "metadata": {},
   "outputs": [],
   "source": [
    "def generate_scores(method, method_args, data, labels):\n",
    "    pairwise_scores = method(data, **method_args) # Matrix for all pairwise comaprisons\n",
    "    pairwise_scores.set_axis(labels, axis='columns', inplace=True) # Label the cols\n",
    "    pairwise_scores.set_axis(labels, axis='rows', inplace=True) # Label the rows, note: same label as pairwise combinations\n",
    "    return pairwise_scores"
   ]
  },
  {
   "cell_type": "code",
   "execution_count": 34,
   "metadata": {},
   "outputs": [
    {
     "data": {
      "text/html": [
       "<div>\n",
       "<style scoped>\n",
       "    .dataframe tbody tr th:only-of-type {\n",
       "        vertical-align: middle;\n",
       "    }\n",
       "\n",
       "    .dataframe tbody tr th {\n",
       "        vertical-align: top;\n",
       "    }\n",
       "\n",
       "    .dataframe thead th {\n",
       "        text-align: right;\n",
       "    }\n",
       "</style>\n",
       "<table border=\"1\" class=\"dataframe\">\n",
       "  <thead>\n",
       "    <tr style=\"text-align: right;\">\n",
       "      <th></th>\n",
       "      <th>Bayesiano Gaussiano</th>\n",
       "      <th>k-NN</th>\n",
       "      <th>Janela de Parzen</th>\n",
       "      <th>Regressão Logística</th>\n",
       "    </tr>\n",
       "  </thead>\n",
       "  <tbody>\n",
       "    <tr>\n",
       "      <th>Bayesiano Gaussiano</th>\n",
       "      <td>1.000</td>\n",
       "      <td>0.001000</td>\n",
       "      <td>0.001000</td>\n",
       "      <td>0.001</td>\n",
       "    </tr>\n",
       "    <tr>\n",
       "      <th>k-NN</th>\n",
       "      <td>0.001</td>\n",
       "      <td>1.000000</td>\n",
       "      <td>0.026394</td>\n",
       "      <td>0.001</td>\n",
       "    </tr>\n",
       "    <tr>\n",
       "      <th>Janela de Parzen</th>\n",
       "      <td>0.001</td>\n",
       "      <td>0.026394</td>\n",
       "      <td>1.000000</td>\n",
       "      <td>0.001</td>\n",
       "    </tr>\n",
       "    <tr>\n",
       "      <th>Regressão Logística</th>\n",
       "      <td>0.001</td>\n",
       "      <td>0.001000</td>\n",
       "      <td>0.001000</td>\n",
       "      <td>1.000</td>\n",
       "    </tr>\n",
       "  </tbody>\n",
       "</table>\n",
       "</div>"
      ],
      "text/plain": [
       "                     Bayesiano Gaussiano      k-NN  Janela de Parzen  \\\n",
       "Bayesiano Gaussiano                1.000  0.001000          0.001000   \n",
       "k-NN                               0.001  1.000000          0.026394   \n",
       "Janela de Parzen                   0.001  0.026394          1.000000   \n",
       "Regressão Logística                0.001  0.001000          0.001000   \n",
       "\n",
       "                     Regressão Logística  \n",
       "Bayesiano Gaussiano                0.001  \n",
       "k-NN                               0.001  \n",
       "Janela de Parzen                   0.001  \n",
       "Regressão Logística                1.000  "
      ]
     },
     "execution_count": 34,
     "metadata": {},
     "output_type": "execute_result"
    }
   ],
   "source": [
    "nemenyi_scores = generate_scores(sp.posthoc_nemenyi_friedman, {}, dados, rankings.columns)\n",
    "nemenyi_scores"
   ]
  }
 ],
 "metadata": {
  "kernelspec": {
   "display_name": "vc",
   "language": "python",
   "name": "python3"
  },
  "language_info": {
   "codemirror_mode": {
    "name": "ipython",
    "version": 3
   },
   "file_extension": ".py",
   "mimetype": "text/x-python",
   "name": "python",
   "nbconvert_exporter": "python",
   "pygments_lexer": "ipython3",
   "version": "3.8.11"
  },
  "orig_nbformat": 4
 },
 "nbformat": 4,
 "nbformat_minor": 2
}
