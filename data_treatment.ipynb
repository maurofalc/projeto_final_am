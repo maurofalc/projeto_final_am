{
 "cells": [
  {
   "cell_type": "code",
   "execution_count": 5,
   "metadata": {},
   "outputs": [],
   "source": [
    "import pandas as pd"
   ]
  },
  {
   "cell_type": "code",
   "execution_count": 9,
   "metadata": {},
   "outputs": [],
   "source": [
    "url1 = \"https://archive.ics.uci.edu/ml/machine-learning-databases/image/segmentation.data\"\n",
    "url2 = \"https://archive.ics.uci.edu/ml/machine-learning-databases/image/segmentation.test\""
   ]
  },
  {
   "cell_type": "code",
   "execution_count": 10,
   "metadata": {},
   "outputs": [],
   "source": [
    "cols = [\"CLASS\", \"REGION-CENTROID-COL\", \"REGION-CENTROID-ROW\", \"REGION-PIXEL-COUNT\", \"SHORT-LINE-DENSITY-5\", \"SHORT-LINE-DENSITY-2\", \"VEDGE-MEAN\", \"VEDGE-SD\", \"HEDGE-MEAN\", \"HEDGE-SD\", \"INTENSITY-MEAN\",\"RAWRED-MEAN\",\"RAWBLUE-MEAN\",\"RAWGREEN-MEAN\",\"EXRED-MEAN\",\"EXBLUE-MEAN\",\"EXGREEN-MEAN\",\"VALUE-MEAN\",\"SATURATION-MEAN\",\"HUE-MEAN\"]"
   ]
  },
  {
   "cell_type": "code",
   "execution_count": 11,
   "metadata": {},
   "outputs": [],
   "source": [
    "data1 = pd.read_csv(url1, header=2, names=cols)\n",
    "data2 = pd.read_csv(url2, header=2, names=cols)\n",
    "data = pd.concat([data1, data2])"
   ]
  },
  {
   "cell_type": "code",
   "execution_count": 14,
   "metadata": {},
   "outputs": [
    {
     "name": "stdout",
     "output_type": "stream",
     "text": [
      "<class 'pandas.core.frame.DataFrame'>\n",
      "Int64Index: 2310 entries, 0 to 2099\n",
      "Data columns (total 20 columns):\n",
      " #   Column                Non-Null Count  Dtype  \n",
      "---  ------                --------------  -----  \n",
      " 0   CLASS                 2310 non-null   object \n",
      " 1   REGION-CENTROID-COL   2310 non-null   float64\n",
      " 2   REGION-CENTROID-ROW   2310 non-null   float64\n",
      " 3   REGION-PIXEL-COUNT    2310 non-null   int64  \n",
      " 4   SHORT-LINE-DENSITY-5  2310 non-null   float64\n",
      " 5   SHORT-LINE-DENSITY-2  2310 non-null   float64\n",
      " 6   VEDGE-MEAN            2310 non-null   float64\n",
      " 7   VEDGE-SD              2310 non-null   float64\n",
      " 8   HEDGE-MEAN            2310 non-null   float64\n",
      " 9   HEDGE-SD              2310 non-null   float64\n",
      " 10  INTENSITY-MEAN        2310 non-null   float64\n",
      " 11  RAWRED-MEAN           2310 non-null   float64\n",
      " 12  RAWBLUE-MEAN          2310 non-null   float64\n",
      " 13  RAWGREEN-MEAN         2310 non-null   float64\n",
      " 14  EXRED-MEAN            2310 non-null   float64\n",
      " 15  EXBLUE-MEAN           2310 non-null   float64\n",
      " 16  EXGREEN-MEAN          2310 non-null   float64\n",
      " 17  VALUE-MEAN            2310 non-null   float64\n",
      " 18  SATURATION-MEAN       2310 non-null   float64\n",
      " 19  HUE-MEAN              2310 non-null   float64\n",
      "dtypes: float64(18), int64(1), object(1)\n",
      "memory usage: 379.0+ KB\n"
     ]
    }
   ],
   "source": [
    "data.info()"
   ]
  },
  {
   "attachments": {},
   "cell_type": "markdown",
   "metadata": {},
   "source": [
    "### Dataset 1 (shape)"
   ]
  },
  {
   "cell_type": "code",
   "execution_count": null,
   "metadata": {},
   "outputs": [],
   "source": [
    "dataset1 = data.iloc[:, 0:5]"
   ]
  },
  {
   "cell_type": "code",
   "execution_count": null,
   "metadata": {},
   "outputs": [
    {
     "name": "stdout",
     "output_type": "stream",
     "text": [
      "           SHORT-LINE-DENSITY-5  SHORT-LINE-DENSITY-2  VEDGE-MEAN  VEDGE-SD  \\\n",
      "BRICKFACE              0.000000                   0.0    0.277778  0.062963   \n",
      "BRICKFACE              0.000000                   0.0    0.333333  0.266667   \n",
      "BRICKFACE              0.000000                   0.0    0.277778  0.107407   \n",
      "BRICKFACE              0.000000                   0.0    0.500000  0.166667   \n",
      "BRICKFACE              0.000000                   0.0    0.722222  0.374074   \n",
      "...                         ...                   ...         ...       ...   \n",
      "CEMENT                 0.000000                   0.0    0.944445  0.862963   \n",
      "CEMENT                 0.111111                   0.0    1.611111  2.062962   \n",
      "CEMENT                 0.000000                   0.0    0.555555  0.251852   \n",
      "CEMENT                 0.000000                   0.0    2.166667  1.633334   \n",
      "CEMENT                 0.111111                   0.0    1.388889  1.129630   \n",
      "\n",
      "           HEDGE-MEAN  \n",
      "BRICKFACE    0.666667  \n",
      "BRICKFACE    0.500000  \n",
      "BRICKFACE    0.833333  \n",
      "BRICKFACE    1.111111  \n",
      "BRICKFACE    0.888889  \n",
      "...               ...  \n",
      "CEMENT       0.833333  \n",
      "CEMENT       0.333333  \n",
      "CEMENT       0.777778  \n",
      "CEMENT       1.388889  \n",
      "CEMENT       2.000000  \n",
      "\n",
      "[2310 rows x 5 columns]\n"
     ]
    }
   ],
   "source": [
    "print(dataset1)"
   ]
  },
  {
   "attachments": {},
   "cell_type": "markdown",
   "metadata": {},
   "source": [
    "### Dataset 2 (rbg)"
   ]
  },
  {
   "cell_type": "code",
   "execution_count": null,
   "metadata": {},
   "outputs": [],
   "source": [
    "dataset2 = data.iloc[:, 6:16]"
   ]
  },
  {
   "cell_type": "code",
   "execution_count": null,
   "metadata": {},
   "outputs": [
    {
     "name": "stdout",
     "output_type": "stream",
     "text": [
      "           INTENSITY-MEAN  RAWRED-MEAN  RAWBLUE-MEAN  RAWGREEN-MEAN  \\\n",
      "BRICKFACE        6.185185     7.333334      7.666666       3.555556   \n",
      "BRICKFACE        6.666666     8.333334      7.777778       3.888889   \n",
      "BRICKFACE        6.111111     7.555555      7.222222       3.555556   \n",
      "BRICKFACE        5.851852     7.777778      6.444445       3.333333   \n",
      "BRICKFACE        6.037037     7.000000      7.666666       3.444444   \n",
      "...                   ...          ...           ...            ...   \n",
      "CEMENT           7.962963     6.333334     11.888889       5.666666   \n",
      "CEMENT           8.370370     6.666666     12.000000       6.444445   \n",
      "CEMENT           7.148148     5.555555     10.888889       5.000000   \n",
      "CEMENT           8.444445     7.000000     12.222222       6.111111   \n",
      "CEMENT          10.037037     8.000000     14.555555       7.555555   \n",
      "\n",
      "           EXRED-MEAN  EXBLUE-MEAN  EXGREEN-MEAN  VALUE-MEAN  SATURATION-MEAN  \\\n",
      "BRICKFACE    3.444444     4.444445     -7.888889    7.777778         0.545635   \n",
      "BRICKFACE    5.000000     3.333333     -8.333333    8.444445         0.538580   \n",
      "BRICKFACE    4.333334     3.333333     -7.666666    7.555555         0.532628   \n",
      "BRICKFACE    5.777778     1.777778     -7.555555    7.777778         0.573633   \n",
      "BRICKFACE    2.888889     4.888889     -7.777778    7.888889         0.562919   \n",
      "...               ...          ...           ...         ...              ...   \n",
      "CEMENT      -4.888889    11.777778     -6.888889   11.888889         0.520578   \n",
      "CEMENT      -5.111111    10.888889     -5.777778   12.000000         0.484805   \n",
      "CEMENT      -4.777778    11.222222     -6.444445   10.888889         0.540918   \n",
      "CEMENT      -4.333334    11.333333     -7.000000   12.222222         0.503086   \n",
      "CEMENT      -6.111111    13.555555     -7.444445   14.555555         0.479931   \n",
      "\n",
      "           HUE-MEAN  \n",
      "BRICKFACE -1.121818  \n",
      "BRICKFACE -0.924817  \n",
      "BRICKFACE -0.965946  \n",
      "BRICKFACE -0.744272  \n",
      "BRICKFACE -1.175773  \n",
      "...             ...  \n",
      "CEMENT    -1.982834  \n",
      "CEMENT    -2.044946  \n",
      "CEMENT    -1.996307  \n",
      "CEMENT    -1.943449  \n",
      "CEMENT    -2.029312  \n",
      "\n",
      "[2310 rows x 10 columns]\n"
     ]
    }
   ],
   "source": [
    "print(dataset2)"
   ]
  },
  {
   "attachments": {},
   "cell_type": "markdown",
   "metadata": {},
   "source": [
    "### Dataset 3 (shape + rgb)"
   ]
  },
  {
   "cell_type": "code",
   "execution_count": null,
   "metadata": {},
   "outputs": [],
   "source": [
    "dataset3 = data"
   ]
  },
  {
   "cell_type": "code",
   "execution_count": null,
   "metadata": {},
   "outputs": [
    {
     "name": "stdout",
     "output_type": "stream",
     "text": [
      "           SHORT-LINE-DENSITY-5  SHORT-LINE-DENSITY-2  VEDGE-MEAN  VEDGE-SD  \\\n",
      "BRICKFACE              0.000000                   0.0    0.277778  0.062963   \n",
      "BRICKFACE              0.000000                   0.0    0.333333  0.266667   \n",
      "BRICKFACE              0.000000                   0.0    0.277778  0.107407   \n",
      "BRICKFACE              0.000000                   0.0    0.500000  0.166667   \n",
      "BRICKFACE              0.000000                   0.0    0.722222  0.374074   \n",
      "...                         ...                   ...         ...       ...   \n",
      "CEMENT                 0.000000                   0.0    0.944445  0.862963   \n",
      "CEMENT                 0.111111                   0.0    1.611111  2.062962   \n",
      "CEMENT                 0.000000                   0.0    0.555555  0.251852   \n",
      "CEMENT                 0.000000                   0.0    2.166667  1.633334   \n",
      "CEMENT                 0.111111                   0.0    1.388889  1.129630   \n",
      "\n",
      "           HEDGE-MEAN  HEDGE-SD  INTENSITY-MEAN  RAWRED-MEAN  RAWBLUE-MEAN  \\\n",
      "BRICKFACE    0.666667  0.311111        6.185185     7.333334      7.666666   \n",
      "BRICKFACE    0.500000  0.077778        6.666666     8.333334      7.777778   \n",
      "BRICKFACE    0.833333  0.522222        6.111111     7.555555      7.222222   \n",
      "BRICKFACE    1.111111  0.474074        5.851852     7.777778      6.444445   \n",
      "BRICKFACE    0.888889  0.429629        6.037037     7.000000      7.666666   \n",
      "...               ...       ...             ...          ...           ...   \n",
      "CEMENT       0.833333  0.611111        7.962963     6.333334     11.888889   \n",
      "CEMENT       0.333333  0.133333        8.370370     6.666666     12.000000   \n",
      "CEMENT       0.777778  0.162963        7.148148     5.555555     10.888889   \n",
      "CEMENT       1.388889  0.418518        8.444445     7.000000     12.222222   \n",
      "CEMENT       2.000000  0.888889       10.037037     8.000000     14.555555   \n",
      "\n",
      "           RAWGREEN-MEAN  EXRED-MEAN  EXBLUE-MEAN  EXGREEN-MEAN  VALUE-MEAN  \\\n",
      "BRICKFACE       3.555556    3.444444     4.444445     -7.888889    7.777778   \n",
      "BRICKFACE       3.888889    5.000000     3.333333     -8.333333    8.444445   \n",
      "BRICKFACE       3.555556    4.333334     3.333333     -7.666666    7.555555   \n",
      "BRICKFACE       3.333333    5.777778     1.777778     -7.555555    7.777778   \n",
      "BRICKFACE       3.444444    2.888889     4.888889     -7.777778    7.888889   \n",
      "...                  ...         ...          ...           ...         ...   \n",
      "CEMENT          5.666666   -4.888889    11.777778     -6.888889   11.888889   \n",
      "CEMENT          6.444445   -5.111111    10.888889     -5.777778   12.000000   \n",
      "CEMENT          5.000000   -4.777778    11.222222     -6.444445   10.888889   \n",
      "CEMENT          6.111111   -4.333334    11.333333     -7.000000   12.222222   \n",
      "CEMENT          7.555555   -6.111111    13.555555     -7.444445   14.555555   \n",
      "\n",
      "           SATURATION-MEAN  HUE-MEAN  \n",
      "BRICKFACE         0.545635 -1.121818  \n",
      "BRICKFACE         0.538580 -0.924817  \n",
      "BRICKFACE         0.532628 -0.965946  \n",
      "BRICKFACE         0.573633 -0.744272  \n",
      "BRICKFACE         0.562919 -1.175773  \n",
      "...                    ...       ...  \n",
      "CEMENT            0.520578 -1.982834  \n",
      "CEMENT            0.484805 -2.044946  \n",
      "CEMENT            0.540918 -1.996307  \n",
      "CEMENT            0.503086 -1.943449  \n",
      "CEMENT            0.479931 -2.029312  \n",
      "\n",
      "[2310 rows x 16 columns]\n"
     ]
    }
   ],
   "source": [
    "print(dataset3)"
   ]
  }
 ],
 "metadata": {
  "kernelspec": {
   "display_name": "vc",
   "language": "python",
   "name": "python3"
  },
  "language_info": {
   "codemirror_mode": {
    "name": "ipython",
    "version": 3
   },
   "file_extension": ".py",
   "mimetype": "text/x-python",
   "name": "python",
   "nbconvert_exporter": "python",
   "pygments_lexer": "ipython3",
   "version": "3.8.11"
  },
  "orig_nbformat": 4
 },
 "nbformat": 4,
 "nbformat_minor": 2
}
