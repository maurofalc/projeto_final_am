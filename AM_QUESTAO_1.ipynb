{
 "cells": [
  {
   "cell_type": "code",
   "execution_count": 13,
   "metadata": {
    "id": "rxl5MDk5bRPm"
   },
   "outputs": [],
   "source": [
    "import skfuzzy.cluster as fuzz\n",
    "import numpy as np\n",
    "import pandas as pd\n",
    "from sklearn.metrics import confusion_matrix\n",
    "import warnings\n",
    "warnings.filterwarnings('ignore')\n",
    "\n",
    "# Importar o conjunto de dados\n",
    "url1 = \"https://archive.ics.uci.edu/ml/machine-learning-databases/image/segmentation.data\"\n",
    "url2 = \"https://archive.ics.uci.edu/ml/machine-learning-databases/image/segmentation.test\"\n",
    "\n",
    "cols = [\"CLASS\", \"REGION-CENTROID-COL\", \"REGION-CENTROID-ROW\", \"REGION-PIXEL-COUNT\", \"SHORT-LINE-DENSITY-5\", \"SHORT-LINE-DENSITY-2\", \"VEDGE-MEAN\", \"VEDGE-SD\", \"HEDGE-MEAN\", \"HEDGE-SD\", \"INTENSITY-MEAN\",\"RAWRED-MEAN\",\"RAWBLUE-MEAN\",\"RAWGREEN-MEAN\",\"EXRED-MEAN\",\"EXBLUE-MEAN\",\"EXGREEN-MEAN\",\"VALUE-MEAN\",\"SATURATION-MEAN\",\"HUE-MEAN\"]\n",
    "\n",
    "df1 = pd.read_csv(url1, header=2, names=cols)\n",
    "df2 = pd.read_csv(url2, header=2, names=cols)\n",
    "df3 = pd.concat([df1, df2]).drop([\"REGION-CENTROID-COL\", \"REGION-CENTROID-ROW\", \"REGION-PIXEL-COUNT\"], axis=1)\n",
    "best_Us = []"
   ]
  },
  {
   "cell_type": "code",
   "execution_count": 6,
   "metadata": {
    "id": "it_ebJJ0bTrW"
   },
   "outputs": [],
   "source": [
    "df1 = df3.iloc[:,4:9] \n",
    "df2 = df3.iloc[:,10:19]\n",
    "df3 = df3.iloc[:,4:19]"
   ]
  },
  {
   "cell_type": "code",
   "execution_count": 7,
   "metadata": {
    "id": "FxnP1ROIcQJJ"
   },
   "outputs": [],
   "source": [
    "X = df3.iloc[:, :-1].to_numpy(dtype=np.float32) #substituir df3 por dfs\n",
    "y = df3.iloc[:, -1].to_numpy()\n",
    "X = (X - X.mean(axis=0)) / X.std(axis=0)"
   ]
  },
  {
   "cell_type": "markdown",
   "metadata": {},
   "source": [
    "O objetivo da padronização é colocar os dados em uma escala com média zero e desvio padrão igual a um, o que pode ser benéfico para muitos algoritmos de aprendizado de máquina. Isso garante que os recursos tenham uma influência comparável no modelo, evitando que recursos com valores maiores dominem aqueles com valores menores. Além disso, a padronização ajuda a lidar com diferenças de escala entre os recursos.\n",
    "\n",
    "Portanto, esse trecho de código realiza o pré-processamento dos dados, convertendo-os em arrays NumPy e aplicando a padronização Z-score nos recursos."
   ]
  },
  {
   "cell_type": "code",
   "execution_count": 36,
   "metadata": {
    "colab": {
     "base_uri": "https://localhost:8080/"
    },
    "id": "8r5LDS9RREz2",
    "outputId": "f048d935-f410-4072-b2de-bd9c52aaf81d"
   },
   "outputs": [
    {
     "name": "stdout",
     "output_type": "stream",
     "text": [
      "Melhor resultado de acordo com a Função objetivo: 13424.922897961931\n"
     ]
    }
   ],
   "source": [
    "#Para m=2\n",
    "n_clusters = 7\n",
    "\n",
    "for dfs in range(3): #Aqui selecionamos os 3 datasets\n",
    "    best_obj_func = np.inf \n",
    "    best_U = None # Melhor resultado\n",
    "    for i in range(50):\n",
    "        cntr, u, u0, d, jm, p, fpc = fuzz.cmeans(data=X.T, c=n_clusters, m=2, error=1e-3, maxiter=100, metric='cityblock')\n",
    "        if jm.mean() < best_obj_func:\n",
    "            best_obj_func = jm.mean()\n",
    "            best_U = u\n",
    "    best_Us.append(best_U) #best_Us contém todas as melhores matrizes de partição fuzzy obtidas no algoritmo FCM\n",
    "\n",
    "best_jm = np.inf\n",
    "\n",
    "cntr, u, _, _, jm, _, _ = fuzz.cmeans(data=X.T, c=n_clusters, m=2, error=1e-3, maxiter=1000, metric='cityblock')\n",
    "if jm.mean() < best_jm:\n",
    "    best_jm = jm.mean()\n",
    "    best_U = u\n",
    "print(\"Melhor resultado de acordo com a Função objetivo:\", best_jm)"
   ]
  },
  {
   "cell_type": "markdown",
   "metadata": {},
   "source": [
    "É implementado o algoritmo Fuzzy C-Means (FCM) com uma distância city-block personalizada para particionar um conjunto de dados em um número específico de clusters (7). \n",
    "\n",
    "Definição dos parâmetros:\n",
    "\n",
    "m = 2: É o parâmetro de ponderação que controla o grau de fuzzificação. Valores maiores de m levam a partições mais difusas.\n",
    "\n",
    "n_clusters = 7: É o número desejado de clusters para particionar os dados.\n",
    "\n",
    "Inicialização dos melhores resultados:\n",
    "\n",
    "best_obj_func = np.inf: É uma variável que armazena a melhor função objetivo (juntamente com a menor distância) encontrada durante o processo de otimização.\n",
    "\n",
    "best_U = None: É uma variável que armazena a melhor matriz de pertinência fuzzy (U) encontrada durante o processo de otimização.\n",
    "\n",
    "best_Us = []: É uma lista que armazena todas as melhores matrizes de pertinência fuzzy obtidas ao longo do algoritmo FCM.\n",
    "\n",
    "Laço externo para seleção dos três datasets:\n",
    "\n",
    "for dfs in range(3): Itera três vezes para selecionar três conjuntos de dados diferentes.\n",
    "Laço interno para execução do algoritmo FCM:\n",
    "\n",
    "for i in range(50): Itera 50 vezes para executar o algoritmo FCM com diferentes inicializações.\n",
    "Execução do algoritmo FCM:\n",
    "\n",
    "cntr, u, u0, d, jm, p, fpc = fuzz.cmeans(data=X.T, c=n_clusters, m=2, error=1e-3, maxiter=100, metric='cityblock'): Nesta linha, o algoritmo FCM é executado usando o conjunto de dados X.T (transposto) com os seguintes parâmetros:\n",
    "data=X.T: Os dados de entrada para o algoritmo FCM. Eles devem ser fornecidos como uma matriz de formato (n_features, n_samples).\n",
    "c=n_clusters: O número de clusters desejado.\n",
    "m=2: O parâmetro de fuzzificação.\n",
    "error=1e-3: O critério de parada baseado no erro máximo permitido entre duas iterações consecutivas.\n",
    "maxiter=100: O número máximo de iterações permitidas para o algoritmo.\n",
    "metric='cityblock': A métrica de distância usada para calcular a dissimilaridade entre os dados.\n",
    "\n",
    "Atualização dos melhores resultados:\n",
    "\n",
    "if jm.mean() < best_obj_func: Verifica se a função objetivo (jm.mean()) obtida é menor que a melhor função objetivo encontrada até o momento (best_obj_func).\n",
    "\n",
    "best_obj_func = jm.mean(): Atualiza a melhor função objetivo encontrada (best_obj_func) com o valor da função objetivo atual (jm.mean()).\n",
    "\n",
    "best_U = u: Atualiza a melhor matriz de pertinência fuzzy (best_U) com a matriz de pertinência fuzzy atual (u).\n",
    "\n",
    "Armazenamento das melhores matrizes de pertinência fuzzy:\n",
    "\n",
    "best_Us.append(best_U)"
   ]
  },
  {
   "cell_type": "code",
   "execution_count": 37,
   "metadata": {
    "colab": {
     "base_uri": "https://localhost:8080/"
    },
    "id": "TxIMKw-xRjzi",
    "outputId": "896f8f18-ea59-4efb-a16e-2a4e9cfbe06d"
   },
   "outputs": [
    {
     "name": "stdout",
     "output_type": "stream",
     "text": [
      "Melhor resultado de acordo com a Função objetivo: 22497.2944698123\n"
     ]
    }
   ],
   "source": [
    "#Para m = 1.6\n",
    "best_jm = np.inf\n",
    "cntr, u, _, _, jm, _, _ = fuzz.cmeans(data=X.T, c=n_clusters, m=1.6, error=1e-3, maxiter=100, metric='cityblock')\n",
    "if jm.mean() < best_jm:\n",
    "    best_jm = jm.mean()\n",
    "    best_U = u\n",
    "print(\"Melhor resultado de acordo com a Função objetivo:\", best_jm)"
   ]
  },
  {
   "cell_type": "code",
   "execution_count": 38,
   "metadata": {
    "colab": {
     "base_uri": "https://localhost:8080/"
    },
    "id": "mKHvPLoad6lj",
    "outputId": "aa721dea-a24d-4645-d009-5af67d7c92cd"
   },
   "outputs": [
    {
     "name": "stdout",
     "output_type": "stream",
     "text": [
      "Melhor resultado de acordo com a Função objetivo: 37077.464651555376\n"
     ]
    }
   ],
   "source": [
    "#Para m = 1.1\n",
    "best_jm = np.inf\n",
    "cntr, u, _, _, jm, _, _ = fuzz.cmeans(data=X.T, c=n_clusters, m=1.1, error=1e-3, maxiter=100, metric='cityblock')\n",
    "if jm.mean() < best_jm:\n",
    "    best_jm = jm.mean()\n",
    "    best_U = u\n",
    "print(\"Melhor resultado de acordo com a Função objetivo:\", best_jm)"
   ]
  },
  {
   "cell_type": "code",
   "execution_count": 10,
   "metadata": {
    "colab": {
     "base_uri": "https://localhost:8080/"
    },
    "id": "xSzgS-qIabst",
    "outputId": "84944be8-ec62-4f47-df47-fe9be2536c2a"
   },
   "outputs": [
    {
     "name": "stdout",
     "output_type": "stream",
     "text": [
      "Modified Partition Coefficient (df1): 611.7202849594473 Partition entropy (df1): 1.4762013745585374 \n",
      "Modified Partition Coefficient (df2): 783.3604524365124 Partition entropy (df2): 1.858293864957897 \n",
      "Modified Partition Coefficient (df3): 1092.5986166163148 Partition entropy (df3): 1.8724482691869717 \n"
     ]
    }
   ],
   "source": [
    "#MODIFIED PARTITION COEFFICIENT #revisar em virtude do resultado!\n",
    "\n",
    "#Para df1\n",
    "cntr, u, u0, d, jm, p, fpc = fuzz.cmeans(data=df1.T, c=n_clusters, m=2, error=1e-3, maxiter=100, metric='cityblock')\n",
    "FE = -np.sum(u*np.log(u))\n",
    "PE = -np.sum(u.mean(axis=1)*np.log(u.mean(axis=1)))\n",
    "PC = (FE - PE) / np.log(n_clusters)\n",
    "print(f\"Modified Partition Coefficient (df1): {PC} Partition entropy (df1): {PE} \")\n",
    "\n",
    "#Para df2\n",
    "cntr, u, _, _, _, _, _ = fuzz.cmeans(data=df2.T, c=n_clusters, m=2, error=1e-3, maxiter=100, metric='cityblock')\n",
    "FE = -np.sum(u*np.log(u))\n",
    "PE = -np.sum(u.mean(axis=1)*np.log(u.mean(axis=1)))\n",
    "PC = (FE - PE) / np.log(n_clusters)\n",
    "print(f\"Modified Partition Coefficient (df2): {PC} Partition entropy (df2): {PE} \")\n",
    "\n",
    "#Para df3\n",
    "cntr, u, u0, d, jm, p, fpc = fuzz.cmeans(data=X.T, c=n_clusters, m=2, error=1e-3, maxiter=100, metric='cityblock')\n",
    "FE = -np.sum(u*np.log(u))\n",
    "PE = -np.sum(u.mean(axis=1)*np.log(u.mean(axis=1)))\n",
    "PC = (FE - PE) / np.log(n_clusters)\n",
    "print(f\"Modified Partition Coefficient (df3): {PC} Partition entropy (df3): {PE} \")\n"
   ]
  },
  {
   "cell_type": "markdown",
   "metadata": {},
   "source": [
    "É calculado o Coeficiente de Partição Modificado (Modified Partition Coefficient) e a Entropia de Partição (Partition Entropy) para três diferentes conjuntos de dados (df1, df2 e df3). \n",
    "\n",
    "Cálculo do Coeficiente de Partição Modificado e da Entropia de Partição para df1:\n",
    "\n",
    "cntr, u, u0, d, jm, p, fpc = fuzz.cmeans(data=df1.T, c=n_clusters, m=2, error=1e-3, maxiter=100, metric='cityblock'): O algoritmo FCM é executado para o conjunto de dados df1, produzindo a matriz de pertinência fuzzy u.\n",
    "\n",
    "FE = -np.sum(u*np.log(u)): Calcula a Entropia Fuzzy (Fuzzy Entropy) para a matriz de pertinência u. A Entropia Fuzzy é uma medida da difusão dos membros de cada cluster. Quanto maior a entropia, mais difusa é a partição.\n",
    "\n",
    "PE = -np.sum(u.mean(axis=1)*np.log(u.mean(axis=1))): Calcula a Entropia de Partição (Partition Entropy) para a matriz de pertinência u. A Entropia de Partição é uma medida da incerteza associada à distribuição dos membros entre os clusters.\n",
    "\n",
    "PC = (FE - PE) / np.log(n_clusters): Calcula o Coeficiente de Partição Modificado (Modified Partition Coefficient) usando a diferença entre a Entropia Fuzzy e a Entropia de Partição normalizada pelo logaritmo do número de clusters. O Coeficiente de Partição Modificado varia de -1 a 1, onde valores mais próximos de 1 indicam partições mais nítidas e valores mais próximos de -1 indicam partições mais difusas.\n",
    "\n"
   ]
  },
  {
   "cell_type": "code",
   "execution_count": 40,
   "metadata": {
    "colab": {
     "base_uri": "https://localhost:8080/"
    },
    "id": "Fgigc-vcjcTl",
    "outputId": "a8172c2a-29ed-455d-d1ce-f21ca5e704d9",
    "scrolled": true
   },
   "outputs": [
    {
     "name": "stdout",
     "output_type": "stream",
     "text": [
      "Partição nítida do conjunto de dados 1:\n",
      "[2 2 2 2 2 2 4 4 4 4 2 4 2 4 4 2 2 4 2 2 2 4 2 4 4 4 2 2 4 4 6 6 6 6 6 6 6\n",
      " 6 6 6 6 6 6 6 6 6 6 6 6 6 6 6 6 6 6 6 6 6 6 6 2 2 2 2 2 2 0 2 4 4 2 2 5 2\n",
      " 2 2 2 5 2 2 2 2 2 3 2 2 4 2 2 2 5 5 5 4 5 5 5 5 5 5 4 5 4 5 4 2 5 5 4 2 5\n",
      " 5 5 5 5 5 5 5 5 5 2 2 2 4 2 4 2 2 2 2 4 4 2 2 2 2 2 2 2 2 4 2 4 2 4 2 2 2\n",
      " 2 2 5 4 5 5 5 5 5 5 5 5 4 5 5 5 5 5 5 5 5 4 5 5 5 5 5 5 5 5 5 5 4 4 4 2 2\n",
      " 4 2 4 4 2 2 4 4 4 2 4 4 4 4 2 2 4 4 2 2 2 2 4 4 2 2 2 2 2 4 2 4 4 4 2 2 2\n",
      " 2 2 2 2 2 2 4 4 2 2 2 2 4 2 2 2 2 4 2 2 2 2 4 2 2 2 2 2 4 2 2 2 2 4 2 4 5\n",
      " 5 5 5 5 5 5 5 5 5 5 5 5 5 5 5 5 5 5 5 5 5 5 5 5 5 5 5 5 5 5 5 5 5 5 5 5 5\n",
      " 5 5 5 5 5 5 5 5 5 5 5 5 5 5 5 5 5 5 5 5 5 5 5 5 5 5 5 5 5 5 5 5 5 5 5 5 5\n",
      " 5 5 5 5 5 5 5 5 5 5 5 5 5 5 2 2 2 2 2 2 2 2 2 2 2 2 2 2 2 2 2 2 2 2 2 2 2\n",
      " 2 2 2 2 2 2 2 2 2 2 2 2 2 2 2 2 2 2 2 2 2 2 2 2 2 2 2 2 2 2 2 2 2 2 2 2 2\n",
      " 2 2 2 2 2 2 2 2 2 2 2 2 4 2 2 2 2 2 2 2 2 2 2 2 2 2 2 2 2 2 2 2 2 2 2 2 5\n",
      " 5 5 5 4 5 5 4 4 4 5 5 5 4 5 5 5 4 5 5 5 5 5 5 5 5 5 5 5 5 5 4 5 5 5 5 5 4\n",
      " 5 4 5 5 5 5 5 4 4 5 4 4 4 5 5 5 4 5 5 5 4 4 5 5 5 5 5 4 4 5 5 5 5 5 5 5 5\n",
      " 5 5 5 5 5 4 5 5 4 4 5 5 4 5 5 5 5 5 5 5 5 5 5 5 4 5 5 5 5 5 5 5 5 5 4 5 5\n",
      " 4 5 5 5 5 4 5 4 5 5 5 5 4 5 5 5 5 5 5 5 5 5 5 5 5 4 5 5 4 5 5 5 5 4 4 5 4\n",
      " 5 5 5 5 4 5 5 5 4 5 4 5 2 2 2 4 4 2 2 2 5 2 4 4 4 2 2 2 2 2 2 2 2 2 4 2 4\n",
      " 4 2 2 2 2 2 2 2 4 4 2 4 2 2 2 2 2 2 2 2 4 2 2 4 2 2 4 2 2 2 5 4 2 2 2 2 2\n",
      " 4 2 2 2 2 2 2 2 2 4 2 2 2 4 2 2 2 4 2 2 2 2 2 2 2 2 4 2 2 4 2 2 2 2 2 2 2\n",
      " 2 6 6 6 6 6 6 6 6 6 6 6 6 6 6 6 6 6 6 6 6 6 6 6 6 6 6 6 6 6 6 6 6 6 6 6 6\n",
      " 6 6 6 6 6 6 6 6 6 6 6 6 6 6 6 6 6 6 6 6 6 6 6 6 6 4 2 4 4 4 4 4 2 4 4 4 2\n",
      " 2 4 2 4 2 4 2 4 2 4 4 2 4 2 4 2 2 4 4 4 4 4 2 2 2 2 4 2 4 4 2 2 2 2 4 4 2\n",
      " 2 4 2 4 4 4 4 4 4 2 4 4 2 2 4 4 4 4 4 4 2 4 4 2 2 4 4 4 4 2 4 2 4 4 4 2 2\n",
      " 4 4 4 4 4 4 2 4 2 2 2 2 2 4 2 4 4 2 4 2 4 4 4 2 2 4 4 2 2 4 2 5 5 5 5 5 5\n",
      " 5 5 5 5 4 5 4 5 5 5 5 5 4 5 5 2 5 5 4 4 5 5 5 5 4 5 5 4 6 6 6 6 6 6 6 6 6\n",
      " 6 6 6 6 6 6 6 6 6 6 6 6 6 6 6 6 6 6 6 6 6 6 6 6 6 6 6 6 6 6 6 6 6 6 6 6 6\n",
      " 6 6 6 6 6 6 6 6 6 6 6 4 4 4 4 4 4 4 4 4 4 4 4 4 4 4 4 4 4 4 4 4 4 4 4 4 4\n",
      " 4 4 4 4 4 4 4 4 4 4 4 4 4 4 4 4 4 4 4 4 4 4 4 4 5 5 5 5 5 5 5 5 5 5 5 5 5\n",
      " 5 5 5 5 5 5 5 5 5 5 5 5 5 5 5 5 5 5 5 5 5 5 5 5 5 5 5 5 5 5 5 5 5 5 5 5 5\n",
      " 5 5 5 5 5 5 5 5 5 5 5 5 5 5 5 5 5 5 5 5 5 5 5 5 5 5 5 5 5 5 5 5 5 5 5 5 5\n",
      " 5 5 5 5 5 5 5 5 5 5 5 5 5 5 5 5 5 5 5 5 5 5 5 5 5 5 5 5 5 5 5 5 5 5 5 5 5\n",
      " 5 5 5 5 5 5 5 5 5 5 5 5 5 5 5 4 4 2 2 4 4 2 2 4 4 2 4 4 2 2 2 2 4 2 4 2 4\n",
      " 4 4 2 4 2 2 4 4 4 2 2 4 4 2 4 2 2 2 4 2 2 2 2 2 2 4 4 4 2 2 2 2 4 2 2 2 2\n",
      " 2 4 2 5 4 5 5 5 4 5 3 5 5 5 5 5 5 5 5 5 3 5 5 5 5 5 5 4 5 5 5 5 5 5 5 5 5\n",
      " 5 5 5 5 5 5 5 5 4 5 5 5 5 5 5 5 5 4 4 5 5 5 5 4 4 4 4 4 4 4 4 4 4 4 4 4 4\n",
      " 4 4 4 4 4 4 4 4 4 4 4 4 4 4 4 4 4 4 4 4 4 4 4 4 4 4 4 4 4 4 4 4 4 4 4 4 4\n",
      " 4 4 4 4 4 4 4 4 4 4 4 4 4 4 4 4 4 4 4 4 4 4 4 4 4 4 4 4 4 4 4 4 4 4 4 4 4\n",
      " 4 4 4 4 4 4 4 4 4 4 4 4 4 4 4 4 4 4 4 4 4 4 4 4 4 4 4 4 4 4 4 4 4 4 4 4 4\n",
      " 4 4 4 4 4 4 4 4 4 4 4 4 4 4 4 4 4 4 4 4 4 4 4 4 4 4 4 4 4 4 4 4 4 4 4 4 4\n",
      " 4 4 4 4 4 4 4 4 2 2 2 2 2 2 1 2 2 2 2 2 2 2 2 2 2 2 2 2 2 2 2 2 2 2 0 2 2\n",
      " 2 2 2 2 3 2 2 2 2 2 2 2 2 2 3 4 2 2 2 2 3 6 6 6 6 6 6 6 6 6 6 6 6 6 6 6 6\n",
      " 6 6 6 6 6 6 6 6 6 6 6 6 6 6 6 6 6 6 6 6 6 6 6 6 6 6 6 6 2 2 4 2 4 2 4 4 4\n",
      " 4 4 4 4 4 4 4 4 4 4 4 2 4 4 4 4 2 2 4 4 4 2 4 4 4 4 4 4 4 4 4 4 4 2 2 2 2\n",
      " 2 2 2 2 2 2 2 2 2 2 2 2 2 2 2 2 2 2 2 2 2 2 2 2 2 2 4 2 4 4 4 4 4 4 4 4 2\n",
      " 4 4 4 4 4 4 4 4 2 4 4 4 4 4 4 4 2 4 4 4 4 4 3 2 2 2 2 2 2 2 2 2 2 2 3 2 2\n",
      " 1 2 2 2 2 2 2 2 2 2 1 2 2 2 2 2 2 2 2 2 2 4 1 2 2 2 2 3 2 2 2 2 2 2 2 2 2\n",
      " 2 2 2 2 2 1 2 2 2 2 2 2 2 2 2 2 2 2 2 2 0 2 2 2 2 3 2 2 2 2 2 2 2 2 2 2 2\n",
      " 4 2 2 2 2 1 2 2 2 2 2 2 2 2 2 2 2 2 2 2 2 2 2 2 2 2 2 5 2 2 2 2 2 2 2 2 2\n",
      " 2 2 2 2 2 2 2 2 2 2 2 2 2 2 2 2 2 2 2 2 6 6 6 6 6 6 6 6 6 6 6 6 6 6 6 6 6\n",
      " 6 6 6 6 6 6 6 6 6 6 6 6 6 6 6 6 6 6 6 6 6 6 6 6 6 6 6 6 6 6 6 6 6 6 6 6 6\n",
      " 6 6 6 6 4 4 2 2 4 2 2 2 4 4 4 2 2 4 2 4 2 4 2 4 4 2 2 2 4 4 4 4 4 4 4 4 2\n",
      " 2 2 4 2 2 4 2 2 4 4 4 2 4 4 4 4 4 2 4 4 4 4 2 5 4 5 5 5 5 5 5 5 5 5 5 5 4\n",
      " 5 5 5 5 5 5 5 5 4 5 5 4 5 5 5 5 4 4 2 2 2 2 2 2 4 4 2 2 2 4 4 2 4 4 4 2 4\n",
      " 4 2 2 2 2 4 2 2 2 4 2 5 5 5 5 5 5 4 5 5 5 5 5 2 2 2 2 2 2 2 2 2 2 2 2 2 2\n",
      " 2 2 2 2 2 2 2 2 2 2 2 2 2 2 2 2 2 2 2 2 2 2 2 2 2 2 2 2 2 2 2 2 2 2 2 2 2\n",
      " 2 2 2 2 2 2 2 2 2 2 2 2 2 2 2 2 2 2 2 2 2 2 2 2 2 2 2 2 2 2 2 2 2 2 2 2 2\n",
      " 2 2 2 2 2 2 2 2 2 2 2 2 2 2 2 2 2 2 2 2 2 2 2 2 2 2 2 2 2 2 2 2 2 2 2 2 2\n",
      " 2 2 2 2 2 6 6 6 6 6 6 6 6 6 6 6 6 6 6 6 6 6 6 6 5 6 6 6 6 6 6 6 6 6 6 6 6\n",
      " 6 6 6 6 6 6 6 6 5 6 6 6 6 6 6 6 6 6 6 6 6 6 6 6 6 6 6 6 6 6 6 6 5 6 6 6 6\n",
      " 6 6 6 6 6 6 6 6 6 6 6 2 2 2 2 2 2 2 2 2 2 2 2 2 2 4 2 2 2 2 2 2 2 2 4 2 4\n",
      " 2 4 2 2 2 2 2 2 2 2 2 2 2 2 2 2 2 2 2 2 4 4 4 4 4 4 4 4 4 4 4 4 4 4 4 4 4\n",
      " 4 4 4 4 4 4 4 4 4 4 4 4 4 4 4 4 4 4 4 4 4 4 4 4 4 2 2 2 2 2 2 2 3 2 2 2 2\n",
      " 2 2 2 2 2 2 2 2 2 2 2 2 2 2 2 2]\n",
      "Partição nítida do conjunto de dados 2:\n",
      "[6 6 6 6 6 6 0 0 0 0 6 0 6 0 0 6 6 0 6 6 6 0 6 0 0 0 6 6 0 0 4 1 1 1 4 4 4\n",
      " 1 1 4 1 4 1 1 1 4 4 4 1 4 1 4 1 1 1 1 4 4 4 4 6 6 6 6 6 6 5 6 0 0 0 6 5 6\n",
      " 6 6 6 2 6 0 6 6 6 0 6 6 0 6 6 6 2 2 2 0 2 2 2 2 2 2 2 5 0 5 2 0 5 5 0 6 5\n",
      " 2 2 2 5 2 2 5 5 2 6 6 6 0 6 0 6 6 6 6 0 0 6 0 6 6 6 6 6 0 0 6 0 6 0 6 6 0\n",
      " 6 6 5 0 5 2 5 2 2 2 5 5 0 2 2 5 2 5 2 2 2 2 5 2 5 5 2 2 2 5 2 5 3 3 3 3 3\n",
      " 3 3 3 3 6 3 3 3 3 3 3 3 3 3 3 3 3 3 3 3 3 3 3 3 3 3 3 3 3 3 3 3 3 3 3 3 3\n",
      " 3 3 3 3 3 3 3 3 3 3 3 3 3 3 3 3 3 3 3 3 3 3 3 3 3 3 3 3 3 3 3 3 3 3 3 3 2\n",
      " 2 2 2 2 2 2 2 2 2 2 2 2 2 2 2 2 2 2 2 2 2 2 2 2 2 2 2 2 2 2 2 2 2 2 2 2 2\n",
      " 2 2 2 2 2 2 2 2 2 2 2 2 2 2 2 5 2 2 2 2 2 2 2 2 2 2 2 2 2 2 2 5 2 2 2 5 2\n",
      " 5 2 2 2 2 2 2 2 2 2 5 2 2 2 6 6 6 6 6 0 6 6 6 6 6 6 6 6 0 6 6 0 6 0 6 6 6\n",
      " 6 0 6 6 6 6 6 6 0 6 6 6 6 6 6 6 6 6 6 6 6 6 6 6 6 6 6 0 6 6 6 6 6 6 6 6 6\n",
      " 6 6 6 6 6 6 6 6 0 6 0 6 0 6 6 6 6 6 6 6 6 6 6 6 6 0 6 6 6 6 6 6 6 0 6 6 5\n",
      " 2 2 5 0 2 5 2 6 2 2 2 5 0 5 5 5 2 5 5 2 2 5 5 5 5 2 5 2 2 5 2 5 2 5 5 5 0\n",
      " 2 2 5 5 5 5 2 0 2 2 0 2 0 5 5 2 0 5 2 5 0 2 5 5 5 2 5 0 0 5 5 5 5 5 2 5 5\n",
      " 5 2 2 2 5 2 2 5 0 0 5 5 2 5 5 5 2 5 2 2 5 5 5 2 0 5 2 5 5 5 5 5 2 5 0 5 2\n",
      " 0 5 2 5 5 2 2 0 5 5 2 5 2 5 5 5 5 5 5 5 5 5 5 2 5 2 2 5 2 2 5 5 2 2 2 5 0\n",
      " 2 2 2 2 2 5 5 5 2 5 0 5 6 6 6 0 0 6 0 6 2 6 0 0 0 6 6 6 6 6 0 6 6 0 0 6 0\n",
      " 0 0 0 0 6 6 0 6 0 0 6 0 6 6 6 6 0 6 0 6 2 0 6 2 6 0 0 6 6 6 2 0 6 6 6 6 6\n",
      " 0 6 6 0 6 6 0 6 6 2 6 6 6 0 6 6 6 0 0 6 6 0 6 6 6 6 2 6 0 0 0 6 6 6 6 6 0\n",
      " 0 1 1 1 1 1 1 1 1 1 1 1 1 1 1 1 1 1 1 1 1 1 1 1 1 1 1 4 1 1 1 1 1 1 1 4 1\n",
      " 1 4 1 1 1 1 1 1 1 1 1 1 1 1 1 1 1 1 1 1 1 1 1 1 1 3 3 3 3 3 3 3 3 3 3 3 3\n",
      " 3 3 3 3 3 3 3 3 3 3 3 3 3 3 3 3 3 3 3 3 3 3 3 3 3 3 3 3 3 3 3 3 3 3 3 3 3\n",
      " 3 3 3 3 3 3 3 0 0 6 0 0 6 6 0 0 0 0 0 0 6 0 0 6 6 0 0 0 0 6 0 6 0 0 0 6 6\n",
      " 0 0 0 0 0 0 6 0 0 6 6 6 6 0 6 0 0 6 0 6 0 0 0 6 6 0 0 6 6 0 0 2 2 2 2 2 2\n",
      " 2 2 2 0 0 5 0 2 2 2 0 2 0 2 2 6 0 2 0 2 2 2 2 2 0 5 5 5 4 4 4 4 4 4 4 4 4\n",
      " 4 4 4 4 4 4 4 4 4 4 4 4 4 4 4 4 4 4 4 4 4 4 4 4 4 4 4 4 4 4 4 4 4 4 4 4 4\n",
      " 4 4 4 4 4 4 4 4 4 4 4 3 3 3 3 3 3 3 3 3 3 3 3 3 3 3 3 3 3 3 3 3 3 3 3 3 3\n",
      " 3 3 3 3 3 3 3 3 3 3 3 3 3 3 3 3 3 3 3 3 3 3 3 3 5 5 5 5 5 5 5 5 5 5 5 5 2\n",
      " 5 5 5 5 5 5 5 5 5 2 5 5 5 5 5 2 2 5 5 5 2 5 5 5 5 5 5 5 5 5 5 5 5 5 5 5 5\n",
      " 2 5 5 5 5 5 5 5 5 2 5 5 5 5 2 5 5 2 5 5 5 5 5 5 5 5 5 5 5 5 5 2 5 5 5 5 5\n",
      " 5 5 5 5 5 5 5 2 5 5 5 5 5 5 5 5 5 5 5 2 5 5 5 5 5 5 5 5 5 5 5 5 5 5 5 5 5\n",
      " 5 5 5 5 5 5 5 5 5 5 5 5 5 5 2 0 0 0 6 2 0 0 6 0 0 6 0 0 0 0 6 6 0 6 0 6 0\n",
      " 0 0 0 0 0 6 0 0 0 6 6 0 0 6 0 6 6 0 0 6 6 6 6 6 6 0 0 0 6 6 0 6 0 6 0 6 6\n",
      " 6 0 6 5 2 5 2 5 2 2 2 2 2 5 5 2 2 5 2 2 0 2 2 5 5 5 2 2 5 5 5 5 2 5 2 2 5\n",
      " 2 5 5 2 2 2 5 5 2 2 2 2 5 2 2 5 2 2 2 5 5 2 2 0 0 0 0 0 0 0 0 0 0 0 0 0 0\n",
      " 0 0 0 0 0 0 0 0 0 0 0 0 0 0 0 0 0 0 0 0 0 0 0 0 0 0 0 0 0 0 0 0 0 0 0 0 0\n",
      " 0 0 0 0 0 0 0 0 0 0 0 0 0 0 0 0 0 0 0 0 0 0 0 6 0 0 0 0 0 0 0 0 0 0 0 0 0\n",
      " 0 0 0 0 0 0 0 0 0 0 0 0 0 0 0 0 0 0 0 0 0 6 0 0 0 0 0 0 0 0 0 0 0 0 0 0 0\n",
      " 0 0 0 0 0 0 0 0 0 0 0 0 0 0 0 0 0 0 0 0 0 0 0 0 0 0 0 0 0 0 0 0 0 0 0 0 0\n",
      " 0 0 0 0 0 0 0 0 6 6 6 6 6 6 2 6 6 6 6 6 6 0 6 6 6 6 6 6 6 6 6 6 6 6 0 6 6\n",
      " 0 6 6 6 2 6 6 6 6 6 6 6 6 6 0 2 6 6 6 6 0 4 4 4 4 4 4 4 4 4 4 4 4 4 4 4 4\n",
      " 4 4 4 4 4 4 4 4 4 4 4 4 4 4 4 4 4 4 4 4 4 4 4 4 4 4 4 4 3 3 3 3 3 3 3 3 3\n",
      " 3 3 3 3 3 3 3 3 3 3 3 3 3 3 3 3 3 3 3 3 3 3 3 3 3 3 3 3 3 3 3 3 3 3 3 6 6\n",
      " 6 6 6 6 6 6 6 6 6 6 6 0 6 6 6 6 6 6 6 6 6 6 6 6 6 6 0 0 2 0 0 0 2 0 2 0 6\n",
      " 0 0 0 0 0 0 0 0 0 2 0 0 0 0 0 2 6 0 0 2 2 0 2 6 6 6 6 6 6 6 6 6 6 6 0 6 6\n",
      " 2 6 6 6 6 6 6 6 6 6 5 6 6 6 6 6 6 6 6 6 6 0 2 6 6 6 6 2 6 6 6 6 6 6 6 0 6\n",
      " 6 6 6 6 6 2 6 6 6 6 6 6 6 6 6 6 6 6 6 6 5 6 6 6 6 0 6 6 0 6 6 6 6 6 6 6 6\n",
      " 0 6 6 6 6 5 6 6 6 6 6 0 6 6 6 6 6 6 6 6 6 6 6 6 6 6 6 2 6 6 6 6 6 6 6 6 6\n",
      " 6 0 6 6 6 6 6 6 6 0 6 6 6 6 6 6 6 6 6 0 4 4 4 4 4 4 4 4 4 4 1 4 4 4 4 4 4\n",
      " 4 4 4 4 4 4 4 4 4 4 4 4 4 4 4 4 4 4 4 4 4 4 4 4 4 4 4 4 4 4 4 4 4 4 4 4 4\n",
      " 4 4 4 4 3 3 3 3 3 3 3 3 3 3 3 3 3 3 3 3 3 3 3 3 3 3 3 3 3 3 3 3 3 3 3 3 3\n",
      " 3 3 3 3 3 3 3 3 3 3 3 3 3 3 3 3 3 3 3 3 3 3 3 2 2 2 2 2 2 2 2 2 2 2 2 2 2\n",
      " 2 2 2 2 2 2 2 2 2 2 2 2 2 2 2 2 2 0 0 0 0 0 0 6 0 0 0 0 6 2 2 0 2 2 0 0 2\n",
      " 0 0 6 0 0 0 0 6 0 0 0 2 2 5 2 5 5 0 2 2 2 5 2 6 6 6 6 6 6 6 6 6 6 6 6 6 6\n",
      " 6 6 6 6 6 6 6 6 6 6 6 6 6 6 6 6 6 6 6 6 6 6 6 6 6 6 6 6 6 6 6 6 6 6 6 6 6\n",
      " 6 6 6 6 6 6 6 6 6 6 6 6 6 6 6 6 6 6 6 6 6 6 6 6 6 6 6 6 6 6 6 6 6 6 6 6 6\n",
      " 6 6 6 6 6 6 6 6 6 6 6 6 6 6 6 6 6 6 6 6 6 6 6 6 6 6 6 6 6 6 6 6 6 6 6 6 6\n",
      " 6 6 6 6 6 1 1 1 1 1 1 1 1 1 1 1 1 1 1 1 1 1 1 1 1 1 1 1 1 1 1 1 1 1 1 1 4\n",
      " 1 1 1 1 1 1 1 1 1 1 1 1 1 1 1 1 1 1 1 1 1 1 1 1 1 1 1 1 1 1 1 1 1 1 1 1 1\n",
      " 1 1 1 1 1 1 1 1 1 1 1 6 3 3 3 3 3 3 3 3 3 3 3 6 3 3 3 3 3 6 6 3 3 3 3 3 0\n",
      " 6 6 3 3 3 3 3 3 3 3 3 3 3 3 6 3 3 3 3 3 2 0 0 0 0 0 0 2 0 0 0 2 0 0 0 0 0\n",
      " 0 2 0 2 0 0 0 0 0 2 0 2 0 2 2 0 0 2 2 0 0 0 0 0 2 6 6 6 6 6 6 6 0 6 6 0 6\n",
      " 6 6 6 6 6 6 6 6 6 6 6 6 6 6 6 6]\n",
      "Partição nítida do conjunto de dados 3:\n",
      "[4 4 4 4 4 4 0 0 0 0 4 0 4 0 0 4 4 0 4 4 4 0 4 0 0 0 4 4 0 0 1 3 3 3 1 1 1\n",
      " 1 3 1 3 1 3 3 3 1 1 1 3 1 3 1 3 3 3 3 1 1 1 1 4 4 4 4 4 4 5 4 0 6 0 4 5 4\n",
      " 4 4 4 6 4 0 4 4 4 6 4 4 0 4 4 4 6 6 5 0 5 6 6 5 5 6 0 5 0 5 0 0 5 5 0 4 5\n",
      " 6 6 5 5 6 6 5 5 6 4 4 4 0 4 0 4 4 4 4 0 0 4 0 4 4 4 4 4 4 0 4 6 4 0 4 4 0\n",
      " 4 4 5 6 5 6 5 5 6 6 5 5 6 5 6 5 5 5 5 6 5 6 5 5 5 5 5 5 5 5 5 5 2 2 2 2 2\n",
      " 2 2 2 2 2 2 2 2 2 2 2 2 2 2 2 2 2 2 2 2 2 2 2 2 2 2 2 2 2 2 2 2 2 2 2 2 2\n",
      " 2 2 2 2 2 2 2 2 2 2 2 2 2 2 2 2 2 2 2 2 2 2 2 2 2 2 2 2 2 2 2 2 2 2 2 2 5\n",
      " 5 5 5 6 5 5 5 5 5 5 5 5 5 5 5 5 6 5 5 6 6 5 5 5 5 5 5 5 6 5 5 6 5 5 6 5 5\n",
      " 5 6 5 5 5 5 5 5 5 5 5 6 6 5 6 5 6 5 6 5 5 5 5 5 6 5 5 5 5 5 5 5 5 6 5 5 5\n",
      " 5 5 5 5 5 5 6 5 5 5 5 6 5 6 4 4 4 4 4 0 4 4 4 4 4 4 4 4 0 4 4 4 4 0 4 4 4\n",
      " 4 0 4 4 4 4 4 4 4 4 4 4 4 4 4 4 4 4 4 4 4 4 4 4 4 4 4 0 4 4 4 4 4 4 4 4 4\n",
      " 4 4 4 4 4 4 4 4 4 4 4 4 0 4 4 4 4 4 4 4 4 4 4 4 4 0 4 4 4 4 4 4 4 0 4 4 5\n",
      " 6 6 5 0 5 5 0 0 6 5 5 5 0 5 5 5 6 5 5 5 5 5 5 5 5 6 5 6 6 5 6 5 6 5 5 5 6\n",
      " 5 6 5 5 5 5 5 0 6 6 6 6 0 5 5 5 0 5 5 5 0 6 5 5 5 5 5 0 6 5 5 5 5 5 5 5 5\n",
      " 5 6 5 5 5 6 5 5 6 0 5 5 6 5 5 5 5 5 6 5 5 5 5 5 0 5 6 5 5 5 5 5 5 5 0 5 5\n",
      " 0 5 6 5 5 6 5 0 5 5 6 5 6 5 5 5 5 5 5 5 5 5 5 6 5 6 6 5 6 5 5 5 6 6 6 5 0\n",
      " 6 5 5 6 6 5 5 5 6 5 0 5 4 4 4 0 0 4 0 4 6 4 6 0 0 4 4 4 4 4 0 4 4 0 0 4 0\n",
      " 0 0 0 0 4 4 0 4 0 0 4 0 4 4 4 4 0 4 0 4 6 4 4 6 4 0 0 4 4 4 6 0 4 4 4 4 4\n",
      " 0 4 4 4 4 4 0 4 4 6 4 4 4 0 4 4 4 0 0 4 4 0 4 4 4 4 0 4 0 0 0 4 4 4 4 4 0\n",
      " 4 3 3 3 3 3 3 3 3 3 3 3 3 3 3 3 3 3 3 3 3 3 3 3 3 3 3 1 3 3 3 3 3 3 3 1 3\n",
      " 3 1 3 3 3 3 3 3 3 3 3 3 1 3 3 3 3 1 3 3 3 3 3 3 3 2 2 2 2 2 2 2 2 2 2 2 2\n",
      " 2 2 2 2 2 2 2 2 2 2 2 2 2 2 2 2 2 2 2 2 2 2 2 2 2 2 2 2 2 2 2 2 2 2 2 2 2\n",
      " 2 2 2 2 2 2 2 0 6 4 0 0 4 4 0 0 0 0 0 0 4 0 0 4 4 0 0 0 0 4 0 4 0 0 0 4 4\n",
      " 0 0 0 0 0 0 4 0 0 4 4 4 4 0 4 0 0 4 0 4 0 0 0 4 4 0 0 4 4 0 0 5 0 6 6 0 5\n",
      " 6 6 6 0 0 5 6 6 6 6 0 6 0 5 6 4 6 6 6 6 6 6 5 6 6 5 5 6 1 1 1 1 1 1 1 1 1\n",
      " 1 1 1 1 1 1 1 1 1 1 1 1 1 1 1 1 1 1 1 1 1 1 1 1 1 1 1 1 1 1 1 1 1 1 1 1 1\n",
      " 1 1 1 1 1 1 1 1 1 1 1 2 2 2 2 2 2 2 2 2 2 2 2 2 2 2 2 2 2 2 2 2 2 2 2 2 2\n",
      " 2 2 2 2 2 2 2 2 2 2 2 2 2 2 2 2 2 2 2 2 2 2 2 2 5 5 5 5 5 5 5 5 5 5 5 5 5\n",
      " 5 5 5 5 5 5 5 5 5 5 5 5 5 5 5 5 5 5 5 5 6 5 5 5 5 5 5 5 5 5 5 5 5 5 5 5 5\n",
      " 5 5 5 5 5 5 5 5 5 5 5 5 5 5 5 5 5 5 5 5 5 5 5 5 5 5 5 5 5 5 5 5 5 5 5 5 5\n",
      " 5 5 5 5 5 5 5 5 5 5 5 5 5 5 5 5 5 5 5 5 5 5 5 5 5 5 5 5 5 5 5 5 5 5 5 5 5\n",
      " 5 5 5 5 5 5 5 5 5 5 5 5 5 5 5 0 0 0 4 0 0 0 4 0 0 4 0 0 4 0 4 4 0 4 0 4 0\n",
      " 0 0 0 0 4 4 0 0 0 4 4 0 0 4 0 4 4 0 0 4 4 4 4 4 4 0 0 0 4 4 0 4 0 4 0 4 4\n",
      " 4 0 4 5 6 5 5 5 6 5 5 6 5 5 5 6 6 5 6 5 6 6 6 5 5 5 6 6 5 5 5 5 5 5 6 5 5\n",
      " 5 5 5 6 5 6 5 5 6 6 6 5 5 6 5 5 6 6 6 5 5 6 5 0 0 0 0 0 0 0 0 0 0 0 0 0 0\n",
      " 0 0 0 0 0 0 0 0 0 0 0 0 0 0 0 0 0 0 0 0 0 0 0 0 0 0 0 0 0 0 0 0 0 0 0 0 0\n",
      " 0 0 0 0 0 0 0 0 0 0 0 0 0 0 0 0 0 0 0 0 0 0 0 0 0 0 0 0 0 0 0 0 0 0 0 0 0\n",
      " 0 0 0 0 0 0 0 0 0 0 0 0 0 0 0 0 0 0 0 0 0 0 0 0 0 0 0 0 0 0 0 0 0 0 0 0 0\n",
      " 0 0 0 0 0 0 0 0 0 0 0 0 0 0 0 0 0 0 0 0 0 0 0 0 0 0 0 0 0 0 0 0 0 0 0 0 0\n",
      " 0 0 0 0 0 0 0 0 4 4 4 4 4 4 6 4 4 4 4 4 4 4 4 4 4 4 4 4 4 4 4 4 4 4 6 4 4\n",
      " 4 4 4 4 6 4 4 4 4 4 4 4 4 4 0 6 4 4 4 4 0 1 1 1 1 1 1 1 1 1 1 1 1 1 1 1 1\n",
      " 1 1 1 1 1 1 1 1 1 1 1 1 1 1 1 1 1 1 1 1 1 1 1 1 1 1 1 1 2 2 2 2 2 2 2 2 2\n",
      " 2 2 2 2 2 2 2 2 2 2 2 2 2 2 2 2 2 2 2 2 2 2 2 2 2 2 2 2 2 2 2 2 2 2 2 4 4\n",
      " 4 4 4 4 4 4 4 4 4 4 4 4 4 4 4 4 4 4 4 4 4 4 4 4 4 4 0 0 0 0 0 0 0 0 0 0 4\n",
      " 0 0 0 0 0 0 0 0 0 0 0 0 0 0 0 0 4 0 0 0 5 0 6 4 4 4 4 4 4 4 4 4 4 4 0 4 4\n",
      " 6 4 4 4 4 4 4 4 4 4 5 4 4 4 4 4 4 4 4 4 4 0 6 4 4 4 4 6 4 4 4 4 4 4 4 4 4\n",
      " 4 4 4 4 4 6 4 4 4 4 4 4 4 4 4 4 4 4 4 4 5 4 4 4 4 6 4 4 4 4 4 4 4 4 4 4 4\n",
      " 6 4 4 4 4 5 4 4 4 4 4 4 4 4 4 4 4 4 4 4 4 4 4 4 4 4 4 6 4 4 4 4 4 4 4 4 4\n",
      " 4 4 4 4 4 4 4 4 4 0 4 4 4 4 4 4 4 4 4 0 1 1 1 1 1 1 1 1 1 1 3 1 1 1 1 1 1\n",
      " 1 1 1 1 1 1 1 1 1 1 1 1 1 1 1 1 1 1 1 1 1 1 1 1 1 1 1 1 1 1 1 1 1 1 1 1 1\n",
      " 1 1 1 1 2 2 2 2 2 2 2 2 2 2 2 2 2 2 2 2 2 2 2 2 2 2 2 2 2 2 2 2 2 2 2 2 2\n",
      " 2 2 2 2 2 2 2 2 2 2 2 2 2 2 2 2 2 2 2 2 2 2 2 6 6 6 6 6 6 6 6 6 6 6 6 6 6\n",
      " 6 5 6 6 6 6 6 5 6 6 6 6 6 6 5 6 0 0 0 0 0 0 0 4 0 0 4 0 4 0 0 0 0 0 0 4 0\n",
      " 6 0 4 0 0 0 0 4 0 0 0 6 6 5 6 5 5 6 6 5 6 5 6 4 4 4 4 4 4 4 4 4 4 4 4 4 4\n",
      " 4 4 4 4 4 4 4 4 4 4 4 4 4 4 4 4 4 4 4 4 4 4 4 4 4 4 4 4 4 4 4 4 4 4 4 4 4\n",
      " 4 4 4 4 4 4 4 4 4 4 4 4 4 4 4 4 4 4 4 4 4 4 4 4 4 4 4 4 4 4 4 4 4 4 4 4 4\n",
      " 4 4 4 4 4 4 4 4 4 4 4 4 4 4 4 4 4 4 4 4 4 4 4 4 4 4 4 4 4 4 4 4 4 4 4 4 4\n",
      " 4 4 4 4 4 3 3 3 3 3 3 3 3 3 3 3 3 3 3 1 3 3 3 3 3 3 3 3 3 3 3 3 3 1 3 3 1\n",
      " 1 3 3 3 3 3 3 3 3 3 3 3 3 3 1 3 3 3 3 3 3 3 3 3 3 3 3 1 3 1 3 3 3 3 3 3 3\n",
      " 3 1 3 3 3 1 3 3 3 3 3 2 2 2 2 2 2 2 2 2 2 2 2 4 2 2 2 2 2 2 2 2 2 2 2 2 0\n",
      " 2 2 2 2 2 2 2 2 2 2 2 2 2 2 2 2 2 2 2 2 6 6 6 6 0 6 6 6 0 6 6 6 6 6 6 6 6\n",
      " 6 6 6 6 6 6 6 6 6 6 6 6 6 6 6 6 0 6 6 6 6 6 6 6 6 4 4 4 4 4 4 4 0 4 4 4 0\n",
      " 4 0 4 4 4 4 4 4 4 4 4 4 4 4 4 0]\n"
     ]
    }
   ],
   "source": [
    "# Definir o número de clusters\n",
    "n_clusters = 7\n",
    "\n",
    "# Fuzzy c-means para cada dataset\n",
    "cntr1, u1, _, _, _, _, _ = fuzz.cmeans(data=df1.T, c=n_clusters, m=2, error=1e-3, maxiter=100, metric='cityblock')\n",
    "cntr2, u2, _, _, _, _, _ = fuzz.cmeans(data=df2.T, c=n_clusters, m=2, error=1e-3, maxiter=100, metric='cityblock')\n",
    "cntr3, u3, _, _, _, _, _ = fuzz.cmeans(data=X.T, c=n_clusters, m=2, error=1e-3, maxiter=100, metric='cityblock')\n",
    "\n",
    "# Obter as partições nítidas\n",
    "u1_crisp = np.argmax(u1, axis=0)\n",
    "u2_crisp = np.argmax(u2, axis=0)\n",
    "u3_crisp = np.argmax(u3, axis=0)\n",
    "\n",
    "# Imprimir os resultados das partições CRISP\n",
    "print(\"Partição nítida do conjunto de dados 1:\")\n",
    "print(u1_crisp)\n",
    "print(\"Partição nítida do conjunto de dados 2:\")\n",
    "print(u2_crisp)\n",
    "print(\"Partição nítida do conjunto de dados 3:\")\n",
    "print(u3_crisp)"
   ]
  },
  {
   "cell_type": "code",
   "execution_count": 41,
   "metadata": {},
   "outputs": [
    {
     "data": {
      "text/plain": [
       "{0: 3, 1: 6, 2: 830, 3: 11, 4: 611, 5: 522, 6: 327}"
      ]
     },
     "execution_count": 41,
     "metadata": {},
     "output_type": "execute_result"
    }
   ],
   "source": [
    "unique, counts = np.unique(u1_crisp, return_counts=True)\n",
    "\n",
    "dict(zip(unique, counts))"
   ]
  },
  {
   "cell_type": "markdown",
   "metadata": {},
   "source": [
    "O código acima utiliza o algoritmo Fuzzy c-means para realizar a clusterização de três conjuntos de dados diferentes. \n",
    "\n",
    "Definir o número de clusters: A variável n_clusters define o número desejado de clusters ou grupos que serão criados a partir dos dados.\n",
    "\n",
    "Fuzzy c-means para cada dataset: O algoritmo Fuzzy c-means é aplicado a cada conjunto de dados usando a função fuzz.cmeans. Neste caso, o primeiro conjunto terce df2 de dados do conjunto df1 X. O segundo conjunto é parâ, ometro data especifica os dados de entrada para o algoritmo, c define o número de clusters, m é um parâmetro que controla o grau de fuzzificação (usualmente definido como 2), error é o critério de erro para parar o algoritmo, maxiter define o número máximo de iterações e metric especifica a métrica de distância usada para calcular a similaridade entre os pontos.\n",
    "\n",
    "Obter as partições nítidas: A variável u1 armazena as partições fuzzy resultantes do primeiro conjunto de dados, onde cada coluna representa a pertinência de cada ponto a cada cluster. A função np.argmax é usada para obter as partições nítidas, ou seja, atribuir cada ponto ao cluster com maior pertinência. As partições nítidas são armazenadas nas variáveis u1_crisp, u2_crisp e u3_crisp.\n",
    "\n",
    "Imprimir os resultados das partições CRISP: Por fim, os resultados das partições nítidas são impressos na tela usando a função print. Cada conjunto de dados tem sua respectiva partição nítida exibida.\n",
    "\n",
    "A clusterização fuzzy permite que cada ponto pertença parcialmente a mais de um cluster, refletindo a incerteza na atribuição de clusters. No entanto, ao obter as partições nítidas, cada ponto é atribuído exclusivamente a um único cluster, simplificando a interpretação dos resultados."
   ]
  },
  {
   "cell_type": "code",
   "execution_count": 42,
   "metadata": {
    "colab": {
     "base_uri": "https://localhost:8080/",
     "height": 236
    },
    "id": "96IFSM3ekX9D",
    "outputId": "d095dad4-ca97-4c77-9601-3c160a5a0130"
   },
   "outputs": [
    {
     "name": "stdout",
     "output_type": "stream",
     "text": [
      "Adjusted Rand Index for dataset 1: 0.02931265244977159\n",
      "Adjusted Rand Index for dataset 2: 0.01437980247916568\n",
      "Adjusted Rand Index for dataset 3: 0.014155398710015086\n"
     ]
    }
   ],
   "source": [
    "# ÍNDICE DE RAND AJUSTADO\n",
    "# Converter partição fuzzy para crisp\n",
    "from sklearn.metrics import adjusted_rand_score\n",
    "\n",
    "labels1 = np.argmax(u1, axis=0)\n",
    "labels2 = np.argmax(u2, axis=0)\n",
    "labels3 = np.argmax(u3, axis=0)\n",
    "\n",
    "y1 = df1.iloc[:, -1].to_numpy()\n",
    "y2 = df2.iloc[:, -1].to_numpy()\n",
    "y3 = df3.iloc[:, -1].to_numpy()\n",
    "\n",
    "\n",
    "ari1 = adjusted_rand_score(y1, labels1)\n",
    "ari2 = adjusted_rand_score(y2, labels2)\n",
    "ari3 = adjusted_rand_score(y3, labels3)\n",
    "\n",
    "# Print results\n",
    "print(\"Adjusted Rand Index for dataset 1:\", ari1)\n",
    "print(\"Adjusted Rand Index for dataset 2:\", ari2)\n",
    "print(\"Adjusted Rand Index for dataset 3:\", ari3)"
   ]
  },
  {
   "cell_type": "markdown",
   "metadata": {},
   "source": [
    "O Índice Rand Ajustado (Adjusted Rand Index - ARI) serve para avaliar a qualidade das partições nítidas obtidas anteriormente. Vou explicar cada parte do código:\n",
    "\n",
    "Importar a métrica ARI: A linha from sklearn.metrics import adjusted_rand_score importa a função adjusted_rand_score do módulo sklearn.metrics. Essa função será usada para calcular o ARI.\n",
    "\n",
    "Obter as etiquetas nítidas: As variáveis labels1, labels2 e labels3 armazenam as partições nítidas obtidas anteriormente através da função np.argmax, seguindo o mesmo procedimento mencionado anteriormente.\n",
    "\n",
    "Obter os rótulos verdadeiros: As variáveis y1, y2 e y3 são obtidas a partir dos respectivos conjuntos de dados originais. Esses rótulos verdadeiros serão usados como referência para calcular o ARI.\n",
    "\n",
    "Calcular o ARI: O ARI é calculado para cada conjunto de dados usando a função adjusted_rand_score. Essa função compara as partições nítidas com os rótulos verdadeiros e retorna um valor entre -1 e 1, onde um valor próximo de 1 indica uma concordância forte entre as partições e os rótulos verdadeiros.\n",
    "\n",
    "Imprimir os resultados: Os valores do ARI são impressos na tela usando a função print. Cada conjunto de dados tem seu respectivo ARI exibido.\n",
    "\n",
    "O Índice Rand Ajustado é uma métrica comumente utilizada para avaliar a qualidade de algoritmos de clusterização. Ele mede a similaridade entre duas partições, levando em consideração todas as concordâncias e discordâncias entre os pontos e seus rótulos verdadeiros. Quanto mais próximo de 1 for o valor do ARI, melhor é a qualidade da clusterização."
   ]
  },
  {
   "cell_type": "code",
   "execution_count": 43,
   "metadata": {
    "id": "JsaQ_JTYshXp"
   },
   "outputs": [
    {
     "name": "stdout",
     "output_type": "stream",
     "text": [
      "[[  0   0   0   0   0   0   1   1   0   0   0]\n",
      " [  0   0   0   0 322 204   0 380 142 188 147]\n",
      " [  0   0   0   0  85 200   0 108   0   0  67]\n",
      " [  0   0   0   0   0   1   0 137   0   0   0]\n",
      " [  0   0   0   0   0   0  52   0   0   0   0]\n",
      " [  0   0   0   0   0   0 275   0   0   0   0]\n",
      " [  0   0   0   0   0   0   0   0   0   0   0]\n",
      " [  0   0   0   0   0   0   0   0   0   0   0]\n",
      " [  0   0   0   0   0   0   0   0   0   0   0]\n",
      " [  0   0   0   0   0   0   0   0   0   0   0]\n",
      " [  0   0   0   0   0   0   0   0   0   0   0]]\n"
     ]
    }
   ],
   "source": [
    "labels = np.argmax(u, axis=0)\n",
    "true_labels = np.array([int(i)-1 for i in y]) # Convert y to 0-based labels\n",
    "# Compute confusion matrix\n",
    "cm = confusion_matrix(true_labels, labels)\n",
    "print(cm)"
   ]
  },
  {
   "cell_type": "code",
   "execution_count": 44,
   "metadata": {},
   "outputs": [
    {
     "data": {
      "image/png": "[encoded data removed]",
      "text/plain": [
       "<Figure size 800x600 with 2 Axes>"
      ]
     },
     "metadata": {},
     "output_type": "display_data"
    }
   ],
   "source": [
    "import matplotlib.pyplot as plt\n",
    "import numpy as np\n",
    "\n",
    "\n",
    "# Get the number of unique classes\n",
    "num_classes = len(np.unique(true_labels))\n",
    "\n",
    "# Create a figure and axes\n",
    "fig, ax = plt.subplots(figsize=(8, 6))\n",
    "\n",
    "# Plot the confusion matrix as an image\n",
    "im = ax.imshow(cm, interpolation='nearest', cmap='Blues')\n",
    "\n",
    "# Add colorbar\n",
    "cbar = ax.figure.colorbar(im, ax=ax)\n",
    "\n",
    "# Set axis labels\n",
    "ax.set(xticks=np.arange(num_classes),\n",
    "       yticks=np.arange(num_classes),\n",
    "       xticklabels=np.arange(num_classes),\n",
    "       yticklabels=np.arange(num_classes),\n",
    "       xlabel='Predicted Cluster',\n",
    "       ylabel='True Cluster')\n",
    "\n",
    "# Rotate the x-axis tick labels\n",
    "plt.setp(ax.get_xticklabels(), rotation=45, ha=\"right\", rotation_mode=\"anchor\")\n",
    "\n",
    "# Loop over data dimensions and create text annotations\n",
    "for i in range(num_classes):\n",
    "    for j in range(num_classes):\n",
    "        text = ax.text(j, i, cm[i, j], ha=\"center\", va=\"center\", color=\"white\")\n",
    "\n",
    "# Set the title\n",
    "ax.set_title(\"Confusion Matrix\")\n",
    "\n",
    "# Display the plot\n",
    "plt.show()\n"
   ]
  },
  {
   "cell_type": "markdown",
   "metadata": {},
   "source": [
    "O código calcula a matriz de confusão (confusion matrix) com base nas partições nítidas obtidas anteriormente. Vou explicar cada parte do código:\n",
    "\n",
    "Obter as etiquetas nítidas: A variável labels é obtida através da função np.argmax, seguindo o mesmo procedimento mencionado anteriormente. Ela armazena as partições nítidas resultantes.\n",
    "\n",
    "Converter os rótulos verdadeiros: A variável true_labels é criada para armazenar os rótulos verdadeiros convertidos em uma forma adequada para cálculo da matriz de confusão. No código fornecido, há uma linha para converter os rótulos y para uma forma de rótulos baseados em 0. É assumido que os rótulos originais estão em uma forma numérica, começando em 1. O código realiza a conversão subtraindo nulo, para obter de cada uma representação rót 0-based.\n",
    "\n",
    "Calcular a matriz de confusão: A matriz de confusão é calculada usando a função confusion_matrix de alguma biblioteca que não está especificada no código fornec matriz de conf tabela que mostra ausão frequência de é uma classificaçõesido. A corretas e incorretas feitas pelo modelo. Ela é calcul de clusterizaçãoada comparando as partições nítidas com os rótulos verdadeiros.\n",
    "\n",
    "Armazenar a matriz de confusão: A matriz de confusão é armazenada na variável cm.\n",
    "\n",
    "A matriz de confusão é uma ferramenta útil para avaliar o desempenho de algoritmos de clusterização. Ela fornece informações sobre as classificações corretas e incorretas feitas pelo modelo. Cada célula da matriz representa o número de instâncias que foram classificadas em determinada combinação de rótulo verdadeiro e rótulo predito. É possível calcular várias métricas adicionais a partir da matriz de confusão, como a acurácia, a precisão, o recall e a medida F1."
   ]
  },
  {
   "cell_type": "code",
   "execution_count": 45,
   "metadata": {},
   "outputs": [
    {
     "data": {
      "text/plain": [
       "0.21540392681073228"
      ]
     },
     "execution_count": 45,
     "metadata": {},
     "output_type": "execute_result"
    }
   ],
   "source": [
    "def fmeasure(cm):\n",
    "    l = len(cm)\n",
    "    s = cm.sum()\n",
    "    s_true = cm.sum(axis = 1)\n",
    "    s_predict = cm.sum(axis = 0)\n",
    "    f_score = np.zeros((l, l))\n",
    "    for i in range(dfs):\n",
    "        for j in range(7):\n",
    "            f_score[i, j] = (2*cm[i, j])/(s_true[i]+s_predict[j])\n",
    "\n",
    "    return ((f_score.max(axis =1)*s_true).sum())/s\n",
    "\n",
    "fmeasure(cm)"
   ]
  },
  {
   "cell_type": "markdown",
   "metadata": {},
   "source": [
    "A F-measure é uma métrica utilizada para avaliar a precisão de um modelo de classificação, levando em consideração tanto a precisão (ou taxa de verdadeiros positivos) quanto a taxa de recall (ou taxa de positivos reais).\n",
    "\n",
    "A função fmeasure(cm) recebe a matriz de confusão como entrada. A matriz de confusão é uma tabela que mostra a contagem dos resultados de classificação corretos e incorretos produzidos por um classificador. Ela é geralmente usada para avaliar o desempenho de um algoritmo de aprendizado supervisionado.\n",
    "\n",
    "A primeira linha do código define a função fmeasure com um parâmetro cm, que representa a matriz de confusão.\n",
    "\n",
    "A segunda linha do código calcula o tamanho da matriz de confusão, que representa o número de classes ou categorias que estão sendo classificadas. A variável l recebe o valor do comprimento da matriz de confusão.\n",
    "\n",
    "A terceira linha do código calcula a soma de todos os elementos da matriz de confusão e atribui o valor à variável s.\n",
    "\n",
    "A quarta linha do código calcula a soma dos elementos em cada linha da matriz de confusão e atribui o resultado à variável s_true. Essa soma representa o total de exemplos reais em cada classe.\n",
    "\n",
    "A quinta linha do código calcula a soma dos elementos em cada coluna da matriz de confusão e atribui o resultado à variável s_predict. Essa soma representa o total de exemplos previstos em cada classe.\n",
    "\n",
    "A sexta linha do código cria uma matriz de zeros chamada f_score com dimensões (l, l), onde l é o número de classes. Essa matriz será usada para armazenar os valores da pontuação F-measure para cada par de classe verdadeira e prevista.\n",
    "\n",
    "A partir da sétima linha, um loop é executado para calcular a pontuação F-measure para cada par de classe verdade e j,iracorre onde i representa os índices i e prevista a classe. O loop per a classe prevista.\n",
    "\n",
    "verdadeira e j representaDentro do loop, a fórmula da pontuação F-measure é aplicada. A pontuação F-measure é calculada como o dobro da razão entre os elementos correspondentes da matriz de confusão e a soma das linhas verdadeiras (s_true[i]) mais a soma das colunas previstas (s_predict[j]).\n",
    "\n",
    "A pontuação F-measure resultante é armazenada na matriz f_score na posição correspondente (i, j).\n",
    "\n",
    "Após o loop, a última linha do código calcula o máximo valor de pontuação F-measure para cada classe verdadeira (usando f_score.max(axis=1)), multiplica-o pelo número total de exemplos verdadeiros (s_true) e, em seguida, divide pelo total de exemplos (s). Isso resulta no cálculo final da pontuação F-measure.\n",
    "\n",
    "No final, o resultado da pontuação F-measure é retornado pela função fmeasure(cm).\n",
    "\n",
    "\n",
    "\n",
    "\n",
    "\n"
   ]
  },
  {
   "cell_type": "code",
   "execution_count": 18,
   "metadata": {},
   "outputs": [
    {
     "name": "stdout",
     "output_type": "stream",
     "text": [
      "Índice de Rand entre partições 1 e 2: 0.995\n",
      "F-measure entre partições 1 e 2: 0.233\n",
      "Índice de Rand entre partições 1 e 3: 1.000\n",
      "F-measure entre partições 1 e 3: 0.000\n",
      "Índice de Rand entre partições 1 e 4: 1.000\n",
      "F-measure entre partições 1 e 4: 0.000\n",
      "Índice de Rand entre partições 1 e 5: 0.925\n",
      "F-measure entre partições 1 e 5: 0.244\n",
      "Índice de Rand entre partições 1 e 6: 0.995\n",
      "F-measure entre partições 1 e 6: 0.002\n",
      "Índice de Rand entre partições 1 e 7: 1.000\n",
      "F-measure entre partições 1 e 7: 0.185\n",
      "Índice de Rand entre partições 2 e 3: 0.995\n",
      "F-measure entre partições 2 e 3: 0.322\n",
      "Índice de Rand entre partições 2 e 4: 0.995\n",
      "F-measure entre partições 2 e 4: 0.144\n",
      "Índice de Rand entre partições 2 e 5: 0.929\n",
      "F-measure entre partições 2 e 5: 0.438\n",
      "Índice de Rand entre partições 2 e 6: 1.000\n",
      "F-measure entre partições 2 e 6: 0.000\n",
      "Índice de Rand entre partições 2 e 7: 0.995\n",
      "F-measure entre partições 2 e 7: 0.000\n",
      "Índice de Rand entre partições 3 e 4: 1.000\n",
      "F-measure entre partições 3 e 4: 0.332\n",
      "Índice de Rand entre partições 3 e 5: 0.925\n",
      "F-measure entre partições 3 e 5: 0.005\n",
      "Índice de Rand entre partições 3 e 6: 0.995\n",
      "F-measure entre partições 3 e 6: 0.280\n",
      "Índice de Rand entre partições 3 e 7: 1.000\n",
      "F-measure entre partições 3 e 7: 0.042\n",
      "Índice de Rand entre partições 4 e 5: 0.925\n",
      "F-measure entre partições 4 e 5: 0.009\n",
      "Índice de Rand entre partições 4 e 6: 0.995\n",
      "F-measure entre partições 4 e 6: 0.005\n",
      "Índice de Rand entre partições 4 e 7: 1.000\n",
      "F-measure entre partições 4 e 7: 0.000\n",
      "Índice de Rand entre partições 5 e 6: 0.929\n",
      "F-measure entre partições 5 e 6: 0.523\n",
      "Índice de Rand entre partições 5 e 7: 0.925\n",
      "F-measure entre partições 5 e 7: 0.143\n",
      "Índice de Rand entre partições 6 e 7: 0.995\n",
      "F-measure entre partições 6 e 7: 0.185\n"
     ]
    }
   ],
   "source": [
    "from sklearn.cluster import KMeans\n",
    "from sklearn.metrics.cluster import adjusted_rand_score\n",
    "from sklearn.metrics import f1_score\n",
    "\n",
    "\n",
    "# Generate 7 random partitions using KMeans\n",
    "n_clusters = 7\n",
    "partitions = []\n",
    "for i in range(n_clusters):\n",
    "    kmeans = KMeans(n_clusters=n_clusters, random_state=i)\n",
    "    labels = kmeans.fit_predict(X)\n",
    "    partitions.append(labels)\n",
    "\n",
    "# Compute ARI and F-measure for all pairs of partitions\n",
    "for i in range(n_clusters):\n",
    "    for j in range(i+1, n_clusters):\n",
    "        ari = adjusted_rand_score(partitions[i], partitions[j])\n",
    "        fmeasure = f1_score(partitions[i], partitions[j], average='weighted')\n",
    "        print(f\"Índice de Rand entre partições {i+1} e {j+1}: {ari:.3f}\")\n",
    "        print(f\"F-measure entre partições {i+1} e {j+1}: {fmeasure:.3f}\")\n"
   ]
  },
  {
   "cell_type": "markdown",
   "metadata": {},
   "source": [
    "O código apresentado realiza a avaliação de partições geradas por um algoritmo de clusterização (KMeans) utilizando métricas como o Índice de Rand Ajustado (ARI) e a F-measure.\n",
    "\n",
    "Na primeira parte do código, é importado o KMeans do módulo sklearn.cluster e as métricas adjusted_rand_score e f1_score do módulo sklearn.metrics.\n",
    "\n",
    "A variável n_clusters é definida como 7, indicando o número de partições que serão geradas. Em seguida, é criada uma lista chamada partitions que irá armazenar as partições geradas.\n",
    "\n",
    "Dentro do loop for, que itera de 0 a 6 (pois n_clusters é igual a 7), é criado um objeto KMeans com o número de clusters igual a 7 e o estado aleatório definido pelo valor de i. A função fit_predict é então aplicada ao conjunto de dados X (que não está presente no código fornecido, mas deve ser definido anteriormente). Essa função retorna as etiquetas (labels) que indicam a qual cluster cada ponto pertence na respectiva partição. Essas etiquetas são armazenadas na lista partitions.\n",
    "\n",
    "Em seguida, há outro loop for aninhado, que itera sobre todas as combinações únicas de pares de partições geradas. O loop começa a partir de i+1 para evitar repetições, pois a métrica ARI e F-measure são simétricas.\n",
    "\n",
    "Dentro desse loop, o Índice de Rand Ajustado (ARI) é calculado chamando a função adjusted_rand_score e passando as partições partitions[i] e partitions[j] como argumentos. O Índice de Rand Ajustado é uma medida de similaridade entre duas partições, que compara todos os pares de amostras e conta quantos pares são classificados de forma consistente ou inconsistentemente nas duas partições. O resultado é armazenado na variável ari.\n",
    "\n",
    "Em seguida, a F-measure é calculada chamando a função f1_score. Ela recebe as partições partitions[i] e partitions[j] como argumentos, bem como o parâmetro average definido como 'weighted'. A F-measure é uma métrica de avaliação que combina a precisão e o recall. Ela é calculada comparando as partições e medindo a similaridade entre elas. O resultado é armazenado na variável fmeasure.\n",
    "\n",
    "Por fim, o código imprime na tela os resultados do Índice de Rand Ajustado (ARI) e da F-measure para cada par de partições.\n",
    "\n",
    "O Índice de Rand Ajustado (ARI) é uma métrica que varia de -1 a 1, onde 1 indica uma concordância perfeita entre as partições e valores próximos a 0 ou negativos indicam uma discordância entre as partições.\n",
    "\n",
    "A F-measure varia de 0 a 1, onde 1 indica uma alta similaridade entre as partições e valores próximos a 0 indicam pouca similaridade. O parâmetro average é definido como 'weighted', o que significa que a média ponderada da F-measure é calculada levando em consideração o número de elementos em cada classe."
   ]
  },
  {
   "cell_type": "code",
   "execution_count": 28,
   "metadata": {},
   "outputs": [
    {
     "data": {
      "image/png": "[encoded data removed]",
      "text/plain": [
       "<Figure size 600x600 with 1 Axes>"
      ]
     },
     "metadata": {},
     "output_type": "display_data"
    }
   ],
   "source": [
    "import pandas as pd\n",
    "import numpy as np\n",
    "from sklearn.metrics import confusion_matrix\n",
    "import matplotlib.pyplot as plt\n",
    "import seaborn as sns\n",
    "\n",
    "\n",
    "# Plot the confusion matrix as a heatmap\n",
    "plt.figure(figsize=(6, 6))\n",
    "sns.heatmap(cm, annot=True, cmap='Blues', fmt='g', cbar=False)\n",
    "plt.xlabel(\"Dataset 2 Crisp Partition\")\n",
    "plt.ylabel(\"Dataset 1 Crisp Partition\")\n",
    "plt.title(\"Confusion Matrix - Crisp Partition Comparison\")\n",
    "plt.show()\n"
   ]
  },
  {
   "cell_type": "code",
   "execution_count": 29,
   "metadata": {},
   "outputs": [
    {
     "name": "stdout",
     "output_type": "stream",
     "text": [
      "Prototypes for dataset 1:\n",
      "[[1.34019824e+00 1.13616831e+00 1.72218929e+00 5.57734169e+00\n",
      "  4.33294442e+00]\n",
      " [2.40920182e+02 1.15755774e+01 2.02911060e+02 2.63768467e+01\n",
      "  2.00326404e+01]\n",
      " [5.35312048e+02 2.96380915e+01 4.23405669e+02 5.49003832e+01\n",
      "  4.75720831e+01]\n",
      " [6.03745753e+02 4.22939241e+01 1.34060432e+03 6.31669296e+01\n",
      "  5.48953019e+01]\n",
      " [2.25875745e+00 3.28335212e+00 3.61095591e+00 5.38484538e+01\n",
      "  4.79793324e+01]\n",
      " [6.89312853e-01 1.21670420e+00 1.04879497e+00 1.20079095e+02\n",
      "  1.09229286e+02]\n",
      " [2.33783863e+00 2.52964591e+00 4.13822478e+00 2.25641951e+01\n",
      "  1.97338041e+01]]\n",
      "\n",
      "Prototypes for dataset 2:\n",
      "[[  2.09146971  -1.93360943   5.90965952  -3.97605008   5.57841426\n",
      "    0.67449993  -1.66153913]\n",
      " [ 37.90794397 -14.17696612  29.54077203 -15.36380579  52.89916887\n",
      "    0.29892006  -2.06748507]\n",
      " [ 16.72703889  -7.5876825   20.5475605  -12.95987794  27.95510764\n",
      "    0.43640386  -1.88344004]\n",
      " [122.86858578 -29.35247905  43.04783484 -13.6953558  141.78321907\n",
      "    0.17117242  -2.31495119]\n",
      " [ 20.28772792  -9.24770045  -4.7048193   13.95251976  20.44340378\n",
      "    0.41415376   2.19646336]\n",
      " [ 51.18871943 -20.21873308  42.44044595 -22.22171302  72.74463677\n",
      "    0.3017268   -2.05807844]\n",
      " [100.35842381 -39.23127877  59.17190201 -19.94062279 126.72962345\n",
      "    0.26035803  -2.29831181]]\n"
     ]
    }
   ],
   "source": [
    "# Print the prototypes\n",
    "print(\"Prototypes for dataset 1:\")\n",
    "print(cntr1)\n",
    "print(\"\\nPrototypes for dataset 2:\")\n",
    "print(cntr2)"
   ]
  },
  {
   "cell_type": "code",
   "execution_count": 30,
   "metadata": {},
   "outputs": [
    {
     "data": {
      "image/png": "[encoded data removed]",
      "text/plain": [
       "<Figure size 640x480 with 1 Axes>"
      ]
     },
     "metadata": {},
     "output_type": "display_data"
    }
   ],
   "source": [
    "# Plot the prototypes\n",
    "plt.scatter(X[:, 0], X[:, 1], c='b', label='Data Points')\n",
    "plt.scatter(cntr[:, 0], cntr[:, 1], c='r', marker='s', label='Prototypes')\n",
    "plt.xlabel('Feature 1')\n",
    "plt.ylabel('Feature 2')\n",
    "plt.title('Fuzzy C-means Prototypes')\n",
    "plt.legend()\n",
    "plt.grid(True)\n",
    "plt.show()"
   ]
  },
  {
   "cell_type": "code",
   "execution_count": 31,
   "metadata": {},
   "outputs": [
    {
     "ename": "ValueError",
     "evalue": "Classification metrics can't handle a mix of continuous and multiclass targets",
     "output_type": "error",
     "traceback": [
      "\u001b[0;31m---------------------------------------------------------------------------\u001b[0m",
      "\u001b[0;31mValueError\u001b[0m                                Traceback (most recent call last)",
      "\u001b[0;32m/var/folders/kh/2q0m7g156hg30wfbbx43xn4m0000gn/T/ipykernel_50723/638738992.py\u001b[0m in \u001b[0;36m<module>\u001b[0;34m\u001b[0m\n\u001b[1;32m      3\u001b[0m \u001b[0;34m\u001b[0m\u001b[0m\n\u001b[1;32m      4\u001b[0m \u001b[0;31m# Compute the confusion matrix\u001b[0m\u001b[0;34m\u001b[0m\u001b[0;34m\u001b[0m\u001b[0m\n\u001b[0;32m----> 5\u001b[0;31m \u001b[0mcm\u001b[0m \u001b[0;34m=\u001b[0m \u001b[0mconfusion_matrix\u001b[0m\u001b[0;34m(\u001b[0m\u001b[0my\u001b[0m\u001b[0;34m,\u001b[0m \u001b[0mlabels\u001b[0m\u001b[0;34m)\u001b[0m\u001b[0;34m\u001b[0m\u001b[0;34m\u001b[0m\u001b[0m\n\u001b[0m\u001b[1;32m      6\u001b[0m \u001b[0;34m\u001b[0m\u001b[0m\n\u001b[1;32m      7\u001b[0m \u001b[0;31m# Print the confusion matrix\u001b[0m\u001b[0;34m\u001b[0m\u001b[0;34m\u001b[0m\u001b[0m\n",
      "\u001b[0;32m~/opt/anaconda3/lib/python3.9/site-packages/sklearn/metrics/_classification.py\u001b[0m in \u001b[0;36mconfusion_matrix\u001b[0;34m(y_true, y_pred, labels, sample_weight, normalize)\u001b[0m\n\u001b[1;32m    305\u001b[0m     \u001b[0;34m(\u001b[0m\u001b[0;36m0\u001b[0m\u001b[0;34m,\u001b[0m \u001b[0;36m2\u001b[0m\u001b[0;34m,\u001b[0m \u001b[0;36m1\u001b[0m\u001b[0;34m,\u001b[0m \u001b[0;36m1\u001b[0m\u001b[0;34m)\u001b[0m\u001b[0;34m\u001b[0m\u001b[0;34m\u001b[0m\u001b[0m\n\u001b[1;32m    306\u001b[0m     \"\"\"\n\u001b[0;32m--> 307\u001b[0;31m     \u001b[0my_type\u001b[0m\u001b[0;34m,\u001b[0m \u001b[0my_true\u001b[0m\u001b[0;34m,\u001b[0m \u001b[0my_pred\u001b[0m \u001b[0;34m=\u001b[0m \u001b[0m_check_targets\u001b[0m\u001b[0;34m(\u001b[0m\u001b[0my_true\u001b[0m\u001b[0;34m,\u001b[0m \u001b[0my_pred\u001b[0m\u001b[0;34m)\u001b[0m\u001b[0;34m\u001b[0m\u001b[0;34m\u001b[0m\u001b[0m\n\u001b[0m\u001b[1;32m    308\u001b[0m     \u001b[0;32mif\u001b[0m \u001b[0my_type\u001b[0m \u001b[0;32mnot\u001b[0m \u001b[0;32min\u001b[0m \u001b[0;34m(\u001b[0m\u001b[0;34m\"binary\"\u001b[0m\u001b[0;34m,\u001b[0m \u001b[0;34m\"multiclass\"\u001b[0m\u001b[0;34m)\u001b[0m\u001b[0;34m:\u001b[0m\u001b[0;34m\u001b[0m\u001b[0;34m\u001b[0m\u001b[0m\n\u001b[1;32m    309\u001b[0m         \u001b[0;32mraise\u001b[0m \u001b[0mValueError\u001b[0m\u001b[0;34m(\u001b[0m\u001b[0;34m\"%s is not supported\"\u001b[0m \u001b[0;34m%\u001b[0m \u001b[0my_type\u001b[0m\u001b[0;34m)\u001b[0m\u001b[0;34m\u001b[0m\u001b[0;34m\u001b[0m\u001b[0m\n",
      "\u001b[0;32m~/opt/anaconda3/lib/python3.9/site-packages/sklearn/metrics/_classification.py\u001b[0m in \u001b[0;36m_check_targets\u001b[0;34m(y_true, y_pred)\u001b[0m\n\u001b[1;32m     91\u001b[0m \u001b[0;34m\u001b[0m\u001b[0m\n\u001b[1;32m     92\u001b[0m     \u001b[0;32mif\u001b[0m \u001b[0mlen\u001b[0m\u001b[0;34m(\u001b[0m\u001b[0my_type\u001b[0m\u001b[0;34m)\u001b[0m \u001b[0;34m>\u001b[0m \u001b[0;36m1\u001b[0m\u001b[0;34m:\u001b[0m\u001b[0;34m\u001b[0m\u001b[0;34m\u001b[0m\u001b[0m\n\u001b[0;32m---> 93\u001b[0;31m         raise ValueError(\n\u001b[0m\u001b[1;32m     94\u001b[0m             \"Classification metrics can't handle a mix of {0} and {1} targets\".format(\n\u001b[1;32m     95\u001b[0m                 \u001b[0mtype_true\u001b[0m\u001b[0;34m,\u001b[0m \u001b[0mtype_pred\u001b[0m\u001b[0;34m\u001b[0m\u001b[0;34m\u001b[0m\u001b[0m\n",
      "\u001b[0;31mValueError\u001b[0m: Classification metrics can't handle a mix of continuous and multiclass targets"
     ]
    }
   ],
   "source": [
    "# Obtain the crisp partition\n",
    "labels = np.argmax(u, axis=0)\n",
    "\n",
    "# Compute the confusion matrix\n",
    "cm = confusion_matrix(y, labels)\n",
    "\n",
    "# Print the confusion matrix\n",
    "print(\"Confusion Matrix:\")\n",
    "print(cm)"
   ]
  },
  {
   "cell_type": "code",
   "execution_count": null,
   "metadata": {},
   "outputs": [],
   "source": []
  }
 ],
 "metadata": {
  "colab": {
   "provenance": []
  },
  "kernelspec": {
   "display_name": "Python 3 (ipykernel)",
   "language": "python",
   "name": "python3"
  },
  "language_info": {
   "codemirror_mode": {
    "name": "ipython",
    "version": 3
   },
   "file_extension": ".py",
   "mimetype": "text/x-python",
   "name": "python",
   "nbconvert_exporter": "python",
   "pygments_lexer": "ipython3",
   "version": "3.9.13"
  }
 },
 "nbformat": 4,
 "nbformat_minor": 1
}
