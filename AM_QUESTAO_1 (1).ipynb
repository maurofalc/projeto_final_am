{
 "cells": [
  {
   "cell_type": "code",
   "execution_count": 44,
   "metadata": {
    "id": "rxl5MDk5bRPm"
   },
   "outputs": [],
   "source": [
    "import skfuzzy.cluster as fuzz\n",
    "import numpy as np\n",
    "import pandas as pd\n",
    "from sklearn.metrics import confusion_matrix\n",
    "import warnings\n",
    "warnings.filterwarnings('ignore')\n",
    "\n",
    "url1 = \"https://archive.ics.uci.edu/ml/machine-learning-databases/image/segmentation.data\"\n",
    "url2 = \"https://archive.ics.uci.edu/ml/machine-learning-databases/image/segmentation.test\"\n",
    "\n",
    "cols = [\"CLASS\", \"REGION-CENTROID-COL\", \"REGION-CENTROID-ROW\", \"REGION-PIXEL-COUNT\", \"SHORT-LINE-DENSITY-5\", \"SHORT-LINE-DENSITY-2\", \"VEDGE-MEAN\", \"VEDGE-SD\", \"HEDGE-MEAN\", \"HEDGE-SD\", \"INTENSITY-MEAN\",\"RAWRED-MEAN\",\"RAWBLUE-MEAN\",\"RAWGREEN-MEAN\",\"EXRED-MEAN\",\"EXBLUE-MEAN\",\"EXGREEN-MEAN\",\"VALUE-MEAN\",\"SATURATION-MEAN\",\"HUE-MEAN\"]\n",
    "\n",
    "df1 = pd.read_csv(url1, header=2, names=cols)\n",
    "df2 = pd.read_csv(url2, header=2, names=cols)\n",
    "df3 = pd.concat([df1, df2]).drop([\"REGION-CENTROID-COL\", \"REGION-CENTROID-ROW\", \"REGION-PIXEL-COUNT\"], axis=1)\n",
    "best_Us = []"
   ]
  },
  {
   "cell_type": "code",
   "execution_count": 45,
   "metadata": {
    "id": "it_ebJJ0bTrW"
   },
   "outputs": [],
   "source": [
    "df1 = df3.iloc[:,4:9] \n",
    "df2 = df3.iloc[:,10:19]\n",
    "df3 = df3.iloc[:,4:19]"
   ]
  },
  {
   "cell_type": "code",
   "execution_count": 46,
   "metadata": {
    "id": "FxnP1ROIcQJJ"
   },
   "outputs": [],
   "source": [
    "X = df3.iloc[:, :-1].to_numpy(dtype=np.float32) \n",
    "y = df3.iloc[:, -1].to_numpy()\n",
    "X = (X - X.mean(axis=0)) / X.std(axis=0)"
   ]
  },
  {
   "cell_type": "code",
   "execution_count": 30,
   "metadata": {
    "colab": {
     "base_uri": "https://localhost:8080/"
    },
    "id": "8r5LDS9RREz2",
    "outputId": "f048d935-f410-4072-b2de-bd9c52aaf81d"
   },
   "outputs": [
    {
     "name": "stdout",
     "output_type": "stream",
     "text": [
      "Melhor resultado de acordo com a Função objetivo: 13256.059938124714\n"
     ]
    }
   ],
   "source": [
    "#Para m=2\n",
    "n_clusters = 7\n",
    "\n",
    "for df3 in range(3): \n",
    "    best_obj_func = np.inf \n",
    "    best_U = None \n",
    "    for i in range(50):\n",
    "        cntr, u, u0, d, jm, p, fpc = fuzz.cmeans(data=X.T, c=n_clusters, m=2, error=1e-3, maxiter=100, metric='cityblock')\n",
    "        if jm.mean() < best_obj_func:\n",
    "            best_obj_func = jm.mean()\n",
    "            best_U = u\n",
    "    best_Us.append(best_U) \n",
    "\n",
    "best_jm = np.inf\n",
    "\n",
    "cntr, u, _, _, jm, _, _ = fuzz.cmeans(data=X.T, c=n_clusters, m=2, error=1e-3, maxiter=1000, metric='cityblock')\n",
    "if jm.mean() < best_jm:\n",
    "    best_jm = jm.mean()\n",
    "    best_U = u\n",
    "print(\"Melhor resultado de acordo com a Função objetivo:\", best_jm)"
   ]
  },
  {
   "cell_type": "code",
   "execution_count": 31,
   "metadata": {
    "scrolled": true
   },
   "outputs": [
    {
     "name": "stdout",
     "output_type": "stream",
     "text": [
      "Prototype 1: [-0.10651887 -0.33299134 -0.11702173  2.16978788  2.16925001  2.11364037\n",
      "  2.21365936 -1.76919352  1.4050837  -0.60653643  2.12134597 -0.97841564]\n",
      "Prototype 2: [-0.05438969  0.11745102 -0.07562731  0.57685894  0.55460301  0.66921591\n",
      "  0.48141227 -0.67101216  1.08935101 -1.17281056  0.65661223 -0.54744725]\n",
      "Prototype 3: [-0.08753671 -0.39905617 -0.10204773 -0.80620583 -0.74944098 -0.83236194\n",
      " -0.82072636  1.17063625 -0.83577728  0.24217743 -0.85335061  0.40600893]\n",
      "Prototype 4: [-0.04591247 -0.01256815 -0.04876719 -0.36785526 -0.34544152 -0.32626968\n",
      " -0.43518282  0.50249667 -0.02426467 -0.46277447 -0.35119718 -0.05941045]\n",
      "Prototype 5: [-0.07597091 -0.36550827 -0.09859286 -0.88847908 -0.89717152 -0.87653078\n",
      " -0.88463804  0.64356937 -0.64902814  0.45429397 -0.9096384   1.93122111]\n",
      "Prototype 6: [-0.00806114  0.52226036  0.05274107  0.20591859  0.20955251  0.25079028\n",
      "  0.14644387 -0.13446398  0.46827947 -0.65856607  0.23264039 -0.58049795]\n",
      "Prototype 7: [-0.07669038 -0.08182623 -0.08892492 -0.54843408 -0.56765917 -0.67495331\n",
      " -0.37244215  0.2714954  -1.29396697  1.92011059 -0.56303822 -0.09682526]\n"
     ]
    }
   ],
   "source": [
    "#PROTÓTIPOS m=2\n",
    "for i, proto in enumerate(cntr):\n",
    "    print(\"Prototype {}: {}\".format(i+1, proto))"
   ]
  },
  {
   "cell_type": "code",
   "execution_count": 32,
   "metadata": {
    "colab": {
     "base_uri": "https://localhost:8080/"
    },
    "id": "TxIMKw-xRjzi",
    "outputId": "896f8f18-ea59-4efb-a16e-2a4e9cfbe06d"
   },
   "outputs": [
    {
     "name": "stdout",
     "output_type": "stream",
     "text": [
      "Melhor resultado de acordo com a Função objetivo: 22972.54762674916\n"
     ]
    }
   ],
   "source": [
    "#Para m = 1.6\n",
    "best_jm = np.inf\n",
    "cntr1, u, _, _, jm, _, _ = fuzz.cmeans(data=X.T, c=n_clusters, m=1.6, error=1e-3, maxiter=100, metric='cityblock')\n",
    "if jm.mean() < best_jm:\n",
    "    best_jm = jm.mean()\n",
    "    best_U = u\n",
    "print(\"Melhor resultado de acordo com a Função objetivo:\", best_jm)"
   ]
  },
  {
   "cell_type": "code",
   "execution_count": 33,
   "metadata": {},
   "outputs": [
    {
     "name": "stdout",
     "output_type": "stream",
     "text": [
      "Prototype 1: [-0.09253064 -0.34426159 -0.10098996  1.78589107  1.6859616   1.86699084\n",
      "  1.76546429 -2.35892539  2.00591303 -1.033154    1.87121087 -0.68953238]\n",
      "Prototype 2: [-0.09915471 -0.31418192 -0.10756322  2.3713938   2.43247724  2.2399832\n",
      "  2.44376547 -1.37396743  1.06829224 -0.43223234  2.24946592 -1.13321542]\n",
      "Prototype 3: [-0.07352944 -0.08513276 -0.08813675 -0.5638463  -0.58086196 -0.68940371\n",
      " -0.39096497  0.30407616 -1.30019104  1.89798515 -0.57993681 -0.09318532]\n",
      "Prototype 4: [-0.04532225  0.14730917 -0.08034874  0.44918647  0.43876502  0.52584084\n",
      "  0.36253661 -0.45981122  0.87986471 -1.02966459  0.511155   -0.56297195]\n",
      "Prototype 5: [-0.04701618 -0.03549724 -0.05942906 -0.34955189 -0.33489722 -0.30623861\n",
      " -0.41167295  0.41720712  0.00227524 -0.42221547 -0.33168427 -0.09184502]\n",
      "Prototype 6: [ 0.6376114   3.0309199   1.38488999  0.03735191  0.0152639   0.07154218\n",
      "  0.01729827 -0.23080128  0.25875213 -0.20696217  0.05223237 -0.49027712]\n",
      "Prototype 7: [-0.08341829 -0.39082369 -0.10426193 -0.86523967 -0.84862055 -0.86781944\n",
      " -0.86865168  0.85435222 -0.72689749  0.37486176 -0.89730044  1.20538797]\n"
     ]
    }
   ],
   "source": [
    "#PROTÓTIPOS m=1.6\n",
    "for i, proto in enumerate(cntr1):\n",
    "    print(\"Prototype {}: {}\".format(i+1, proto))"
   ]
  },
  {
   "cell_type": "code",
   "execution_count": 34,
   "metadata": {
    "colab": {
     "base_uri": "https://localhost:8080/"
    },
    "id": "mKHvPLoad6lj",
    "outputId": "aa721dea-a24d-4645-d009-5af67d7c92cd"
   },
   "outputs": [
    {
     "name": "stdout",
     "output_type": "stream",
     "text": [
      "Melhor resultado de acordo com a Função objetivo: 36956.62344599413\n"
     ]
    }
   ],
   "source": [
    "#Para m = 1.1\n",
    "best_jm = np.inf\n",
    "cntr3, u, _, _, jm, _, _ = fuzz.cmeans(data=X.T, c=n_clusters, m=1.1, error=1e-3, maxiter=100, metric='cityblock')\n",
    "if jm.mean() < best_jm:\n",
    "    best_jm = jm.mean()\n",
    "    best_U = u\n",
    "print(\"Melhor resultado de acordo com a Função objetivo:\", best_jm)"
   ]
  },
  {
   "cell_type": "code",
   "execution_count": 35,
   "metadata": {},
   "outputs": [
    {
     "name": "stdout",
     "output_type": "stream",
     "text": [
      "Prototype 1: [10.5669311   8.45142326 12.68127845  0.40077017  0.34789901  0.41078763\n",
      "  0.43531435 -0.8056354   0.39555403  0.13767882  0.39445582 -0.30562708]\n",
      "Prototype 2: [ 0.13517305  1.05405106  0.28647443 -0.02571845 -0.02924955  0.00922644\n",
      " -0.06386123 -0.0111299   0.21205554 -0.34812319 -0.01228248 -0.5132701 ]\n",
      "Prototype 3: [-0.11569066 -0.36953456 -0.1278512   1.80418859  1.70634789  1.88235872\n",
      "  1.78505487 -2.35484994  2.0013745  -1.02955113  1.8867932  -0.69905407]\n",
      "Prototype 4: [-0.05419179 -0.05696924 -0.08330753 -0.48781237 -0.48927451 -0.52381655\n",
      " -0.43794478  0.38338502 -0.64033123  0.70046249 -0.48457775 -0.01786769]\n",
      "Prototype 5: [-0.11486188 -0.31969734 -0.12524014  2.38157492  2.44566605  2.24734222\n",
      "  2.45431475 -1.35495384  1.05781406 -0.43354541  2.25692725 -1.14068506]\n",
      "Prototype 6: [-0.08121262 -0.38149864 -0.09984138 -0.86381235 -0.84895815 -0.87157754\n",
      " -0.85933282  0.83717658 -0.76032363  0.4487185  -0.89537033  1.01706498]\n",
      "Prototype 7: [-0.038888    0.14076904 -0.09111427  0.46876857  0.45693986  0.54741057\n",
      "  0.38088016 -0.4885035   0.90918767 -1.05057462  0.53300677 -0.56324193]\n"
     ]
    }
   ],
   "source": [
    "#PROTÓTIPOS m=1.1\n",
    "for i, proto in enumerate(cntr3):\n",
    "    print(\"Prototype {}: {}\".format(i+1, proto))"
   ]
  },
  {
   "cell_type": "code",
   "execution_count": 36,
   "metadata": {
    "colab": {
     "base_uri": "https://localhost:8080/"
    },
    "id": "xSzgS-qIabst",
    "outputId": "84944be8-ec62-4f47-df47-fe9be2536c2a"
   },
   "outputs": [
    {
     "name": "stdout",
     "output_type": "stream",
     "text": [
      "Modified Partition Coefficient (df1): 0.6989202045896977 Partition entropy (df1): 1.8946365173696853\n",
      "Modified Partition Coefficient (df2): 0.25718111384765524 Partition entropy (df2): 1.8724478571921397\n",
      "Modified Partition Coefficient (df3): 0.982283422113123 Partition entropy (df3): 1.8724482431549916 \n"
     ]
    }
   ],
   "source": [
    "#MODIFIED PARTITION COEFFICIENT \n",
    "\n",
    "#Para df1\n",
    "cntr, u, u0, d, jm, p, fpc = fuzz.cmeans(data=X.T, c=n_clusters, m=2, error=1e-3, maxiter=100, metric='cityblock')\n",
    "FE = -np.sum(u*np.log(u))\n",
    "PE = -np.sum(u.mean(axis=1)*np.log(u.mean(axis=1)))\n",
    "PC = np.sum(np.max(u, axis=0)) / X.shape[0]\n",
    "print(f\"Modified Partition Coefficient (df1): {PC} Partition entropy (df1): {PE}\")\n",
    "\n",
    "#Para df2\n",
    "cntr, u, u0, d, jm, p, fpc = fuzz.cmeans(data=X.T, c=n_clusters, m=2, error=1e-3, maxiter=100, metric='cityblock')\n",
    "FE = -np.sum(u*np.log(u))\n",
    "PE = -np.sum(u.mean(axis=1)*np.log(u.mean(axis=1)))\n",
    "PC = np.sum(np.max(u0, axis=0)) / X.shape[0]\n",
    "print(f\"Modified Partition Coefficient (df2): {PC} Partition entropy (df2): {PE}\")\n",
    "\n",
    "#Para df3\n",
    "cntr, u, u0, d, jm, p, fpc = fuzz.cmeans(data=X.T, c=n_clusters, m=2, error=1e-3, maxiter=100, metric='cityblock')\n",
    "FE = -np.sum(u*np.log(u))\n",
    "PE = -np.sum(u.mean(axis=1)*np.log(u.mean(axis=1)))\n",
    "PC = np.sum(np.max(best_U, axis=0)) / X.shape[0]\n",
    "print(f\"Modified Partition Coefficient (df3): {PC} Partition entropy (df3): {PE} \")\n"
   ]
  },
  {
   "cell_type": "code",
   "execution_count": 37,
   "metadata": {
    "colab": {
     "base_uri": "https://localhost:8080/"
    },
    "id": "Fgigc-vcjcTl",
    "outputId": "a8172c2a-29ed-455d-d1ce-f21ca5e704d9",
    "scrolled": true
   },
   "outputs": [
    {
     "name": "stdout",
     "output_type": "stream",
     "text": [
      "Partição nítida do conjunto de dados 1:\n",
      "[2 2 2 ... 2 2 2]\n",
      "Partição nítida do conjunto de dados 2:\n",
      "[0 0 0 ... 0 0 0]\n",
      "Partição nítida do conjunto de dados 3:\n",
      "[4 4 4 ... 4 4 3]\n"
     ]
    }
   ],
   "source": [
    "n_clusters = 7\n",
    "\n",
    "cntr1, u1, _, _, _, _, _ = fuzz.cmeans(data=df1.T, c=n_clusters, m=2, error=1e-3, maxiter=100, metric='cityblock')\n",
    "cntr2, u2, _, _, _, _, _ = fuzz.cmeans(data=df2.T, c=n_clusters, m=2, error=1e-3, maxiter=100, metric='cityblock')\n",
    "cntr3, u3, _, _, _, _, _ = fuzz.cmeans(data=X.T, c=n_clusters, m=2, error=1e-3, maxiter=100, metric='cityblock')\n",
    "\n",
    "u1_crisp = np.argmax(u1, axis=0)\n",
    "u2_crisp = np.argmax(u2, axis=0)\n",
    "u3_crisp = np.argmax(u3, axis=0)\n",
    "\n",
    "print(\"Partição nítida do conjunto de dados 1:\")\n",
    "print(u1_crisp)\n",
    "print(\"Partição nítida do conjunto de dados 2:\")\n",
    "print(u2_crisp)\n",
    "print(\"Partição nítida do conjunto de dados 3:\")\n",
    "print(u3_crisp)"
   ]
  },
  {
   "cell_type": "code",
   "execution_count": 47,
   "metadata": {
    "colab": {
     "base_uri": "https://localhost:8080/",
     "height": 236
    },
    "id": "96IFSM3ekX9D",
    "outputId": "d095dad4-ca97-4c77-9601-3c160a5a0130"
   },
   "outputs": [
    {
     "name": "stdout",
     "output_type": "stream",
     "text": [
      "Adjusted Rand Index for dataset 1: 0.030921785423623033\n",
      "Adjusted Rand Index for dataset 2: 0.01437980247916568\n",
      "Adjusted Rand Index for dataset 3: 0.014155398710015086\n"
     ]
    }
   ],
   "source": [
    "# ÍNDICE DE RAND AJUSTADO\n",
    "\n",
    "from sklearn.metrics import adjusted_rand_score\n",
    "\n",
    "labels1 = np.argmax(u1, axis=0)\n",
    "labels2 = np.argmax(u2, axis=0)\n",
    "labels3 = np.argmax(u3, axis=0)\n",
    "\n",
    "y1 = df1.iloc[:, -1].to_numpy()\n",
    "y2 = df2.iloc[:, -1].to_numpy()\n",
    "y3 = df3.iloc[:, -1].to_numpy()\n",
    "\n",
    "\n",
    "ari1 = adjusted_rand_score(y1, labels1)\n",
    "ari2 = adjusted_rand_score(y2, labels2)\n",
    "ari3 = adjusted_rand_score(y3, labels3)\n",
    "\n",
    "# Print results\n",
    "print(\"Adjusted Rand Index for dataset 1:\", ari1)\n",
    "print(\"Adjusted Rand Index for dataset 2:\", ari2)\n",
    "print(\"Adjusted Rand Index for dataset 3:\", ari3)"
   ]
  },
  {
   "cell_type": "code",
   "execution_count": 43,
   "metadata": {
    "id": "JsaQ_JTYshXp"
   },
   "outputs": [
    {
     "name": "stdout",
     "output_type": "stream",
     "text": [
      "[[  0   0   0   0   0   0   1   1   0   0   0]\n",
      " [  0   0   0   0 322 204   0 380 142 188 147]\n",
      " [  0   0   0   0  85 200   0 108   0   0  67]\n",
      " [  0   0   0   0   0   1   0 137   0   0   0]\n",
      " [  0   0   0   0   0   0  52   0   0   0   0]\n",
      " [  0   0   0   0   0   0 275   0   0   0   0]\n",
      " [  0   0   0   0   0   0   0   0   0   0   0]\n",
      " [  0   0   0   0   0   0   0   0   0   0   0]\n",
      " [  0   0   0   0   0   0   0   0   0   0   0]\n",
      " [  0   0   0   0   0   0   0   0   0   0   0]\n",
      " [  0   0   0   0   0   0   0   0   0   0   0]]\n"
     ]
    }
   ],
   "source": [
    "labels = np.argmax(u, axis=0)\n",
    "true_labels = np.array([int(i)-1 for i in y]) # Convert y to 0-based labels\n",
    "\n",
    "cm = confusion_matrix(true_labels, labels)\n",
    "print(cm)"
   ]
  },
  {
   "cell_type": "code",
   "execution_count": 44,
   "metadata": {},
   "outputs": [
    {
     "data": {
      "image/png": "[encoded data removed]",
      "text/plain": [
       "<Figure size 800x600 with 2 Axes>"
      ]
     },
     "metadata": {},
     "output_type": "display_data"
    }
   ],
   "source": [
    "import matplotlib.pyplot as plt\n",
    "import numpy as np\n",
    "\n",
    "num_classes = len(np.unique(true_labels))\n",
    "fig, ax = plt.subplots(figsize=(8, 6))\n",
    "\n",
    "im = ax.imshow(cm, interpolation='nearest', cmap='Blues')\n",
    "cbar = ax.figure.colorbar(im, ax=ax)\n",
    "\n",
    "ax.set(xticks=np.arange(num_classes),\n",
    "       yticks=np.arange(num_classes),\n",
    "       xticklabels=np.arange(num_classes),\n",
    "       yticklabels=np.arange(num_classes),\n",
    "       xlabel='Predicted Cluster',\n",
    "       ylabel='True Cluster')\n",
    "\n",
    "plt.setp(ax.get_xticklabels(), rotation=45, ha=\"right\", rotation_mode=\"anchor\")\n",
    "\n",
    "for i in range(num_classes):\n",
    "    for j in range(num_classes):\n",
    "        text = ax.text(j, i, cm[i, j], ha=\"center\", va=\"center\", color=\"white\")\n",
    "\n",
    "\n",
    "ax.set_title(\"Confusion Matrix\")\n",
    "plt.show()\n"
   ]
  },
  {
   "cell_type": "code",
   "execution_count": 45,
   "metadata": {},
   "outputs": [
    {
     "data": {
      "text/plain": [
       "0.21540392681073228"
      ]
     },
     "execution_count": 45,
     "metadata": {},
     "output_type": "execute_result"
    }
   ],
   "source": [
    "def fmeasure(cm):\n",
    "    l = len(cm)\n",
    "    s = cm.sum()\n",
    "    s_true = cm.sum(axis = 1)\n",
    "    s_predict = cm.sum(axis = 0)\n",
    "    f_score = np.zeros((l, l))\n",
    "    for i in range(dfs):\n",
    "        for j in range(7):\n",
    "            f_score[i, j] = (2*cm[i, j])/(s_true[i]+s_predict[j])\n",
    "\n",
    "    return ((f_score.max(axis =1)*s_true).sum())/s\n",
    "\n",
    "fmeasure(cm)"
   ]
  },
  {
   "cell_type": "code",
   "execution_count": 18,
   "metadata": {},
   "outputs": [
    {
     "name": "stdout",
     "output_type": "stream",
     "text": [
      "Índice de Rand entre partições 1 e 2: 0.995\n",
      "F-measure entre partições 1 e 2: 0.233\n",
      "Índice de Rand entre partições 1 e 3: 1.000\n",
      "F-measure entre partições 1 e 3: 0.000\n",
      "Índice de Rand entre partições 1 e 4: 1.000\n",
      "F-measure entre partições 1 e 4: 0.000\n",
      "Índice de Rand entre partições 1 e 5: 0.925\n",
      "F-measure entre partições 1 e 5: 0.244\n",
      "Índice de Rand entre partições 1 e 6: 0.995\n",
      "F-measure entre partições 1 e 6: 0.002\n",
      "Índice de Rand entre partições 1 e 7: 1.000\n",
      "F-measure entre partições 1 e 7: 0.185\n",
      "Índice de Rand entre partições 2 e 3: 0.995\n",
      "F-measure entre partições 2 e 3: 0.322\n",
      "Índice de Rand entre partições 2 e 4: 0.995\n",
      "F-measure entre partições 2 e 4: 0.144\n",
      "Índice de Rand entre partições 2 e 5: 0.929\n",
      "F-measure entre partições 2 e 5: 0.438\n",
      "Índice de Rand entre partições 2 e 6: 1.000\n",
      "F-measure entre partições 2 e 6: 0.000\n",
      "Índice de Rand entre partições 2 e 7: 0.995\n",
      "F-measure entre partições 2 e 7: 0.000\n",
      "Índice de Rand entre partições 3 e 4: 1.000\n",
      "F-measure entre partições 3 e 4: 0.332\n",
      "Índice de Rand entre partições 3 e 5: 0.925\n",
      "F-measure entre partições 3 e 5: 0.005\n",
      "Índice de Rand entre partições 3 e 6: 0.995\n",
      "F-measure entre partições 3 e 6: 0.280\n",
      "Índice de Rand entre partições 3 e 7: 1.000\n",
      "F-measure entre partições 3 e 7: 0.042\n",
      "Índice de Rand entre partições 4 e 5: 0.925\n",
      "F-measure entre partições 4 e 5: 0.009\n",
      "Índice de Rand entre partições 4 e 6: 0.995\n",
      "F-measure entre partições 4 e 6: 0.005\n",
      "Índice de Rand entre partições 4 e 7: 1.000\n",
      "F-measure entre partições 4 e 7: 0.000\n",
      "Índice de Rand entre partições 5 e 6: 0.929\n",
      "F-measure entre partições 5 e 6: 0.523\n",
      "Índice de Rand entre partições 5 e 7: 0.925\n",
      "F-measure entre partições 5 e 7: 0.143\n",
      "Índice de Rand entre partições 6 e 7: 0.995\n",
      "F-measure entre partições 6 e 7: 0.185\n"
     ]
    }
   ],
   "source": [
    "from sklearn.cluster import KMeans\n",
    "from sklearn.metrics.cluster import adjusted_rand_score\n",
    "from sklearn.metrics import f1_score\n",
    "\n",
    "n_clusters = 7\n",
    "partitions = []\n",
    "for i in range(n_clusters):\n",
    "    kmeans = KMeans(n_clusters=n_clusters, random_state=i)\n",
    "    labels = kmeans.fit_predict(X)\n",
    "    partitions.append(labels)\n",
    "\n",
    "for i in range(n_clusters):\n",
    "    for j in range(i+1, n_clusters):\n",
    "        ari = adjusted_rand_score(partitions[i], partitions[j])\n",
    "        fmeasure = f1_score(partitions[i], partitions[j], average='weighted')\n",
    "        print(f\"Índice de Rand entre partições {i+1} e {j+1}: {ari:.3f}\")\n",
    "        print(f\"F-measure entre partições {i+1} e {j+1}: {fmeasure:.3f}\")\n"
   ]
  },
  {
   "cell_type": "code",
   "execution_count": 28,
   "metadata": {},
   "outputs": [
    {
     "data": {
      "image/png": "[encoded data removed]",
      "text/plain": [
       "<Figure size 600x600 with 1 Axes>"
      ]
     },
     "metadata": {},
     "output_type": "display_data"
    }
   ],
   "source": [
    "import pandas as pd\n",
    "import numpy as np\n",
    "from sklearn.metrics import confusion_matrix\n",
    "import matplotlib.pyplot as plt\n",
    "import seaborn as sns\n",
    "\n",
    "plt.figure(figsize=(6, 6))\n",
    "sns.heatmap(cm, annot=True, cmap='Blues', fmt='g', cbar=False)\n",
    "plt.xlabel(\"Dataset 2 Crisp Partition\")\n",
    "plt.ylabel(\"Dataset 1 Crisp Partition\")\n",
    "plt.title(\"Confusion Matrix - Crisp Partition Comparison\")\n",
    "plt.show()\n"
   ]
  },
  {
   "cell_type": "code",
   "execution_count": null,
   "metadata": {},
   "outputs": [],
   "source": []
  }
 ],
 "metadata": {
  "colab": {
   "provenance": []
  },
  "kernelspec": {
   "display_name": "Python 3 (ipykernel)",
   "language": "python",
   "name": "python3"
  },
  "language_info": {
   "codemirror_mode": {
    "name": "ipython",
    "version": 3
   },
   "file_extension": ".py",
   "mimetype": "text/x-python",
   "name": "python",
   "nbconvert_exporter": "python",
   "pygments_lexer": "ipython3",
   "version": "3.9.13"
  }
 },
 "nbformat": 4,
 "nbformat_minor": 1
}
